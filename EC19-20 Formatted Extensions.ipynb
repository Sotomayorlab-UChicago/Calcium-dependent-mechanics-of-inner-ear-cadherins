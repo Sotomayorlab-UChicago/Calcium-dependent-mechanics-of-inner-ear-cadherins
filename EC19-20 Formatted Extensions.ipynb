{
 "cells": [
  {
   "cell_type": "code",
   "execution_count": null,
   "id": "db781556",
   "metadata": {},
   "outputs": [],
   "source": [
    "using Pkg\n",
    "Pkg.activate(\"./Project.toml\");"
   ]
  },
  {
   "cell_type": "code",
   "execution_count": null,
   "id": "b1b982d0",
   "metadata": {},
   "outputs": [],
   "source": [
    "using CSV,DataFrames,Plots,Measures,ColorSchemes,GaussianMixtures,Distributions,StaticArrays,Random; gr();\n",
    "Plots.gr_cbar_width[] = 0.015\n",
    "plt = palette(:jet);"
   ]
  },
  {
   "cell_type": "code",
   "execution_count": null,
   "id": "738da73e",
   "metadata": {},
   "outputs": [],
   "source": [
    "pwd()"
   ]
  },
  {
   "cell_type": "markdown",
   "id": "7bc80f98",
   "metadata": {},
   "source": [
    "## Load the force versus extension data"
   ]
  },
  {
   "cell_type": "code",
   "execution_count": null,
   "id": "89b6251d",
   "metadata": {},
   "outputs": [],
   "source": [
    "flpath = \"extensionfiles/\";"
   ]
  },
  {
   "cell_type": "code",
   "execution_count": null,
   "id": "03559919",
   "metadata": {},
   "outputs": [],
   "source": [
    "df0 = CSV.read(flpath*\"mmcdh23EC19-20_0CA_mstext.csv\",DataFrame)\n",
    "df1 = CSV.read(flpath*\"mmcdh23EC19-20_1CA_mstext.csv\",DataFrame)\n",
    "df2 = CSV.read(flpath*\"mmcdh23EC19-20_2CA_mstext.csv\",DataFrame)\n",
    "df3 = CSV.read(flpath*\"mmcdh23EC19-20_3CA_mstext.csv\",DataFrame)\n",
    "dfCASite1 = CSV.read(flpath*\"mmcdh23EC19-20_CASite1_mstext.csv\",DataFrame)\n",
    "dfCASite2 = CSV.read(flpath*\"mmcdh23EC19-20_CASite2_mstext.csv\",DataFrame)\n",
    "dfCASite21 = CSV.read(flpath*\"mmcdh23EC19-20_CASite21_mstext.csv\",DataFrame)\n",
    "dfCASite31 = CSV.read(flpath*\"mmcdh23EC19-20_CASite31_mstext.csv\",DataFrame);\n",
    "first(df0,3)"
   ]
  },
  {
   "cell_type": "code",
   "execution_count": null,
   "id": "7ca675e6",
   "metadata": {},
   "outputs": [],
   "source": [
    "transform!(df0,\"Timestep\"=>(x->x*2e-6)=>\"time (ns)\"); select!(df0,Not(\"Timestep\")); select!(df0,ncol(df0),1:ncol(df0)-1);\n",
    "transform!(df1,\"Timestep\"=>(x->x*2e-6)=>\"time (ns)\"); select!(df1,Not(\"Timestep\")); select!(df1,ncol(df1),1:ncol(df1)-1)\n",
    "transform!(df2,\"Timestep\"=>(x->x*2e-6)=>\"time (ns)\"); select!(df2,Not(\"Timestep\")); select!(df2,ncol(df2),1:ncol(df2)-1)\n",
    "transform!(df3,\"Timestep\"=>(x->x*2e-6)=>\"time (ns)\"); select!(df3,Not(\"Timestep\")); select!(df3,ncol(df3),1:ncol(df3)-1)\n",
    "\n",
    "transform!(dfCASite1,\"Timestep\"=>(x->x*2e-6)=>\"time (ns)\"); select!(dfCASite1,Not(\"Timestep\")); select!(dfCASite1,ncol(dfCASite1),1:ncol(dfCASite1)-1)\n",
    "transform!(dfCASite2,\"Timestep\"=>(x->x*2e-6)=>\"time (ns)\"); select!(dfCASite2,Not(\"Timestep\")); select!(dfCASite2,ncol(dfCASite2),1:ncol(dfCASite2)-1)\n",
    "transform!(dfCASite21,\"Timestep\"=>(x->x*2e-6)=>\"time (ns)\"); select!(dfCASite21,Not(\"Timestep\")); select!(dfCASite21,ncol(dfCASite21),1:ncol(dfCASite21)-1)\n",
    "transform!(dfCASite31,\"Timestep\"=>(x->x*2e-6)=>\"time (ns)\"); select!(dfCASite31,Not(\"Timestep\")); select!(dfCASite31,ncol(dfCASite31),1:ncol(dfCASite31)-1)\n",
    "\n",
    "sort!(df0,\"time (ns)\"); sort!(df1,\"time (ns)\"); sort!(df2,\"time (ns)\"); sort!(df3,\"time (ns)\");\n",
    "sort!(dfCASite1,\"time (ns)\"); sort!(dfCASite2,\"time (ns)\"); sort!(dfCASite21,\"time (ns)\"); sort!(dfCASite31,\"time (ns)\");\n",
    "\n",
    "first(df0,3)"
   ]
  },
  {
   "cell_type": "code",
   "execution_count": null,
   "id": "f24fd862",
   "metadata": {},
   "outputs": [],
   "source": [
    "p0 = plot(df0[1:100:end,\"Delta X(nm)\"],-df0[1:100:end,\"Left Fx(pN)\"],linewidth=2,size=(450,200),ylabel=\"force (pN)\",xlabel=\"extension (nm)\",labels=\"0 Ca\")\n",
    "p1 = plot(df1[1:100:end,\"Delta X(nm)\"],-df1[1:100:end,\"Left Fx(pN)\"],linewidth=2,size=(450,200),ylabel=\"force (pN)\",xlabel=\"extension (nm)\",labels=\"1 Ca\")\n",
    "p2 = plot(df2[1:100:end,\"Delta X(nm)\"],-df2[1:100:end,\"Left Fx(pN)\"],linewidth=2,size=(450,200),ylabel=\"force (pN)\",xlabel=\"extension (nm)\",labels=\"2 Ca\")\n",
    "p3 = plot(df3[1:100:end,\"Delta X(nm)\"],-df3[1:100:end,\"Left Fx(pN)\"],linewidth=2,size=(450,200),ylabel=\"force (pN)\",xlabel=\"extension (nm)\",labels=\"3 Ca\")\n",
    "\n",
    "pCASite1 = plot(dfCASite1[1:100:end,\"Delta X(nm)\"],-dfCASite1[1:100:end,\"Left Fx(pN)\"],linewidth=2,size=(450,200),ylabel=\"force (pN)\",xlabel=\"extension (nm)\",labels=\"CASite1\")\n",
    "pCASite2 = plot(dfCASite2[1:100:end,\"Delta X(nm)\"],-dfCASite2[1:100:end,\"Left Fx(pN)\"],linewidth=2,size=(450,200),ylabel=\"force (pN)\",xlabel=\"extension (nm)\",labels=\"CASite2\")\n",
    "pCASite21 = plot(dfCASite21[1:100:end,\"Delta X(nm)\"],-dfCASite21[1:100:end,\"Left Fx(pN)\"],linewidth=2,size=(450,200),ylabel=\"force (pN)\",xlabel=\"extension (nm)\",labels=\"CASite21\")\n",
    "pCASite31 = plot(dfCASite31[1:100:end,\"Delta X(nm)\"],-dfCASite31[1:100:end,\"Left Fx(pN)\"],linewidth=2,size=(450,200),ylabel=\"force (pN)\",xlabel=\"extension (nm)\",labels=\"CASite31\")\n",
    "\n",
    "lay = @layout [a b c d;e f g h]\n",
    "plot(p0,p1,p2,p3,pCASite1,pCASite2,pCASite21,pCASite31,layout=lay,size=(300*4,400),margin=6mm)"
   ]
  },
  {
   "cell_type": "markdown",
   "id": "a1558f77",
   "metadata": {},
   "source": [
    "#### Compute time point at which maximum force occurs and truncate the data"
   ]
  },
  {
   "cell_type": "code",
   "execution_count": null,
   "id": "ea408afc",
   "metadata": {},
   "outputs": [],
   "source": [
    "f0max = maximum(-df0[!,\"Left Fx(pN)\"]); pos0 = findfirst((-df0[!,\"Left Fx(pN)\"]).==f0max) \n",
    "f1max = maximum(-df1[!,\"Left Fx(pN)\"]); pos1 = findfirst((-df1[!,\"Left Fx(pN)\"]).==f1max)\n",
    "f2max = maximum(-df2[!,\"Left Fx(pN)\"]); pos2 = findfirst((-df2[!,\"Left Fx(pN)\"]).==f2max)\n",
    "f3max = maximum(-df3[!,\"Left Fx(pN)\"]); pos3 = findfirst((-df3[!,\"Left Fx(pN)\"]).==f3max)\n",
    "\n",
    "fCASite1max = maximum(-dfCASite1[!,\"Left Fx(pN)\"]);   posCASite1 = findfirst((-dfCASite1[!,\"Left Fx(pN)\"]).==fCASite1max)\n",
    "fCASite2max = maximum(-dfCASite2[!,\"Left Fx(pN)\"]);   posCASite2 = findfirst((-dfCASite2[!,\"Left Fx(pN)\"]).==fCASite2max)\n",
    "fCASite21max = maximum(-dfCASite21[!,\"Left Fx(pN)\"]); posCASite21 = findfirst((-dfCASite21[!,\"Left Fx(pN)\"]).==fCASite21max)\n",
    "fCASite31max = maximum(-dfCASite31[!,\"Left Fx(pN)\"]); posCASite31 = findfirst((-dfCASite31[!,\"Left Fx(pN)\"]).==fCASite31max);"
   ]
  },
  {
   "cell_type": "code",
   "execution_count": null,
   "id": "75b6704a",
   "metadata": {},
   "outputs": [],
   "source": [
    "df0 = df0[1:pos0,:]\n",
    "df1 = df1[1:pos1,:]\n",
    "df2 = df2[1:pos2,:]\n",
    "df3 = df3[1:pos3,:]\n",
    "\n",
    "dfCASite1 = dfCASite1[1:posCASite1,:]\n",
    "dfCASite2 = dfCASite2[1:posCASite2,:]\n",
    "dfCASite21 = dfCASite21[1:posCASite21,:]\n",
    "dfCASite31 = dfCASite31[1:posCASite31,:];"
   ]
  },
  {
   "cell_type": "markdown",
   "id": "9481835e",
   "metadata": {},
   "source": [
    "Plot the truncated portions of force vs extension to verify we've selected the desired parts of the curve."
   ]
  },
  {
   "cell_type": "code",
   "execution_count": null,
   "id": "47aeda33",
   "metadata": {},
   "outputs": [],
   "source": [
    "p0 = plot(df0[1:100:end,\"Delta X(nm)\"],-df0[1:100:end,\"Left Fx(pN)\"],linewidth=2,size=(450,200),ylabel=\"force (pN)\",xlabel=\"extension (nm)\",labels=\"0 Ca\")\n",
    "p1 = plot(df1[1:100:end,\"Delta X(nm)\"],-df1[1:100:end,\"Left Fx(pN)\"],linewidth=2,size=(450,200),ylabel=\"force (pN)\",xlabel=\"extension (nm)\",labels=\"1 Ca\")\n",
    "p2 = plot(df2[1:100:end,\"Delta X(nm)\"],-df2[1:100:end,\"Left Fx(pN)\"],linewidth=2,size=(450,200),ylabel=\"force (pN)\",xlabel=\"extension (nm)\",labels=\"2 Ca\")\n",
    "p3 = plot(df3[1:100:end,\"Delta X(nm)\"],-df3[1:100:end,\"Left Fx(pN)\"],linewidth=2,size=(450,200),ylabel=\"force (pN)\",xlabel=\"extension (nm)\",labels=\"3 Ca\")\n",
    "\n",
    "pCASite1 = plot(dfCASite1[1:100:end,\"Delta X(nm)\"],-dfCASite1[1:100:end,\"Left Fx(pN)\"],linewidth=2,size=(450,200),ylabel=\"force (pN)\",xlabel=\"extension (nm)\",labels=\"CASite1\")\n",
    "pCASite2 = plot(dfCASite2[1:100:end,\"Delta X(nm)\"],-dfCASite2[1:100:end,\"Left Fx(pN)\"],linewidth=2,size=(450,200),ylabel=\"force (pN)\",xlabel=\"extension (nm)\",labels=\"CASite2\")\n",
    "pCASite21 = plot(dfCASite21[1:100:end,\"Delta X(nm)\"],-dfCASite21[1:100:end,\"Left Fx(pN)\"],linewidth=2,size=(450,200),ylabel=\"force (pN)\",xlabel=\"extension (nm)\",labels=\"CASite21\")\n",
    "pCASite31 = plot(dfCASite31[1:100:end,\"Delta X(nm)\"],-dfCASite31[1:100:end,\"Left Fx(pN)\"],linewidth=2,size=(450,200),ylabel=\"force (pN)\",xlabel=\"extension (nm)\",labels=\"CASite31\")\n",
    "\n",
    "lay = @layout [a b c d;e f g h]\n",
    "plot(p0,p1,p2,p3,pCASite1,pCASite2,pCASite21,pCASite31,layout=lay,size=(300*4,400),margin=6mm)"
   ]
  },
  {
   "cell_type": "markdown",
   "id": "dbc18590",
   "metadata": {},
   "source": [
    "#### Interpolate the force data onto same time axis as the extension data"
   ]
  },
  {
   "cell_type": "code",
   "execution_count": null,
   "id": "6265c010",
   "metadata": {},
   "outputs": [],
   "source": [
    "ts = [t for t in df0[1,\"time (ns)\"]:0.001:df0[end,\"time (ns)\"]]; nts = length(ts)\n",
    "ys = Vector{Float64}(undef,nts)\n",
    "for ℓ=1:nts\n",
    "    tnow = ts[ℓ]\n",
    "    posa = findlast(df0[!,\"time (ns)\"].<=tnow);\n",
    "    if posa == nrow(df0)\n",
    "        ys[ℓ] = df0[end,\"Avg F(pN)\"]\n",
    "        continue\n",
    "    end\n",
    "    ta = df0[posa,\"time (ns)\"]; tb = df0[posa+1,\"time (ns)\"]\n",
    "    u = (tnow-ta)/(tb-ta)\n",
    "    ys[ℓ] = (1-u)*df0[posa,\"Avg F(pN)\"]+u*df0[posa+1,\"Avg F(pN)\"]\n",
    "end;\n",
    "\n",
    "Mtmp = hcat(reshape(ts,:,1),reshape(ys,:,1))\n",
    "df0_interp = DataFrame(Mtmp,[\"time (ns)\",\"Avg F(pN)\"]);"
   ]
  },
  {
   "cell_type": "code",
   "execution_count": null,
   "id": "85393b16",
   "metadata": {},
   "outputs": [],
   "source": [
    "ts = [t for t in df1[1,\"time (ns)\"]:0.001:df1[end,\"time (ns)\"]]; nts = length(ts)\n",
    "ys = Vector{Float64}(undef,nts)\n",
    "for ℓ=1:nts\n",
    "    tnow = ts[ℓ]\n",
    "    posa = findlast(df1[!,\"time (ns)\"].<=tnow);\n",
    "    if posa == nrow(df1)\n",
    "        ys[ℓ] = df1[end,\"Avg F(pN)\"]\n",
    "        continue\n",
    "    end\n",
    "    ta = df1[posa,\"time (ns)\"]; tb = df1[posa+1,\"time (ns)\"]\n",
    "    u = (tnow-ta)/(tb-ta)\n",
    "    ys[ℓ] = (1-u)*df1[posa,\"Avg F(pN)\"]+u*df1[posa+1,\"Avg F(pN)\"]\n",
    "end;\n",
    "\n",
    "Mtmp = hcat(reshape(ts,:,1),reshape(ys,:,1))\n",
    "df1_interp = DataFrame(Mtmp,[\"time (ns)\",\"Avg F(pN)\"]);"
   ]
  },
  {
   "cell_type": "code",
   "execution_count": null,
   "id": "19cd3521",
   "metadata": {},
   "outputs": [],
   "source": [
    "ts = [t for t in df2[1,\"time (ns)\"]:0.001:df2[end,\"time (ns)\"]]; nts = length(ts)\n",
    "ys = Vector{Float64}(undef,nts)\n",
    "for ℓ=1:nts\n",
    "    tnow = ts[ℓ]\n",
    "    posa = findlast(df2[!,\"time (ns)\"].<=tnow);\n",
    "    if posa == nrow(df2)\n",
    "        ys[ℓ] = df2[end,\"Avg F(pN)\"]\n",
    "        continue\n",
    "    end\n",
    "    ta = df2[posa,\"time (ns)\"]; tb = df2[posa+1,\"time (ns)\"]\n",
    "    u = (tnow-ta)/(tb-ta)\n",
    "    ys[ℓ] = (1-u)*df2[posa,\"Avg F(pN)\"]+u*df2[posa+1,\"Avg F(pN)\"]\n",
    "end;\n",
    "\n",
    "Mtmp = hcat(reshape(ts,:,1),reshape(ys,:,1))\n",
    "df2_interp = DataFrame(Mtmp,[\"time (ns)\",\"Avg F(pN)\"]);"
   ]
  },
  {
   "cell_type": "code",
   "execution_count": null,
   "id": "585b5087",
   "metadata": {},
   "outputs": [],
   "source": [
    "ts = [t for t in df3[1,\"time (ns)\"]:0.001:df3[end,\"time (ns)\"]]; nts = length(ts)\n",
    "ys = Vector{Float64}(undef,nts)\n",
    "for ℓ=1:nts\n",
    "    tnow = ts[ℓ]\n",
    "    posa = findlast(df3[!,\"time (ns)\"].<=tnow);\n",
    "    if posa == nrow(df3)\n",
    "        ys[ℓ] = df3[end,\"Avg F(pN)\"]\n",
    "        continue\n",
    "    end\n",
    "    ta = df3[posa,\"time (ns)\"]; tb = df3[posa+1,\"time (ns)\"]\n",
    "    u = (tnow-ta)/(tb-ta)\n",
    "    ys[ℓ] = (1-u)*df3[posa,\"Avg F(pN)\"]+u*df3[posa+1,\"Avg F(pN)\"]\n",
    "end;\n",
    "\n",
    "Mtmp = hcat(reshape(ts,:,1),reshape(ys,:,1))\n",
    "df3_interp = DataFrame(Mtmp,[\"time (ns)\",\"Avg F(pN)\"]);"
   ]
  },
  {
   "cell_type": "code",
   "execution_count": null,
   "id": "c890e5cb",
   "metadata": {},
   "outputs": [],
   "source": [
    "ts = [t for t in dfCASite1[1,\"time (ns)\"]:0.001:dfCASite1[end,\"time (ns)\"]]; nts = length(ts)\n",
    "ys = Vector{Float64}(undef,nts)\n",
    "for ℓ=1:nts\n",
    "    tnow = ts[ℓ]\n",
    "    posa = findlast(dfCASite1[!,\"time (ns)\"].<=tnow);\n",
    "    if posa == nrow(dfCASite1)\n",
    "        ys[ℓ] = dfCASite1[end,\"Avg F(pN)\"]\n",
    "        continue\n",
    "    end\n",
    "    ta = dfCASite1[posa,\"time (ns)\"]; tb = dfCASite1[posa+1,\"time (ns)\"]\n",
    "    u = (tnow-ta)/(tb-ta)\n",
    "    ys[ℓ] = (1-u)*dfCASite1[posa,\"Avg F(pN)\"]+u*dfCASite1[posa+1,\"Avg F(pN)\"]\n",
    "end;\n",
    "\n",
    "Mtmp = hcat(reshape(ts,:,1),reshape(ys,:,1))\n",
    "dfCASite1_interp = DataFrame(Mtmp,[\"time (ns)\",\"Avg F(pN)\"]);"
   ]
  },
  {
   "cell_type": "code",
   "execution_count": null,
   "id": "21f9b321",
   "metadata": {},
   "outputs": [],
   "source": [
    "ts = [t for t in dfCASite2[1,\"time (ns)\"]:0.001:dfCASite2[end,\"time (ns)\"]]; nts = length(ts)\n",
    "ys = Vector{Float64}(undef,nts)\n",
    "for ℓ=1:nts\n",
    "    tnow = ts[ℓ]\n",
    "    posa = findlast(dfCASite2[!,\"time (ns)\"].<=tnow);\n",
    "    if posa == nrow(dfCASite2)\n",
    "        ys[ℓ] = dfCASite2[end,\"Avg F(pN)\"]\n",
    "        continue\n",
    "    end\n",
    "    ta = dfCASite2[posa,\"time (ns)\"]; tb = dfCASite2[posa+1,\"time (ns)\"]\n",
    "    u = (tnow-ta)/(tb-ta)\n",
    "    ys[ℓ] = (1-u)*dfCASite2[posa,\"Avg F(pN)\"]+u*dfCASite2[posa+1,\"Avg F(pN)\"]\n",
    "end;\n",
    "\n",
    "Mtmp = hcat(reshape(ts,:,1),reshape(ys,:,1))\n",
    "dfCASite2_interp = DataFrame(Mtmp,[\"time (ns)\",\"Avg F(pN)\"]);"
   ]
  },
  {
   "cell_type": "code",
   "execution_count": null,
   "id": "6adebf42",
   "metadata": {},
   "outputs": [],
   "source": [
    "ts = [t for t in dfCASite21[1,\"time (ns)\"]:0.001:dfCASite21[end,\"time (ns)\"]]; nts = length(ts)\n",
    "ys = Vector{Float64}(undef,nts)\n",
    "for ℓ=1:nts\n",
    "    tnow = ts[ℓ]\n",
    "    posa = findlast(dfCASite21[!,\"time (ns)\"].<=tnow);\n",
    "    if posa == nrow(dfCASite21)\n",
    "        ys[ℓ] = dfCASite21[end,\"Avg F(pN)\"]\n",
    "        continue\n",
    "    end\n",
    "    ta = dfCASite21[posa,\"time (ns)\"]; tb = dfCASite21[posa+1,\"time (ns)\"]\n",
    "    u = (tnow-ta)/(tb-ta)\n",
    "    ys[ℓ] = (1-u)*dfCASite21[posa,\"Avg F(pN)\"]+u*dfCASite21[posa+1,\"Avg F(pN)\"]\n",
    "end;\n",
    "\n",
    "Mtmp = hcat(reshape(ts,:,1),reshape(ys,:,1))\n",
    "dfCASite21_interp = DataFrame(Mtmp,[\"time (ns)\",\"Avg F(pN)\"]);"
   ]
  },
  {
   "cell_type": "code",
   "execution_count": null,
   "id": "18f3c362",
   "metadata": {},
   "outputs": [],
   "source": [
    "ts = [t for t in dfCASite31[1,\"time (ns)\"]:0.001:dfCASite31[end,\"time (ns)\"]]; nts = length(ts)\n",
    "ys = Vector{Float64}(undef,nts)\n",
    "for ℓ=1:nts\n",
    "    tnow = ts[ℓ]\n",
    "    posa = findlast(dfCASite31[!,\"time (ns)\"].<=tnow);\n",
    "    if posa == nrow(dfCASite31)\n",
    "        ys[ℓ] = dfCASite31[end,\"Avg F(pN)\"]\n",
    "        continue\n",
    "    end\n",
    "    ta = dfCASite31[posa,\"time (ns)\"]; tb = dfCASite31[posa+1,\"time (ns)\"]\n",
    "    u = (tnow-ta)/(tb-ta)\n",
    "    ys[ℓ] = (1-u)*dfCASite31[posa,\"Avg F(pN)\"]+u*dfCASite31[posa+1,\"Avg F(pN)\"]\n",
    "end;\n",
    "\n",
    "Mtmp = hcat(reshape(ts,:,1),reshape(ys,:,1))\n",
    "dfCASite31_interp = DataFrame(Mtmp,[\"time (ns)\",\"Avg F(pN)\"]);"
   ]
  },
  {
   "cell_type": "markdown",
   "id": "df3150a2",
   "metadata": {},
   "source": [
    "## Load the DXNDN extension data"
   ]
  },
  {
   "cell_type": "code",
   "execution_count": null,
   "id": "7ac52f2e",
   "metadata": {},
   "outputs": [],
   "source": [
    "dfext_lkly = CSV.read(flpath*\"lkly_mst_DXNDN_ext_v2.csv\",DataFrame);\n",
    "first(dfext_lkly,3)"
   ]
  },
  {
   "cell_type": "code",
   "execution_count": null,
   "id": "f5395717",
   "metadata": {},
   "outputs": [],
   "source": [
    "dfext_unlkly = CSV.read(flpath*\"unlkly_mst_DXNDN_ext.csv\",DataFrame);\n",
    "first(dfext_unlkly,3)"
   ]
  },
  {
   "cell_type": "markdown",
   "id": "5e42a707",
   "metadata": {},
   "source": [
    "## Combine the extension and force data"
   ]
  },
  {
   "cell_type": "code",
   "execution_count": null,
   "id": "f1de1a01",
   "metadata": {},
   "outputs": [],
   "source": [
    "dftmp1 = select(df0_interp,[\"time (ns)\",\"Avg F(pN)\"]); dropmissing!(dftmp1)\n",
    "dftmp2 = select(dfext_lkly,[\"time (ns)\",\"0CA Ext (Å)\"]); dropmissing!(dftmp2)\n",
    "dfmst_0 = innerjoin(dftmp1,dftmp2,on=\"time (ns)\"); dropmissing!(dfmst_0)\n",
    "println(\"Number rows after innerjoin: $(nrow(dfmst_0))\")\n",
    "first(dfmst_0,3)"
   ]
  },
  {
   "cell_type": "code",
   "execution_count": null,
   "id": "4884f020",
   "metadata": {},
   "outputs": [],
   "source": [
    "dftmp1 = select(df1_interp,[\"time (ns)\",\"Avg F(pN)\"]); dropmissing!(dftmp1)\n",
    "dftmp2 = select(dfext_lkly,[\"time (ns)\",\"1CA Ext (Å)\"]); dropmissing!(dftmp2)\n",
    "dfmst_1 = innerjoin(dftmp1,dftmp2,on=\"time (ns)\"); dropmissing!(dfmst_1)\n",
    "println(\"Number rows after innerjoin: $(nrow(dfmst_1))\")\n",
    "first(dfmst_1,3)"
   ]
  },
  {
   "cell_type": "code",
   "execution_count": null,
   "id": "c98f573a",
   "metadata": {},
   "outputs": [],
   "source": [
    "dftmp1 = select(df2_interp,[\"time (ns)\",\"Avg F(pN)\"]); dropmissing!(dftmp1)\n",
    "dftmp2 = select(dfext_lkly,[\"time (ns)\",\"2CA Ext (Å)\"]); dropmissing!(dftmp2)\n",
    "dfmst_2 = innerjoin(dftmp1,dftmp2,on=\"time (ns)\"); dropmissing!(dfmst_2)\n",
    "println(\"Number rows after innerjoin: $(nrow(dfmst_2))\")\n",
    "first(dfmst_2,3)"
   ]
  },
  {
   "cell_type": "code",
   "execution_count": null,
   "id": "829071c3",
   "metadata": {},
   "outputs": [],
   "source": [
    "dftmp1 = select(df3_interp,[\"time (ns)\",\"Avg F(pN)\"]); dropmissing!(dftmp1)\n",
    "dftmp2 = select(dfext_lkly,[\"time (ns)\",\"3CA Ext (Å)\"]); dropmissing!(dftmp2)\n",
    "dfmst_3 = innerjoin(dftmp1,dftmp2,on=\"time (ns)\"); dropmissing!(dfmst_3)\n",
    "println(\"Number rows after innerjoin: $(nrow(dfmst_3))\")\n",
    "first(dfmst_3,3)"
   ]
  },
  {
   "cell_type": "code",
   "execution_count": null,
   "id": "61a6813a",
   "metadata": {},
   "outputs": [],
   "source": [
    "dftmp1 = select(dfCASite1_interp,[\"time (ns)\",\"Avg F(pN)\"]); dropmissing!(dftmp1)\n",
    "dftmp2 = select(dfext_unlkly,[\"time (ns)\",\"CASite1 Ext (Å)\"]); dropmissing!(dftmp2)\n",
    "dfmst_CASite1 = innerjoin(dftmp1,dftmp2,on=\"time (ns)\"); dropmissing!(dfmst_CASite1)\n",
    "println(\"Number rows after innerjoin: $(nrow(dfmst_CASite1))\")\n",
    "first(dfmst_CASite1,3)"
   ]
  },
  {
   "cell_type": "code",
   "execution_count": null,
   "id": "0bd32ceb",
   "metadata": {},
   "outputs": [],
   "source": [
    "dftmp1 = select(dfCASite2_interp,[\"time (ns)\",\"Avg F(pN)\"]); dropmissing!(dftmp1)\n",
    "dftmp2 = select(dfext_unlkly,[\"time (ns)\",\"CASite2 Ext (Å)\"]); dropmissing!(dftmp2)\n",
    "dfmst_CASite2 = innerjoin(dftmp1,dftmp2,on=\"time (ns)\"); dropmissing!(dfmst_CASite2)\n",
    "println(\"Number rows after innerjoin: $(nrow(dfmst_CASite2))\")\n",
    "first(dfmst_CASite2,3)"
   ]
  },
  {
   "cell_type": "code",
   "execution_count": null,
   "id": "d8fae64a",
   "metadata": {},
   "outputs": [],
   "source": [
    "dftmp1 = select(dfCASite21_interp,[\"time (ns)\",\"Avg F(pN)\"]); dropmissing!(dftmp1)\n",
    "dftmp2 = select(dfext_unlkly,[\"time (ns)\",\"CASite21 Ext (Å)\"]); dropmissing!(dftmp2)\n",
    "dfmst_CASite21 = innerjoin(dftmp1,dftmp2,on=\"time (ns)\"); dropmissing!(dfmst_CASite21)\n",
    "println(\"Number rows after innerjoin: $(nrow(dfmst_CASite21))\")\n",
    "first(dfmst_CASite21,3)"
   ]
  },
  {
   "cell_type": "code",
   "execution_count": null,
   "id": "ac42b20b",
   "metadata": {},
   "outputs": [],
   "source": [
    "dftmp1 = select(dfCASite31_interp,[\"time (ns)\",\"Avg F(pN)\"]); dropmissing!(dftmp1)\n",
    "dftmp2 = select(dfext_unlkly,[\"time (ns)\",\"CASite31 Ext (Å)\"]); dropmissing!(dftmp2)\n",
    "dfmst_CASite31 = innerjoin(dftmp1,dftmp2,on=\"time (ns)\"); dropmissing!(dfmst_CASite31)\n",
    "println(\"Number rows after innerjoin: $(nrow(dfmst_CASite31))\")\n",
    "first(dfmst_CASite31,3)"
   ]
  },
  {
   "cell_type": "markdown",
   "id": "7672d098",
   "metadata": {},
   "source": [
    "#### Plots of DXNDN extensions vs force"
   ]
  },
  {
   "cell_type": "code",
   "execution_count": null,
   "id": "0d106b90",
   "metadata": {},
   "outputs": [],
   "source": [
    "nstep0 = 1; #nrow(dfmst_0)÷2500\n",
    "nstep1 = 1; #nrow(dfmst_1)÷2500\n",
    "nstep2 = 1; #nrow(dfmst_2)÷2500\n",
    "nstep3 = 1; #nrow(dfmst_3)÷2500\n",
    "\n",
    "nstepCASite1  = 1; #nrow(dfmst_CASite1)÷2500\n",
    "nstepCASite2  = 1; #nrow(dfmst_CASite2)÷2500\n",
    "nstepCASite21 = 1; #nrow(dfmst_CASite21)÷2500\n",
    "nstepCASite31 = 1; #nrow(dfmst_CASite31)÷2500;"
   ]
  },
  {
   "cell_type": "code",
   "execution_count": null,
   "id": "cd34acd2",
   "metadata": {},
   "outputs": [],
   "source": [
    "p0 = scatter(dfmst_0[1:nstep0:end,\"0CA Ext (Å)\"],dfmst_0[!,\"Avg F(pN)\"],linewidth=2,labels=\"0 CA\",alpha=0.5,size=(450,200),\n",
    "             xlabel=\"extension (Å)\",ylabel=\"force (pN)\")\n",
    "p1 = scatter(dfmst_1[1:nstep1:end,\"1CA Ext (Å)\"],dfmst_1[!,\"Avg F(pN)\"],linewidth=2,labels=\"1 CA\",alpha=0.5,size=(450,200),\n",
    "             xlabel=\"extension (Å)\",ylabel=\"force (pN)\")\n",
    "p2 = scatter(dfmst_2[1:nstep2:end,\"2CA Ext (Å)\"],dfmst_2[!,\"Avg F(pN)\"],linewidth=2,labels=\"2 CA\",alpha=0.5,size=(450,200),\n",
    "             xlabel=\"extension (Å)\",ylabel=\"force (pN)\")\n",
    "p3 = scatter(dfmst_3[1:nstep3:end,\"3CA Ext (Å)\"],dfmst_3[!,\"Avg F(pN)\"],linewidth=2,labels=\"3 CA\",alpha=0.5,size=(450,200),\n",
    "             xlabel=\"extension (Å)\",ylabel=\"force (pN)\")\n",
    "\n",
    "pCASite1 = scatter(dfmst_CASite1[1:nstepCASite1:end,\"CASite1 Ext (Å)\"],dfmst_CASite1[!,\"Avg F(pN)\"],linewidth=2,labels=\"CASite1\",alpha=0.5,size=(450,200),\n",
    "             xlabel=\"extension (Å)\",ylabel=\"force (pN)\")\n",
    "pCASite2 = scatter(dfmst_CASite2[1:nstepCASite2:end,\"CASite2 Ext (Å)\"],dfmst_CASite2[!,\"Avg F(pN)\"],linewidth=2,labels=\"CASite2\",alpha=0.5,size=(450,200),\n",
    "             xlabel=\"extension (Å)\",ylabel=\"force (pN)\")\n",
    "pCASite21 = scatter(dfmst_CASite21[1:nstepCASite21:end,\"CASite21 Ext (Å)\"],dfmst_CASite21[!,\"Avg F(pN)\"],linewidth=2,labels=\"CASite21\",alpha=0.5,size=(450,200),\n",
    "             xlabel=\"extension (Å)\",ylabel=\"force (pN)\")\n",
    "pCASite31 = scatter(dfmst_CASite31[1:nstepCASite31:end,\"CASite31 Ext (Å)\"],dfmst_CASite31[!,\"Avg F(pN)\"],linewidth=2,labels=\"CASite31\",alpha=0.5,size=(450,200),\n",
    "             xlabel=\"extension (Å)\",ylabel=\"force (pN)\");"
   ]
  },
  {
   "cell_type": "code",
   "execution_count": null,
   "id": "15bc5518",
   "metadata": {},
   "outputs": [],
   "source": [
    "lay = @layout [a b c d;e f g h]\n",
    "plot(p0,p1,p2,p3,pCASite1,pCASite2,pCASite21,pCASite31,layout=lay,size=(300*4,600),margin=4mm);\n",
    "savefig(\"frcvsdxndn.png\");"
   ]
  },
  {
   "cell_type": "code",
   "execution_count": null,
   "id": "768135b2",
   "metadata": {},
   "outputs": [],
   "source": [
    "p0 = histogram2d(dfmst_0[1:nstep0:end,\"0CA Ext (Å)\"],dfmst_0[1:nstep0:end,\"Avg F(pN)\"],linewidth=2,labels=\"0 CA\",alpha=0.5,size=(450,200),\n",
    "             xlabel=\"extension (Å)\",ylabel=\"force (pN)\",normalize=:pdf,c=:jet)\n",
    "p1 = histogram2d(dfmst_1[1:nstep1:end,\"1CA Ext (Å)\"],dfmst_1[1:nstep1:end,\"Avg F(pN)\"],linewidth=2,labels=\"1 CA\",alpha=0.5,size=(450,200),\n",
    "             xlabel=\"extension (Å)\",ylabel=\"force (pN)\",normalize=:pdf,c=:jet)\n",
    "p2 = histogram2d(dfmst_2[1:nstep2:end,\"2CA Ext (Å)\"],dfmst_2[1:nstep2:end,\"Avg F(pN)\"],linewidth=2,labels=\"2 CA\",alpha=0.5,size=(450,200),\n",
    "             xlabel=\"extension (Å)\",ylabel=\"force (pN)\",normalize=:pdf,c=:jet)\n",
    "p3 = histogram2d(dfmst_3[1:nstep3:end,\"3CA Ext (Å)\"],dfmst_3[1:nstep3:end,\"Avg F(pN)\"],linewidth=2,labels=\"3 CA\",alpha=0.5,size=(450,200),\n",
    "             xlabel=\"extension (Å)\",ylabel=\"force (pN)\",normalize=:pdf,c=:jet)\n",
    "\n",
    "pCASite1 = histogram2d(dfmst_CASite1[1:nstepCASite1:end,\"CASite1 Ext (Å)\"],dfmst_CASite1[1:nstepCASite1:end,\"Avg F(pN)\"],linewidth=2,labels=\"CASite1\",alpha=0.5,size=(450,200),\n",
    "             xlabel=\"extension (Å)\",ylabel=\"force (pN)\",normalize=:pdf,c=:jet)\n",
    "pCASite2 = histogram2d(dfmst_CASite2[1:nstepCASite2:end,\"CASite2 Ext (Å)\"],dfmst_CASite2[1:nstepCASite2:end,\"Avg F(pN)\"],linewidth=2,labels=\"CASite2\",alpha=0.5,size=(450,200),\n",
    "             xlabel=\"extension (Å)\",ylabel=\"force (pN)\",normalize=:pdf,c=:jet)\n",
    "pCASite21 = histogram2d(dfmst_CASite21[1:nstepCASite21:end,\"CASite21 Ext (Å)\"],dfmst_CASite21[1:nstepCASite21:end,\"Avg F(pN)\"],linewidth=2,labels=\"CASite21\",alpha=0.5,size=(450,200),\n",
    "             xlabel=\"extension (Å)\",ylabel=\"force (pN)\",normalize=:pdf,c=:jet)\n",
    "pCASite31 = histogram2d(dfmst_CASite31[1:nstepCASite31:end,\"CASite31 Ext (Å)\"],dfmst_CASite31[1:nstepCASite31:end,\"Avg F(pN)\"],linewidth=2,labels=\"CASite31\",alpha=0.5,size=(450,200),\n",
    "             xlabel=\"extension (Å)\",ylabel=\"force (pN)\",normalize=:pdf,c=:jet);"
   ]
  },
  {
   "cell_type": "code",
   "execution_count": null,
   "id": "602f7da8",
   "metadata": {},
   "outputs": [],
   "source": [
    "lay = @layout [a b c d;e f g h]\n",
    "plot(p0,p1,p2,p3,pCASite1,pCASite2,pCASite21,pCASite31,layout=lay,size=(300*4,600),margin=4mm);\n",
    "savefig(\"frcvsdxndn_histogram2d.png\");"
   ]
  },
  {
   "cell_type": "markdown",
   "id": "2004b33c",
   "metadata": {},
   "source": [
    "#### Fit the Gaussian mixture models"
   ]
  },
  {
   "cell_type": "code",
   "execution_count": null,
   "id": "0ed841dc",
   "metadata": {},
   "outputs": [],
   "source": [
    "nclusters = 100 # number of Gaussian mixture components\n",
    "ninit=500 # number of K means iterations to identify component centers\n",
    "niter=250 #10 # number of expectation maximazation iterations\n",
    "nfinal=10; #10 # number of iterations in the final step"
   ]
  },
  {
   "cell_type": "code",
   "execution_count": null,
   "id": "ea7e5f21",
   "metadata": {},
   "outputs": [],
   "source": [
    "M0 = [dfmst_0[i,j] for i=1:nrow(dfmst_0),j=3:-1:2]\n",
    "gmm0 = GMM(nclusters,M0,method=:kmeans,kind=:diag,nInit=ninit,nIter=niter,nFinal=nfinal)\n",
    "gmm0_mix = MixtureModel(gmm0);"
   ]
  },
  {
   "cell_type": "code",
   "execution_count": null,
   "id": "46c14519",
   "metadata": {},
   "outputs": [],
   "source": [
    "dfmst0_xa = minimum(dfmst_0[:,3])\n",
    "dfmst0_xb = maximum(dfmst_0[:,3])\n",
    "dfmst0_ya = minimum(dfmst_0[:,2])\n",
    "dfmst0_yb = maximum(dfmst_0[:,2])\n",
    "q0 = heatmap(LinRange(dfmst0_xa,dfmst0_xb,251),LinRange(dfmst0_ya,dfmst0_yb,251),(x,y)->pdf(gmm0_mix,[x,y]),\n",
    "        c=:jet,background_color_inside=plt[1],#clims=(1e-4,0.015),\n",
    "        #xlims=(7,15),ylims=(0,1250),\n",
    "        xlabel=\"extension (Å)\",ylabel=\"force (pN)\");"
   ]
  },
  {
   "cell_type": "code",
   "execution_count": null,
   "id": "c11a1996",
   "metadata": {},
   "outputs": [],
   "source": [
    "M1 = [dfmst_1[i,j] for i=1:nrow(dfmst_1),j=3:-1:2]\n",
    "gmm1 = GMM(nclusters,M1,method=:kmeans,kind=:diag,nInit=ninit,nIter=niter,nFinal=nfinal)\n",
    "gmm1_mix = MixtureModel(gmm1);"
   ]
  },
  {
   "cell_type": "code",
   "execution_count": null,
   "id": "88fb2076",
   "metadata": {},
   "outputs": [],
   "source": [
    "dfmst1_xa = minimum(dfmst_1[:,3])\n",
    "dfmst1_xb = maximum(dfmst_1[:,3])\n",
    "dfmst1_ya = minimum(dfmst_1[:,2])\n",
    "dfmst1_yb = maximum(dfmst_1[:,2])\n",
    "q1 = heatmap(LinRange(dfmst1_xa,dfmst1_xb,251),LinRange(dfmst1_ya,dfmst1_yb,251),(x,y)->pdf(gmm1_mix,[x,y]),\n",
    "        c=:jet,background_color_inside=plt[1],#clims=(1e-4,0.015),\n",
    "        #xlims=(7,15),ylims=(0,1250),\n",
    "        xlabel=\"extension (Å)\",ylabel=\"force (pN)\");"
   ]
  },
  {
   "cell_type": "code",
   "execution_count": null,
   "id": "f12532d7",
   "metadata": {},
   "outputs": [],
   "source": [
    "M2 = [dfmst_2[i,j] for i=1:nrow(dfmst_2),j=3:-1:2]\n",
    "gmm2 = GMM(nclusters,M2,method=:kmeans,kind=:diag,nInit=ninit,nIter=niter,nFinal=nfinal)\n",
    "gmm2_mix = MixtureModel(gmm2);"
   ]
  },
  {
   "cell_type": "code",
   "execution_count": null,
   "id": "bc07ea97",
   "metadata": {},
   "outputs": [],
   "source": [
    "dfmst2_xa = minimum(dfmst_2[:,3])\n",
    "dfmst2_xb = maximum(dfmst_2[:,3])\n",
    "dfmst2_ya = minimum(dfmst_2[:,2])\n",
    "dfmst2_yb = maximum(dfmst_2[:,2])\n",
    "q2 = heatmap(LinRange(dfmst2_xa,dfmst2_xb,251),LinRange(dfmst2_ya,dfmst2_yb,251),(x,y)->pdf(gmm2_mix,[x,y]),\n",
    "        c=:jet,background_color_inside=plt[1],#clims=(1e-4,0.015),\n",
    "        #xlims=(7,15),ylims=(0,1250),\n",
    "        xlabel=\"extension (Å)\",ylabel=\"force (pN)\");"
   ]
  },
  {
   "cell_type": "code",
   "execution_count": null,
   "id": "2ebdccfd",
   "metadata": {},
   "outputs": [],
   "source": [
    "M3 = [dfmst_3[i,j] for i=1:nrow(dfmst_3),j=3:-1:2]\n",
    "gmm3 = GMM(nclusters,M3,method=:kmeans,kind=:diag,nInit=ninit,nIter=niter,nFinal=nfinal)\n",
    "gmm3_mix = MixtureModel(gmm3);"
   ]
  },
  {
   "cell_type": "code",
   "execution_count": null,
   "id": "5cbdd13e",
   "metadata": {},
   "outputs": [],
   "source": [
    "dfmst3_xa = minimum(dfmst_3[:,3])\n",
    "dfmst3_xb = maximum(dfmst_3[:,3])\n",
    "dfmst3_ya = minimum(dfmst_3[:,2])\n",
    "dfmst3_yb = maximum(dfmst_3[:,2])\n",
    "q3 = heatmap(LinRange(dfmst3_xa,dfmst3_xb,251),LinRange(dfmst3_ya,dfmst3_yb,251),(x,y)->pdf(gmm3_mix,[x,y]),\n",
    "        c=:jet,background_color_inside=plt[1],#clims=(1e-4,0.015),\n",
    "        #xlims=(7,15),ylims=(0,1250),\n",
    "        xlabel=\"extension (Å)\",ylabel=\"force (pN)\");"
   ]
  },
  {
   "cell_type": "code",
   "execution_count": null,
   "id": "40a49d0d",
   "metadata": {},
   "outputs": [],
   "source": [
    "MCASite1 = [dfmst_CASite1[i,j] for i=1:nrow(dfmst_CASite1),j=3:-1:2]\n",
    "gmmCASite1 = GMM(nclusters,MCASite1,method=:kmeans,kind=:diag,nInit=ninit,nIter=niter,nFinal=nfinal)\n",
    "gmmCASite1_mix = MixtureModel(gmmCASite1);"
   ]
  },
  {
   "cell_type": "code",
   "execution_count": null,
   "id": "7e83ebad",
   "metadata": {},
   "outputs": [],
   "source": [
    "dfmstCASite1_xa = minimum(dfmst_CASite1[:,3])\n",
    "dfmstCASite1_xb = maximum(dfmst_CASite1[:,3])\n",
    "dfmstCASite1_ya = minimum(dfmst_CASite1[:,2])\n",
    "dfmstCASite1_yb = maximum(dfmst_CASite1[:,2])\n",
    "qCASite1 = heatmap(LinRange(dfmstCASite1_xa,dfmstCASite1_xb,251),LinRange(dfmstCASite1_ya,dfmstCASite1_yb,251),(x,y)->pdf(gmmCASite1_mix,[x,y]),\n",
    "        c=:jet,background_color_inside=plt[1],#clims=(1e-4,0.015),\n",
    "        #xlims=(7,15),ylims=(0,1250),\n",
    "        xlabel=\"extension (Å)\",ylabel=\"force (pN)\");"
   ]
  },
  {
   "cell_type": "code",
   "execution_count": null,
   "id": "4828b378",
   "metadata": {},
   "outputs": [],
   "source": [
    "MCASite2 = [dfmst_CASite2[i,j] for i=1:nrow(dfmst_CASite2),j=3:-1:2]\n",
    "gmmCASite2 = GMM(nclusters,MCASite2,method=:kmeans,kind=:diag,nInit=ninit,nIter=niter,nFinal=nfinal)\n",
    "gmmCASite2_mix = MixtureModel(gmmCASite2);"
   ]
  },
  {
   "cell_type": "code",
   "execution_count": null,
   "id": "e52da87e",
   "metadata": {},
   "outputs": [],
   "source": [
    "dfmstCASite2_xa = minimum(dfmst_CASite2[:,3])\n",
    "dfmstCASite2_xb = maximum(dfmst_CASite2[:,3])\n",
    "dfmstCASite2_ya = minimum(dfmst_CASite2[:,2])\n",
    "dfmstCASite2_yb = maximum(dfmst_CASite2[:,2])\n",
    "qCASite2 = heatmap(LinRange(dfmstCASite2_xa,dfmstCASite2_xb,251),LinRange(dfmstCASite2_ya,dfmstCASite2_yb,251),(x,y)->pdf(gmmCASite2_mix,[x,y]),\n",
    "        c=:jet,background_color_inside=plt[1],#clims=(1e-4,0.015),\n",
    "        #xlims=(7,15),ylims=(0,1250),\n",
    "        xlabel=\"extension (Å)\",ylabel=\"force (pN)\");"
   ]
  },
  {
   "cell_type": "code",
   "execution_count": null,
   "id": "61523858",
   "metadata": {},
   "outputs": [],
   "source": [
    "MCASite21 = [dfmst_CASite21[i,j] for i=1:nrow(dfmst_CASite21),j=3:-1:2]\n",
    "gmmCASite21 = GMM(nclusters,MCASite21,method=:kmeans,kind=:diag,nInit=ninit,nIter=niter,nFinal=nfinal)\n",
    "gmmCASite21_mix = MixtureModel(gmmCASite21);"
   ]
  },
  {
   "cell_type": "code",
   "execution_count": null,
   "id": "2d1768bb",
   "metadata": {},
   "outputs": [],
   "source": [
    "dfmstCASite21_xa = minimum(dfmst_CASite21[:,3])\n",
    "dfmstCASite21_xb = maximum(dfmst_CASite21[:,3])\n",
    "dfmstCASite21_ya = minimum(dfmst_CASite21[:,2])\n",
    "dfmstCASite21_yb = maximum(dfmst_CASite21[:,2])\n",
    "qCASite21 = heatmap(LinRange(dfmstCASite21_xa,dfmstCASite21_xb,251),LinRange(dfmstCASite21_ya,dfmstCASite21_yb,251),(x,y)->pdf(gmmCASite21_mix,[x,y]),\n",
    "        c=:jet,background_color_inside=plt[1],#clims=(1e-4,0.015),\n",
    "        #xlims=(7,15),ylims=(0,1250),\n",
    "        xlabel=\"extension (Å)\",ylabel=\"force (pN)\");"
   ]
  },
  {
   "cell_type": "code",
   "execution_count": null,
   "id": "9595ffb6",
   "metadata": {},
   "outputs": [],
   "source": [
    "MCASite31 = [dfmst_CASite31[i,j] for i=1:nrow(dfmst_CASite31),j=3:-1:2]\n",
    "gmmCASite31 = GMM(nclusters,MCASite31,method=:kmeans,kind=:diag,nInit=ninit,nIter=niter,nFinal=nfinal)\n",
    "gmmCASite31_mix = MixtureModel(gmmCASite31);"
   ]
  },
  {
   "cell_type": "code",
   "execution_count": null,
   "id": "f961c66b",
   "metadata": {},
   "outputs": [],
   "source": [
    "dfmstCASite31_xa = minimum(dfmst_CASite31[:,3])\n",
    "dfmstCASite31_xb = maximum(dfmst_CASite31[:,3])\n",
    "dfmstCASite31_ya = minimum(dfmst_CASite31[:,2])\n",
    "dfmstCASite31_yb = maximum(dfmst_CASite31[:,2])\n",
    "qCASite31 = heatmap(LinRange(dfmstCASite31_xa,dfmstCASite31_xb,251),LinRange(dfmstCASite31_ya,dfmstCASite31_yb,251),(x,y)->pdf(gmmCASite31_mix,[x,y]),\n",
    "        c=:jet,background_color_inside=plt[1],#clims=(1e-4,0.015),\n",
    "        #xlims=(7,15),ylims=(0,1250),\n",
    "        xlabel=\"extension (Å)\",ylabel=\"force (pN)\");"
   ]
  },
  {
   "cell_type": "code",
   "execution_count": null,
   "id": "824dccf8",
   "metadata": {},
   "outputs": [],
   "source": [
    "lay = @layout [a b c d;e f g h]\n",
    "pmst = plot(p0,p1,p2,p3,pCASite1,pCASite2,pCASite21,pCASite31,layout=lay,size=(600*4,600),margin=12mm);\n",
    "savefig(\"frcvsdxndn_histogram2d.png\");"
   ]
  },
  {
   "cell_type": "code",
   "execution_count": null,
   "id": "e2a5b07f",
   "metadata": {},
   "outputs": [],
   "source": [
    "lay = @layout [a b c d;e f g h]\n",
    "qmst = plot(q0,q1,q2,q3,qCASite1,qCASite2,qCASite21,qCASite31,layout=lay,size=(600*4,600),margin=12mm)\n",
    "savefig(\"frcvsdxndn_gmm.png\");"
   ]
  },
  {
   "cell_type": "code",
   "execution_count": null,
   "id": "33dc09f9",
   "metadata": {},
   "outputs": [],
   "source": [
    "println(\"EC19-20 data:\")\n",
    "plot(pmst)"
   ]
  },
  {
   "cell_type": "code",
   "execution_count": null,
   "id": "73181b00",
   "metadata": {},
   "outputs": [],
   "source": [
    "println(\"Gaussian mixture model:\")\n",
    "plot(qmst)"
   ]
  },
  {
   "cell_type": "code",
   "execution_count": null,
   "id": "a8ffc17c-1d82-409d-a1c1-0e27a3b0d76d",
   "metadata": {},
   "outputs": [],
   "source": [
    "lay = @layout [a1 a2 a3 a4;b1 b2 b3 b4;c1 c2 c3 c4;d1 d2 d3 d4]\n",
    "pqmst = plot(p0,q0,p1,q1,p2,q2,p3,q3,pCASite1,qCASite1,pCASite2,qCASite2,pCASite21,qCASite21,pCASite31,qCASite31,\n",
    "             layout=lay,size=(600*4,600*2),margin=12mm)"
   ]
  },
  {
   "cell_type": "code",
   "execution_count": null,
   "id": "b0edc419-1a25-41a3-8865-122d25d5a88d",
   "metadata": {},
   "outputs": [],
   "source": [
    "savefig(\"frcvsdxndn_histgmm.pdf\")\n",
    "savefig(\"frcvsdxndn_histgmm.png\");"
   ]
  },
  {
   "cell_type": "code",
   "execution_count": null,
   "id": "4903b690-1480-4cb4-88a0-629aa2417e9e",
   "metadata": {},
   "outputs": [],
   "source": [
    "lay = @layout [a1 a2;b1 b2;c1 c2;d1 d2]\n",
    "plot(p0,q0,p1,q1,p2,q2,p3,q3,layout=lay,size=(600*2,600*2),margin=12mm)"
   ]
  },
  {
   "cell_type": "code",
   "execution_count": null,
   "id": "63fe8120-f405-4813-9ee5-b81e864530be",
   "metadata": {},
   "outputs": [],
   "source": [
    "savefig(\"frcvsdxndn_histgmm_typicals.pdf\")\n",
    "savefig(\"frcvsdxndn_histgmm_typicals.png\");"
   ]
  },
  {
   "cell_type": "code",
   "execution_count": null,
   "id": "fa004b34-83d2-451c-8a82-ab827629c3ba",
   "metadata": {},
   "outputs": [],
   "source": [
    "lay = @layout [a1 a2;b1 b2;c1 c2;d1 d2]\n",
    "plot(pCASite1,qCASite1,pCASite2,qCASite2,pCASite21,qCASite21,pCASite31,qCASite31,layout=lay,size=(600*2,600*2),margin=12mm)"
   ]
  },
  {
   "cell_type": "code",
   "execution_count": null,
   "id": "d9129712-9fdf-4ff8-aa54-38ea9f388181",
   "metadata": {},
   "outputs": [],
   "source": [
    "savefig(\"frcvsdxndn_histgmm_atypicals.pdf\")\n",
    "savefig(\"frcvsdxndn_histgmm_atypicals.png\");"
   ]
  },
  {
   "cell_type": "markdown",
   "id": "1ea292f0",
   "metadata": {},
   "source": [
    "## Export the mixture models\n",
    "The exported `csv` file is recorded as\n",
    "- Each column is a different Ca2+ configuration at a linker,\n",
    "- The first 25 rows are the mixture weights for the different Gaussian components,\n",
    "- The 50 rows after that are the component means organized so that consecutive blocks of two vectors are the 2d components of one mean,\n",
    "- The last 50 rows after that are the component variances organized so that consective blocks of two vectors are the 2d components of one diagnoal variance.\n",
    "\n",
    "In the `Ca2+ Site Probabilities.ipynb` the ordering of $\\mathrm{Ca}^{2+}$ states was p010 p100 p101 p110 p000 p001 p011 p111."
   ]
  },
  {
   "cell_type": "code",
   "execution_count": null,
   "id": "00ad85dc",
   "metadata": {},
   "outputs": [],
   "source": [
    "Mexp = Matrix{Float64}(undef,5nclusters,8)\n",
    "pos = 0\n",
    "for gm in [gmmCASite2,gmmCASite1,gmmCASite31,gmmCASite21,gmm0,gmm1,gmm2,gmm3]\n",
    "    pos += 1\n",
    "    Mexp[1:nclusters,pos]   .= gm.w[:]\n",
    "    Mexp[(nclusters+1):(3nclusters),pos]  .= transpose(gm.μ)[:]\n",
    "    Mexp[(3nclusters+1):(5nclusters),pos] .= transpose(gm.Σ)[:]\n",
    "end\n",
    "dfexp = DataFrame(Mexp,[\"CASite2\",\"CASite1\",\"CASite31\",\"CASite21\",\"0 Ca\",\"1 Ca\",\"2 Ca\",\"3 Ca\"]);"
   ]
  },
  {
   "cell_type": "code",
   "execution_count": null,
   "id": "a9135f8e",
   "metadata": {},
   "outputs": [],
   "source": [
    "CSV.write(\"gmm_extvsfrc.csv\",dfexp);"
   ]
  },
  {
   "cell_type": "markdown",
   "id": "9e730b67",
   "metadata": {},
   "source": [
    "## Hyperparameter section for number of GMM clusters\n",
    "This is an optional selection for performing cross-validation selection of the number of GMM clusters to use."
   ]
  },
  {
   "cell_type": "code",
   "execution_count": null,
   "id": "d6f5fd67",
   "metadata": {},
   "outputs": [],
   "source": [
    "rgncomps = [5,10,25,50,75,100,125,150];"
   ]
  },
  {
   "cell_type": "code",
   "execution_count": null,
   "id": "2e703f22",
   "metadata": {},
   "outputs": [],
   "source": [
    "\"\"\"\n",
    "    rungmmcv(X;nfolds=5,rgncomps=rgncomps,niter=niter,minvar=minvar)\n",
    "Run cross-validation of the GMM on data X to identify the number of clusters.\n",
    "The routine returns a matrix of shape nhypers x nfolds whose components are the log-likelihood of the fitted model on the withheld fold. It also returns the indices for the folds.\n",
    "- X is the data set, arranged as nsmp x 2 matrix\n",
    "- nfolds is the number of cross validation folds\n",
    "- rgncomps is the range values for the number of clusters\n",
    "\"\"\"\n",
    "function rungmmcv(X;\n",
    "                  nfolds=5,rgncomps=rgncomps,niter=niter,ninit=ninit,nfinal=nfinal)\n",
    "    nX,d = size(X)\n",
    "    foldsz = nX÷nfolds; nXf = foldsz*nfolds\n",
    "    \n",
    "    # split data into folds by grabbing row indices of X\n",
    "    σ = randperm(nX)\n",
    "    Σ = [σ[(j-1)*foldsz+i] for i=1:foldsz,j=1:nfolds]\n",
    "    \n",
    "    # Run CV over the folds\n",
    "    nhypers = length(rgncomps)\n",
    "    lglk = Matrix{Float64}(undef,nhypers,nfolds)\n",
    "    for ℓi=1:nhypers\n",
    "        for ℓj=1:nfolds\n",
    "            # grab training data\n",
    "            ids = vcat([i for i in 1:(ℓj-1)],[i for i in (ℓj+1):nfolds])\n",
    "            Xtrain = vcat([X[Σ[:,j],:] for j in ids]...)\n",
    "            \n",
    "            # Plug in\n",
    "            gmm = GMM(rgncomps[ℓi],Xtrain,method=:kmeans,kind=:diag,nInit=ninit,nIter=niter,nFinal=nfinal)\n",
    "            gmm_mix = MixtureModel(gmm)\n",
    "            \n",
    "            # grab test data\n",
    "            Xtest = X[Σ[:,ℓj],:]\n",
    "            \n",
    "            # compute log-likelihood loss over test set\n",
    "            lglk[ℓi,ℓj] = 0.\n",
    "            for ℓk=1:foldsz\n",
    "                xtmp = @SVector [Xtest[ℓk,1],Xtest[ℓk,2]]\n",
    "                lglk[ℓi,ℓj] += logpdf(gmm_mix,xtmp)\n",
    "            end\n",
    "        end\n",
    "    end\n",
    "    \n",
    "    d = Dict{Symbol,Any}(:loss=>lglk,:folds=>Σ)\n",
    "    return d\n",
    "end;"
   ]
  },
  {
   "cell_type": "code",
   "execution_count": null,
   "id": "15fe2c6b",
   "metadata": {},
   "outputs": [],
   "source": [
    "d0 = rungmmcv(M0);"
   ]
  },
  {
   "cell_type": "code",
   "execution_count": null,
   "id": "7eaaccdf",
   "metadata": {},
   "outputs": [],
   "source": [
    "d1 = rungmmcv(M1);"
   ]
  },
  {
   "cell_type": "code",
   "execution_count": null,
   "id": "2d5dbf36",
   "metadata": {},
   "outputs": [],
   "source": [
    "d2 = rungmmcv(M2);"
   ]
  },
  {
   "cell_type": "code",
   "execution_count": null,
   "id": "3cb42249",
   "metadata": {},
   "outputs": [],
   "source": [
    "d3 = rungmmcv(M3);"
   ]
  },
  {
   "cell_type": "code",
   "execution_count": null,
   "id": "7a858087",
   "metadata": {},
   "outputs": [],
   "source": [
    "dCASite1 = rungmmcv(MCASite1);"
   ]
  },
  {
   "cell_type": "code",
   "execution_count": null,
   "id": "f68a31cc",
   "metadata": {},
   "outputs": [],
   "source": [
    "dCASite2 = rungmmcv(MCASite2);"
   ]
  },
  {
   "cell_type": "code",
   "execution_count": null,
   "id": "e4e4aee8",
   "metadata": {},
   "outputs": [],
   "source": [
    "dCASite21 = rungmmcv(MCASite21);"
   ]
  },
  {
   "cell_type": "code",
   "execution_count": null,
   "id": "0b330506",
   "metadata": {},
   "outputs": [],
   "source": [
    "dCASite31 = rungmmcv(MCASite31);"
   ]
  },
  {
   "cell_type": "markdown",
   "id": "2e815957",
   "metadata": {},
   "source": [
    "#### Postprocess the fold log-likelihood data and find best fitting values"
   ]
  },
  {
   "cell_type": "code",
   "execution_count": null,
   "id": "1319218f",
   "metadata": {},
   "outputs": [],
   "source": [
    "hypers = [r for r in rgncomps]\n",
    "CVmst = hcat([d[:loss] for d in [d0,d1,d2,d3,dCASite1,dCASite2,dCASite21,dCASite31]]...)\n",
    "CVmst = sum(CVmst,dims=2)\n",
    "println(\"Best # of components was $(hypers[findfirst((CVmst.==maximum(CVmst))[:])])\")\n",
    "dfcv = DataFrame(hcat(hypers,CVmst),[\"hyper\",\"Σ log-lk\"])"
   ]
  }
 ],
 "metadata": {
  "kernelspec": {
   "display_name": "Julia 1.9.2",
   "language": "julia",
   "name": "julia-1.9"
  },
  "language_info": {
   "file_extension": ".jl",
   "mimetype": "application/julia",
   "name": "julia",
   "version": "1.9.2"
  }
 },
 "nbformat": 4,
 "nbformat_minor": 5
}
