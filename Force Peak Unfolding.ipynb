{
 "cells": [
  {
   "cell_type": "markdown",
   "id": "15e504a9",
   "metadata": {},
   "source": [
    "# Parametric Bootstrapping Force Peak for Unfolding"
   ]
  },
  {
   "cell_type": "code",
   "execution_count": null,
   "id": "017884c0",
   "metadata": {},
   "outputs": [],
   "source": [
    "include(\"gibbs.jl\");\n",
    "plt = palette(:default);"
   ]
  },
  {
   "cell_type": "markdown",
   "id": "cf46ab92",
   "metadata": {},
   "source": [
    "## Inputs to be specified by user"
   ]
  },
  {
   "cell_type": "code",
   "execution_count": null,
   "id": "e43588bc",
   "metadata": {},
   "outputs": [],
   "source": [
    "NL = 24; # Number of linker regions in CDH23\n",
    "NM = 80; # Number of CDH23 monomers in a bundle"
   ]
  },
  {
   "cell_type": "markdown",
   "id": "98765137",
   "metadata": {},
   "source": [
    "## Load the Gibbs samples for $\\mathrm{Ca}^{2+}$ state"
   ]
  },
  {
   "cell_type": "code",
   "execution_count": null,
   "id": "e7e97fea",
   "metadata": {},
   "outputs": [],
   "source": [
    "dfsmp = CSV.read(\"gibbssmp.csv\",DataFrame);\n",
    "SMP = [dfsmp[i,j] for i=1:nrow(dfsmp),j=1:ncol(dfsmp)];\n",
    "_,nCa = size(SMP);\n",
    "SMP = reshape(SMP,8,:,nCa);\n",
    "ngibbs = size(SMP)[2];\n",
    "println(\"Gibbs samples are stored in SMP which is nCfg x ngibbs x nCa array.\");\n",
    "println(\"Configs's are ordered like p010 p100 p101 p110 p000 p001 p011 p111 along first index.\");"
   ]
  },
  {
   "cell_type": "markdown",
   "id": "d8a85b87",
   "metadata": {},
   "source": [
    "## Load the Gibbs samples for force peaks at unfolding"
   ]
  },
  {
   "cell_type": "code",
   "execution_count": null,
   "id": "27af14f1",
   "metadata": {},
   "outputs": [],
   "source": [
    "df_μσjw = CSV.read(\"gibbssmps_unfoldinghypers.csv\",DataFrame);\n",
    "n_μσjw = ncol(df_μσjw)\n",
    "M_μσjw = [df_μσjw[i,j] for i=1:nrow(df_μσjw),j=1:ncol(df_μσjw)];"
   ]
  },
  {
   "cell_type": "markdown",
   "id": "033cab39",
   "metadata": {},
   "source": [
    "## Load the Gibbs samples for unfolding extensions"
   ]
  },
  {
   "cell_type": "code",
   "execution_count": null,
   "id": "4bf7ce16",
   "metadata": {},
   "outputs": [],
   "source": [
    "df_ext = CSV.read(\"gmm_extvsfrc.csv\",DataFrame)\n",
    "nclusters = nrow(df_ext)÷5\n",
    "M_gmm  = [df_ext[i,j] for i=1:nrow(df_ext),j=1:ncol(df_ext)]\n",
    "M_gmmw = M_gmm[1:nclusters,:]\n",
    "M_gmmμ = M_gmm[nclusters+1:nclusters+2*nclusters,:]\n",
    "M_gmmσ = .√(M_gmm[nclusters+2*nclusters+1:nclusters+2*nclusters+2*nclusters,:]);"
   ]
  },
  {
   "cell_type": "markdown",
   "id": "b36c8571",
   "metadata": {},
   "source": [
    "## Parametric bootstrap CDH23 monomer unfolding forces"
   ]
  },
  {
   "cell_type": "code",
   "execution_count": null,
   "id": "ea5f4a0a",
   "metadata": {},
   "outputs": [],
   "source": [
    "nsmp = 10000;\n",
    "fsmps = Matrix{Float64}(undef,nCa,nsmp); mnr = Vector{Float64}(undef,NL); \n",
    "extsmps = Matrix{Float64}(undef,nCa,nsmp); Δextsmps = Matrix{Float64}(undef,nCa,nsmp)\n",
    "ps = fill(0.,8); ps[1] = 1.; P = Categorical(ps);\n",
    "frc_μ = Vector{Float64}(undef,8); frc_σ = similar(frc_μ); frc_j = similar(frc_μ); frc_ws = Matrix{Float64}(undef,8,8)\n",
    "typs = Vector{Int64}(undef,NL); dxndns0 = Vector{Float64}(undef,NL); dxndns = Vector{Float64}(undef,NL)\n",
    "logfws_tmp = Vector{Float64}(undef,nclusters); logλs = Vector{Float64}(undef,nclusters); λs = Vector{Float64}(undef,nclusters) \n",
    "for i=1:nCa,j=1:nsmp,k=1:NL\n",
    "    if k==1\n",
    "        # redraw a gibbs Ca2+ distribution for this monomer\n",
    "        id = rand(1:ngibbs);\n",
    "        ps[:] = SMP[:,id,i];\n",
    "        P.p[:] = ps;\n",
    "        \n",
    "        # redraw the unfolding force profiles for Ca2+ states\n",
    "        id = rand(1:n_μσjw)\n",
    "        frc_μ[:] = M_μσjw[1:8,id]\n",
    "        frc_σ[:] = M_μσjw[9:16,id]\n",
    "        frc_j[:] = M_μσjw[17:24,id]\n",
    "        frc_ws[:,:] = reshape(M_μσjw[25:end,id],8,8)\n",
    "    end\n",
    "    \n",
    "    # fill the linker region with Ca²⁺ state\n",
    "    typ = rand(P); typs[k] = typ\n",
    "    \n",
    "    # sample an unfolding force from parametric distribution\n",
    "    ## extract the mixture unfolding event profile for unfolding for this Ca2+ state\n",
    "    jid = Int64(frc_j[typ]); w = frc_ws[:,jid] \n",
    "    \n",
    "    ## sample the event conditional on the mixture profile\n",
    "    C = Categorical(w); id = rand(C)\n",
    "    μ = frc_μ[id]; σ = frc_σ[id]\n",
    "    \n",
    "    mnr[k] = μ+σ*randn();\n",
    "    mnr[k] = mnr[k] >= 0 ? mnr[k] : 0\n",
    "    \n",
    "    if k==NL\n",
    "        # compute the unfolding force across full monomer\n",
    "        ufrc = minimum(mnr)\n",
    "        fsmps[i,j] = ufrc;\n",
    "        \n",
    "        # sample the dxndn extensions across the full monomer\n",
    "        for ℓ=1:NL\n",
    "            typ = typs[ℓ]\n",
    "            \n",
    "            #  extract the gmm parameters for this linker\n",
    "            dxndn_ws = @view M_gmmw[:,typ]\n",
    "            dxndn_μs = reshape(M_gmmμ[:,typ],2,:)\n",
    "            dxndn_σs = reshape(M_gmmσ[:,typ],2,:)\n",
    "            \n",
    "            #  compute the renormalized conditional weights in the gmm\n",
    "            #  at 0 force to get starting position\n",
    "            logfws_tmp[:] .= [-0.5*((0. -dxndn_μs[2,q])/dxndn_σs[2,q])^2 - log(dxndn_σs[2,q])-0.5*log(2π) for q=1:nclusters]\n",
    "            logλs[:] .= [log(dxndn_ws[q])+logfws_tmp[q] for q=1:nclusters]\n",
    "            #  since we take a ratio, we can shift the log by constant term which helps mitigate underflow\n",
    "            λshift = maximum(logλs); logλs = logλs .- λshift\n",
    "            λs[:] .= exp.(logλs)\n",
    "            λs[:] .= λs./sum(λs)\n",
    "            \n",
    "            #  sample the 0 extension\n",
    "            Cext = Categorical(λs); gmmid = rand(Cext)\n",
    "            dxndns0[ℓ] = dxndn_μs[1,gmmid] + dxndn_σs[1,gmmid]*randn()\n",
    "            \n",
    "            #  compute the renormalized conditional weights in the gmm\n",
    "            #  for this unfolding force\n",
    "            #  the x-coordinate was the extension and y was the force\n",
    "            logfws_tmp[:] .= [-0.5*((ufrc -dxndn_μs[2,q])/dxndn_σs[2,q])^2 - log(dxndn_σs[2,q])-0.5*log(2π) for q=1:nclusters]\n",
    "            logλs[:] .= [log(dxndn_ws[q])+logfws_tmp[q] for q=1:nclusters]\n",
    "            #  since we take a ratio, we can shift the log by constant term which helps mitigate underflow\n",
    "            λshift = maximum(logλs); logλs = logλs .- λshift\n",
    "            λs[:] .= exp.(logλs)\n",
    "            λs[:] .= λs./sum(λs)\n",
    "                \n",
    "            # sample the extension\n",
    "            Cext = Categorical(λs); gmmid = rand(Cext)\n",
    "            dxndns[ℓ] = (dxndn_μs[1,gmmid] + dxndn_σs[1,gmmid]*randn())\n",
    "        end\n",
    "        \n",
    "        # aggregate the total extension\n",
    "        extsmps[i,j]  = sum(dxndns)\n",
    "        Δextsmps[i,j] = sum(dxndns-dxndns0)\n",
    "    end\n",
    "end"
   ]
  },
  {
   "cell_type": "markdown",
   "id": "a1e5a0bb",
   "metadata": {},
   "source": [
    "### Plot tiplink unfolding forces as function of $[Ca^{2+}]$"
   ]
  },
  {
   "cell_type": "code",
   "execution_count": null,
   "id": "3907c718",
   "metadata": {},
   "outputs": [],
   "source": [
    "fμ = sum(fsmps,dims=2)/nsmp; \n",
    "lw = [minimum(fsmps[ℓ,:]) for ℓ=1:nCa]; up = [maximum(fsmps[ℓ,:]) for ℓ=1:nCa];\n",
    "\n",
    "plot(1:nCa,fμ,linewidth=3,ribbon=(fμ-lw,up-fμ),fillalpha=0.1,legend=:topleft,\n",
    "     xlabel = \"[Ca²⁺] (μM)\",ylabel=\"force (pN)\",size=(450,300),labels=\"\");\n",
    "\n",
    "lw = [quantile(fsmps[ℓ,:],0.025) for ℓ=1:nCa]; up = [quantile(fsmps[ℓ,:],0.975) for ℓ=1:nCa];\n",
    "\n",
    "plot!(1:nCa,fμ,linewidth=0,ribbon=(fμ-lw,up-fμ),fillalpha=0.2,\n",
    "     xlabel = \"[Ca²⁺] (μM)\",ylabel=\"force (pN)\",labels=\"\",c=plt[1]);"
   ]
  },
  {
   "cell_type": "code",
   "execution_count": null,
   "id": "ce1f54c7",
   "metadata": {},
   "outputs": [],
   "source": [
    "lw = [quantile(fsmps[ℓ,:],0.25) for ℓ=1:nCa]; up = [quantile(fsmps[ℓ,:],0.75) for ℓ=1:nCa];\n",
    "\n",
    "plot!(1:nCa,fμ,linewidth=0,ribbon=(fμ-lw,up-fμ),fillalpha=0.35,\n",
    "     xlabel = \"[Ca²⁺] (μM)\",ylabel=\"force (pN)\",labels=\"\",c=plt[1])\n",
    "\n",
    "plot!(xtickfontsize=10,ytickfontsize=10,fontsize=12,legendfontsize=10,titlefontsize=14);"
   ]
  },
  {
   "cell_type": "code",
   "execution_count": null,
   "id": "13b99d86",
   "metadata": {},
   "outputs": [],
   "source": [
    "p1 = plot!();\n",
    "p2 = deepcopy(p1);\n",
    "plot!(p2,xlims=(0,50));"
   ]
  },
  {
   "cell_type": "code",
   "execution_count": null,
   "id": "d2c18934",
   "metadata": {},
   "outputs": [],
   "source": [
    "fμ = sum(fsmps,dims=2)/nsmp; \n",
    "lw = [minimum(fsmps[ℓ,:]) for ℓ=1:nCa]; up = [maximum(fsmps[ℓ,:]) for ℓ=1:nCa];\n",
    "\n",
    "plot!(p2,inset=(1,bbox(0.025,0.1,0.45,0.35,:bottom,:right)));\n",
    "\n",
    "plot!(p2[2],1:nCa,fμ,linewidth=3,ribbon=(fμ-lw,up-fμ),fillalpha=0.1,labels=\"\");"
   ]
  },
  {
   "cell_type": "code",
   "execution_count": null,
   "id": "7ed36358",
   "metadata": {},
   "outputs": [],
   "source": [
    "lw = [quantile(fsmps[ℓ,:],0.025) for ℓ=1:nCa]; up = [quantile(fsmps[ℓ,:],0.975) for ℓ=1:nCa];\n",
    "\n",
    "plot!(p2[2],1:nCa,fμ,linewidth=0,ribbon=(fμ-lw,up-fμ),fillalpha=0.2,\n",
    "     labels=\"\",c=plt[1]);"
   ]
  },
  {
   "cell_type": "code",
   "execution_count": null,
   "id": "1cab08ce",
   "metadata": {},
   "outputs": [],
   "source": [
    "lw = [quantile(fsmps[ℓ,:],0.25) for ℓ=1:nCa]; up = [quantile(fsmps[ℓ,:],0.75) for ℓ=1:nCa];\n",
    "\n",
    "plot!(p2[2],1:nCa,fμ,linewidth=0,ribbon=(fμ-lw,up-fμ),fillalpha=0.35,\n",
    "     labels=\"\",c=plt[1])"
   ]
  },
  {
   "cell_type": "code",
   "execution_count": null,
   "id": "b8e55f5a",
   "metadata": {},
   "outputs": [],
   "source": [
    "savefig(\"predfrpt.pdf\");"
   ]
  },
  {
   "cell_type": "markdown",
   "id": "b12d96b3",
   "metadata": {},
   "source": [
    "### Plot CDH23 monomer extensions as function of $[Ca^{2+}]$"
   ]
  },
  {
   "cell_type": "code",
   "execution_count": null,
   "id": "3ec905c9",
   "metadata": {},
   "outputs": [],
   "source": [
    "extμ = sum(extsmps,dims=2)/nsmp; \n",
    "lw = [minimum(extsmps[ℓ,:]) for ℓ=1:nCa]; up = [maximum(extsmps[ℓ,:]) for ℓ=1:nCa];\n",
    "\n",
    "plot(1:nCa,extμ,linewidth=3,ribbon=(extμ-lw,up-extμ),fillalpha=0.1,legend=:bottomright,\n",
    "     xlabel = \"[Ca²⁺] (μM)\",ylabel=\"tip link length (Å)\",size=(450,300),labels=\"\");\n",
    "\n",
    "lw = [quantile(extsmps[ℓ,:],0.025) for ℓ=1:nCa]; up = [quantile(extsmps[ℓ,:],0.975) for ℓ=1:nCa];\n",
    "\n",
    "plot!(1:nCa,extμ,linewidth=0,ribbon=(extμ-lw,up-extμ),fillalpha=0.2,\n",
    "     xlabel = \"[Ca²⁺] (μM)\",ylabel=\"tip link length (Å)\",labels=\"\",c=plt[1]);"
   ]
  },
  {
   "cell_type": "code",
   "execution_count": null,
   "id": "e632955f",
   "metadata": {},
   "outputs": [],
   "source": [
    "lw = [quantile(extsmps[ℓ,:],0.25) for ℓ=1:nCa]; up = [quantile(extsmps[ℓ,:],0.75) for ℓ=1:nCa];\n",
    "\n",
    "plot!(1:nCa,extμ,linewidth=0,ribbon=(extμ-lw,up-extμ),fillalpha=0.35,\n",
    "     xlabel = \"[Ca²⁺] (μM)\",ylabel=\"tip link length (Å)\",labels=\"\",c=plt[1])\n",
    "\n",
    "plot!(xtickfontsize=10,ytickfontsize=10,fontsize=12,legendfontsize=10,titlefontsize=14);"
   ]
  },
  {
   "cell_type": "code",
   "execution_count": null,
   "id": "7d1c76ae",
   "metadata": {},
   "outputs": [],
   "source": [
    "p1 = plot!();\n",
    "p2 = deepcopy(p1);\n",
    "plot!(p2,xlims=(0,50));"
   ]
  },
  {
   "cell_type": "code",
   "execution_count": null,
   "id": "c136dd50",
   "metadata": {},
   "outputs": [],
   "source": [
    "extμ = sum(extsmps,dims=2)/nsmp; \n",
    "lw = [minimum(extsmps[ℓ,:]) for ℓ=1:nCa]; up = [maximum(extsmps[ℓ,:]) for ℓ=1:nCa];\n",
    "\n",
    "plot!(p2,inset=(1,bbox(0.12,0.125,0.45,0.35,:bottom,:left)));\n",
    "\n",
    "plot!(p2[2],1:nCa,extμ,linewidth=3,ribbon=(extμ-lw,up-extμ),fillalpha=0.1,labels=\"\");"
   ]
  },
  {
   "cell_type": "code",
   "execution_count": null,
   "id": "1ed4e025",
   "metadata": {},
   "outputs": [],
   "source": [
    "lw = [quantile(extsmps[ℓ,:],0.025) for ℓ=1:nCa]; up = [quantile(extsmps[ℓ,:],0.975) for ℓ=1:nCa];\n",
    "\n",
    "plot!(p2[2],1:nCa,extμ,linewidth=0,ribbon=(extμ-lw,up-extμ),fillalpha=0.2,\n",
    "     labels=\"\",c=plt[1]);"
   ]
  },
  {
   "cell_type": "code",
   "execution_count": null,
   "id": "e8901227",
   "metadata": {},
   "outputs": [],
   "source": [
    "lw = [quantile(extsmps[ℓ,:],0.25) for ℓ=1:nCa]; up = [quantile(extsmps[ℓ,:],0.75) for ℓ=1:nCa];\n",
    "\n",
    "plot!(p2[2],1:nCa,extμ,linewidth=0,ribbon=(extμ-lw,up-extμ),fillalpha=0.35,\n",
    "     labels=\"\",c=plt[1])"
   ]
  },
  {
   "cell_type": "code",
   "execution_count": null,
   "id": "e3431552",
   "metadata": {},
   "outputs": [],
   "source": [
    "Δextμ = sum(Δextsmps,dims=2)/nsmp; \n",
    "lw = [minimum(Δextsmps[ℓ,:]) for ℓ=1:nCa]; up = [maximum(Δextsmps[ℓ,:]) for ℓ=1:nCa];\n",
    "\n",
    "plot(1:nCa,Δextμ,linewidth=3,ribbon=(Δextμ-lw,up-Δextμ),fillalpha=0.1,legend=:bottomright,\n",
    "     xlabel = \"[Ca²⁺] (μM)\",ylabel=\"tip link Δlength (Å)\",size=(450,300),labels=\"\");\n",
    "\n",
    "lw = [quantile(Δextsmps[ℓ,:],0.025) for ℓ=1:nCa]; up = [quantile(Δextsmps[ℓ,:],0.975) for ℓ=1:nCa];\n",
    "\n",
    "plot!(1:nCa,Δextμ,linewidth=0,ribbon=(Δextμ-lw,up-Δextμ),fillalpha=0.2,\n",
    "     xlabel = \"[Ca²⁺] (μM)\",ylabel=\"tip link Δlength (Å)\",labels=\"\",c=plt[1]);"
   ]
  },
  {
   "cell_type": "code",
   "execution_count": null,
   "id": "54469615",
   "metadata": {},
   "outputs": [],
   "source": [
    "lw = [quantile(Δextsmps[ℓ,:],0.25) for ℓ=1:nCa]; up = [quantile(Δextsmps[ℓ,:],0.75) for ℓ=1:nCa];\n",
    "\n",
    "plot!(1:nCa,Δextμ,linewidth=0,ribbon=(Δextμ-lw,up-Δextμ),fillalpha=0.35,\n",
    "     xlabel = \"[Ca²⁺] (μM)\",ylabel=\"tip link Δlength (Å)\",labels=\"\",c=plt[1])\n",
    "\n",
    "plot!(xtickfontsize=10,ytickfontsize=10,fontsize=12,legendfontsize=10,titlefontsize=14);"
   ]
  },
  {
   "cell_type": "code",
   "execution_count": null,
   "id": "c28438c1",
   "metadata": {},
   "outputs": [],
   "source": [
    "p3 = plot!();\n",
    "p4 = deepcopy(p3);\n",
    "plot!(p4,xlims=(0,50));"
   ]
  },
  {
   "cell_type": "code",
   "execution_count": null,
   "id": "6a76f266",
   "metadata": {},
   "outputs": [],
   "source": [
    "Δextμ = sum(Δextsmps,dims=2)/nsmp; \n",
    "lw = [minimum(Δextsmps[ℓ,:]) for ℓ=1:nCa]; up = [maximum(Δextsmps[ℓ,:]) for ℓ=1:nCa];\n",
    "\n",
    "plot!(p4,inset=(1,bbox(0.05,0.1,0.45,0.35,:top,:right)));\n",
    "\n",
    "plot!(p4[2],1:nCa,Δextμ,linewidth=3,ribbon=(Δextμ-lw,up-Δextμ),fillalpha=0.1,labels=\"\");"
   ]
  },
  {
   "cell_type": "code",
   "execution_count": null,
   "id": "7fdc0228",
   "metadata": {},
   "outputs": [],
   "source": [
    "lw = [quantile(Δextsmps[ℓ,:],0.025) for ℓ=1:nCa]; up = [quantile(Δextsmps[ℓ,:],0.975) for ℓ=1:nCa];\n",
    "\n",
    "plot!(p4[2],1:nCa,Δextμ,linewidth=0,ribbon=(Δextμ-lw,up-Δextμ),fillalpha=0.2,\n",
    "     labels=\"\",c=plt[1]);"
   ]
  },
  {
   "cell_type": "code",
   "execution_count": null,
   "id": "54b788f7",
   "metadata": {},
   "outputs": [],
   "source": [
    "lw = [quantile(Δextsmps[ℓ,:],0.25) for ℓ=1:nCa]; up = [quantile(Δextsmps[ℓ,:],0.75) for ℓ=1:nCa];\n",
    "\n",
    "plot!(p4[2],1:nCa,Δextμ,linewidth=0,ribbon=(Δextμ-lw,up-Δextμ),fillalpha=0.35,\n",
    "     labels=\"\",c=plt[1])"
   ]
  },
  {
   "cell_type": "code",
   "execution_count": null,
   "id": "e18f1a08",
   "metadata": {},
   "outputs": [],
   "source": [
    "plot(p2,p4,size=(900,300),margin=4mm)\n",
    "savefig(\"predextrpt.pdf\");"
   ]
  },
  {
   "cell_type": "markdown",
   "id": "166417dc",
   "metadata": {},
   "source": [
    "## Parametric bootstrap bundle ruptures"
   ]
  },
  {
   "cell_type": "code",
   "execution_count": null,
   "id": "51c4cf98",
   "metadata": {},
   "outputs": [],
   "source": [
    "nsmp = 10000;\n",
    "fsmps = Matrix{Float64}(undef,nCa,nsmp); \n",
    "mnr = Vector{Float64}(undef,NL); bndl = Vector{Float64}(undef,NM);\n",
    "ps = fill(0.,8); ps[1] = 1.; P = Categorical(ps);\n",
    "frc_μ = Vector{Float64}(undef,8); frc_σ = similar(frc_μ)\n",
    "\n",
    "prg = 0.; δprg = 0.025\n",
    "for i=1:nCa,j=1:nsmp,k=1:NM,ℓ=1:NL\n",
    "    if k==1\n",
    "        # redraw a gibbs Ca2+ distribution for this bundle\n",
    "        id = rand(1:ngibbs);\n",
    "        ps[:] = SMP[:,id,i];\n",
    "        P.p[:] = ps;\n",
    "        \n",
    "        # redraw the unfolding force profiles for Ca2+ states\n",
    "        id = rand(1:n_μσjw)\n",
    "        frc_μ[:] = M_μσjw[1:8,id]\n",
    "        frc_σ[:] = M_μσjw[9:16,id]\n",
    "        frc_j[:] = M_μσjw[17:24,id]\n",
    "        frc_ws[:,:] = reshape(M_μσjw[25:end,id],8,8)\n",
    "    end\n",
    "    \n",
    "    # fill the linker region with Ca²⁺ state\n",
    "    typ = rand(P);\n",
    "    \n",
    "    # sample an unfolding force from parametric distribution\n",
    "    ## Extract the mixture unfolding event profile for unfolding for this Ca2+ state\n",
    "    jid = Int64(frc_j[typ]); w = frc_ws[:,jid] \n",
    "    \n",
    "    ## Sample the event conditional on the mixture profile\n",
    "    C = Categorical(w); id = rand(C)\n",
    "    μ = frc_μ[id]; σ = frc_σ[id]\n",
    "    \n",
    "    mnr[ℓ] = μ+σ*randn();\n",
    "    \n",
    "    if ℓ==NL\n",
    "        # compute the unfolding force across full monomer\n",
    "        bndl[k] = minimum(mnr);\n",
    "    end\n",
    "    \n",
    "    if k==NM\n",
    "        # compute 50% of tiplinks are unfolded force for the bundle\n",
    "        fsmps[i,j] = quantile(bndl,0.5);\n",
    "    end\n",
    "    \n",
    "    while i/nCa >= prg+δprg\n",
    "        prg += δprg\n",
    "        println(\"progress through samples $(prg)...\")\n",
    "    end\n",
    "end"
   ]
  },
  {
   "cell_type": "markdown",
   "id": "d35b0ff6",
   "metadata": {},
   "source": [
    "### Plot 50% bundle rupture forces as function of $[Ca^{2+}]$"
   ]
  },
  {
   "cell_type": "code",
   "execution_count": null,
   "id": "9d7d6f35",
   "metadata": {},
   "outputs": [],
   "source": [
    "fμ = sum(fsmps,dims=2)/nsmp; \n",
    "lw = [minimum(fsmps[ℓ,:]) for ℓ=1:nCa]; up = [maximum(fsmps[ℓ,:]) for ℓ=1:nCa];\n",
    "\n",
    "plot(1:nCa,fμ,linewidth=3,ribbon=(fμ-lw,up-fμ),fillalpha=0.1,legend=:topleft,\n",
    "     xlabel = \"[Ca²⁺] (μM)\",ylabel=\"force (pN)\",size=(450,300),labels=\"\");"
   ]
  },
  {
   "cell_type": "code",
   "execution_count": null,
   "id": "40393538",
   "metadata": {},
   "outputs": [],
   "source": [
    "lw = [quantile(fsmps[ℓ,:],0.025) for ℓ=1:nCa]; up = [quantile(fsmps[ℓ,:],0.975) for ℓ=1:nCa];\n",
    "\n",
    "plot!(1:nCa,fμ,linewidth=0,ribbon=(fμ-lw,up-fμ),fillalpha=0.2,\n",
    "     xlabel = \"[Ca²⁺] (μM)\",ylabel=\"force (pN)\",labels=\"\",c=plt[1]);"
   ]
  },
  {
   "cell_type": "code",
   "execution_count": null,
   "id": "6b3c912d",
   "metadata": {},
   "outputs": [],
   "source": [
    "lw = [quantile(fsmps[ℓ,:],0.25) for ℓ=1:nCa]; up = [quantile(fsmps[ℓ,:],0.75) for ℓ=1:nCa];\n",
    "\n",
    "plot!(1:nCa,fμ,linewidth=0,ribbon=(fμ-lw,up-fμ),fillalpha=0.35,\n",
    "     xlabel = \"[Ca²⁺] (μM)\",ylabel=\"force (pN)\",labels=\"\",c=plt[1])\n",
    "\n",
    "plot!(xtickfontsize=10,ytickfontsize=10,fontsize=12,legendfontsize=10,titlefontsize=14);"
   ]
  },
  {
   "cell_type": "code",
   "execution_count": null,
   "id": "cbf9b46d",
   "metadata": {},
   "outputs": [],
   "source": [
    "p1 = plot!();\n",
    "p2 = deepcopy(p1);\n",
    "plot!(p2,xlims=(0,50));"
   ]
  },
  {
   "cell_type": "code",
   "execution_count": null,
   "id": "834b9fd0",
   "metadata": {},
   "outputs": [],
   "source": [
    "fμ = sum(fsmps,dims=2)/nsmp; \n",
    "lw = [minimum(fsmps[ℓ,:]) for ℓ=1:nCa]; up = [maximum(fsmps[ℓ,:]) for ℓ=1:nCa];\n",
    "\n",
    "plot!(p2,inset=(1,bbox(0.025,0.1,0.45,0.35,:bottom,:right)));\n",
    "\n",
    "plot!(p2[2],1:nCa,fμ,linewidth=3,ribbon=(fμ-lw,up-fμ),fillalpha=0.1,labels=\"\");"
   ]
  },
  {
   "cell_type": "code",
   "execution_count": null,
   "id": "ee14a11b",
   "metadata": {},
   "outputs": [],
   "source": [
    "lw = [quantile(fsmps[ℓ,:],0.025) for ℓ=1:nCa]; up = [quantile(fsmps[ℓ,:],0.975) for ℓ=1:nCa];\n",
    "\n",
    "plot!(p2[2],1:nCa,fμ,linewidth=0,ribbon=(fμ-lw,up-fμ),fillalpha=0.2,\n",
    "     labels=\"\",c=plt[1]);"
   ]
  },
  {
   "cell_type": "code",
   "execution_count": null,
   "id": "aa0ce74f",
   "metadata": {},
   "outputs": [],
   "source": [
    "lw = [quantile(fsmps[ℓ,:],0.25) for ℓ=1:nCa]; up = [quantile(fsmps[ℓ,:],0.75) for ℓ=1:nCa];\n",
    "\n",
    "plot!(p2[2],1:nCa,fμ,linewidth=0,ribbon=(fμ-lw,up-fμ),fillalpha=0.35,\n",
    "     labels=\"\",c=plt[1])"
   ]
  },
  {
   "cell_type": "code",
   "execution_count": null,
   "id": "f95cb9b7",
   "metadata": {},
   "outputs": [],
   "source": [
    "savefig(\"predbrpt.pdf\");\n",
    "CSV.write(\"bndlrptsmps.csv\",DataFrame(fsmps,:auto));"
   ]
  },
  {
   "cell_type": "code",
   "execution_count": null,
   "id": "9ea7f35e",
   "metadata": {},
   "outputs": [],
   "source": []
  }
 ],
 "metadata": {
  "kernelspec": {
   "display_name": "Julia 1.9.2",
   "language": "julia",
   "name": "julia-1.9"
  },
  "language_info": {
   "file_extension": ".jl",
   "mimetype": "application/julia",
   "name": "julia",
   "version": "1.9.2"
  }
 },
 "nbformat": 4,
 "nbformat_minor": 5
}
