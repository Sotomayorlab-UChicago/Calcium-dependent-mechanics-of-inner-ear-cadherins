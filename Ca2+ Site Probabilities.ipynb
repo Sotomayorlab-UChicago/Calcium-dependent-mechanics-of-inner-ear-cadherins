{
 "cells": [
  {
   "cell_type": "markdown",
   "id": "2962a14b",
   "metadata": {},
   "source": [
    "# mmCDH23 probabilities for $Ca^{2+}$-site occupancy\n",
    "This notebook automates the MCMC Gibbs sampling of probability distributions for CDH23 $\\mathrm{Ca}^{2+}$ occupancy at discrete binding sites between repeats. A general user would only need to specify their parameters in the section **Inputs to be specified by user**."
   ]
  },
  {
   "cell_type": "code",
   "execution_count": null,
   "id": "3906d38f",
   "metadata": {},
   "outputs": [],
   "source": [
    "# load packages\n",
    "include(\"gibbs.jl\");\n",
    "gr(); \n",
    "myrng = MersenneTwister();\n",
    "\n",
    "\n",
    "myclr∇ = cgrad(:RdBu_10,rev=false);\n",
    "myclrp = palette(:seaborn_muted6);\n",
    "myclrs = [myclr∇[z] for z∈LinRange(0.0,0.7,30)];"
   ]
  },
  {
   "cell_type": "markdown",
   "id": "9960ca12",
   "metadata": {},
   "source": [
    "### Inputs to be specified by user\n",
    "In this section, the user can choose the parameter values for $\\mathrm{Ca}^{2+}$ binding affinity, parameters for binomial models of $\\mathrm{Ca}^{2+}$ occupancy in hair bundles, as well as MCMC and plotting parameters. The default $K_d$ values were taken from <a href=https://doi.org/10.1016/j.neuron.2010.03.028>(Sotomayor 2010)</a> for EC1-2. Findings reported in <a href= https://doi.org/10.7554/eLife.43473>(Tobin 2019)</a> indicate that there are about $NM=40$ tiplinks in a bundle. We also take $NL=24$ as the number of linker regions in a tiplink. From <a href=https://doi.org/10.1101/cshperspect.a029280>(Jaiganesh 2018)</a> these are the canonical $\\mathrm{Ca}^{2+}$-binding linkers and omit the two linkers that are noncanonical.\n",
    "\n",
    "Recall the <i>typical</i> $\\mathrm{Ca}^{2+}$ configurations at a linker are those where $\\mathrm{Ca}^{2+}$ binds in order of its binding affinity: 000,001,011,111. The <i>atypical</i> configurations are those where $\\mathrm{Ca}^{2+}$ binds out of order of its binding affinity: 010,100,101,110. In these representations, the triple ijk has i,j,k corresponding to sites 1,2,3. i is 0 or 1 depending if $\\mathrm{Ca}^{2+}$ is not bound at site 1 or if it is. Similar holds for j and k."
   ]
  },
  {
   "cell_type": "code",
   "execution_count": null,
   "id": "f1216717",
   "metadata": {},
   "outputs": [],
   "source": [
    "# Biochemical parameters\n",
    "#  Kd values\n",
    "prm = Dict{Symbol,Float64}();\n",
    "prm[:K₁]=71.4;\n",
    "prm[:K₂]=44.3;\n",
    "prm[:K₃]=(1.9+5)/2;\n",
    "\n",
    "#  Maximum probability of all atypical cases happening. 3/8 was \n",
    "prm[:τ] = 3/8; # p010+p100+p101+p110 <= τ\n",
    "\n",
    "#  Ca²⁺ ranges to be examined \n",
    "#  code assumes it is from 1:1:M for some M and includes 500\n",
    "Carg = 1.0:1.0:500;\n",
    "\n",
    "#  Ca²⁺ value for which running more specific analysis of Table #\n",
    "Caval = 20.;"
   ]
  },
  {
   "cell_type": "code",
   "execution_count": null,
   "id": "2734eeec",
   "metadata": {},
   "outputs": [],
   "source": [
    "# Bundle occupancy parameters\n",
    "#  NM is the number of CDH23 monomers within a bundle\n",
    "NM = 2*40; \n",
    "#  NL is the number of linker regions within a tiplink\n",
    "NL = 24;\n",
    "# Ca values at which bundle occupancy is analyzed, these should be integer-valued, within Carg, and there should be four of them\n",
    "Ca = [20.0,40.0,50.0,500.0];"
   ]
  },
  {
   "cell_type": "code",
   "execution_count": null,
   "id": "e719911d",
   "metadata": {},
   "outputs": [],
   "source": [
    "# MCMC Gibbs sampling parameters\n",
    "#  number of samples in a chain after discarding burn-in\n",
    "nsmp = 25000; \n",
    "\n",
    "#  number of independent mcmc chains\n",
    "nchains = 4;\n",
    "\n",
    "# burn-in period\n",
    "nburnin = nsmp÷2;"
   ]
  },
  {
   "cell_type": "code",
   "execution_count": null,
   "id": "74f42f3e",
   "metadata": {},
   "outputs": [],
   "source": [
    "# Plot parameters\n",
    "#  window for Ca²⁺ concentration zoom-in\n",
    "figwin = (0,50);"
   ]
  },
  {
   "cell_type": "markdown",
   "id": "4d294ab0",
   "metadata": {},
   "source": [
    "### Statistics by Gibbs sampling"
   ]
  },
  {
   "cell_type": "code",
   "execution_count": null,
   "id": "f6d3855c",
   "metadata": {},
   "outputs": [],
   "source": [
    "# Perform gibbs sampling and compute marginal probabilities \n",
    "# ordered as p010 p100 p101 p110 p000 p001 p011 p111\n",
    "SMPS = Vector{Array{Float64,3}}(undef,nchains);\n",
    "pmargs = Vector{Matrix{Float64}}(undef,nchains);\n",
    "@inbounds for i=1:nchains\n",
    "    ram = gibbsrun(prm,Carg;nsmp=nsmp+nburnin,rng=myrng);\n",
    "    # discard burn-in\n",
    "    SMPS[i] = copy(ram[:,nburnin+1:end,:]);\n",
    "    pmargs[i] = sum(SMPS[i],dims=2)/nsmp |> (x->reshape(x,(:,8)));\n",
    "    \n",
    "    println(\"finished with MCMC chain $i ...\")\n",
    "end\n",
    "\n",
    "# Aggregate samples across all chains\n",
    "SMP = SMPS[1];\n",
    "for i=2:nchains\n",
    "    SMP = cat(SMP,SMPS[i];dims=2);\n",
    "end\n",
    "pmarg = sum(SMP,dims=2)/(nchains*nsmp) |> (x->reshape(x,(:,8)));"
   ]
  },
  {
   "cell_type": "code",
   "execution_count": null,
   "id": "2c52b0ed",
   "metadata": {},
   "outputs": [],
   "source": [
    "# export the Gibbs samples for any further computation\n",
    "#  SMP was nCa x nchains*nsmp x 8 \n",
    "#  we permute first and last indices of array and then store as a reshaped 8nchains*nsmp x nCa matrix\n",
    "#  Consecutive blocks of eight in the first column are the probabilities of all Ca2+ configs in a single Gibbs sample \n",
    "xpt = permutedims(SMP,(3,2,1));\n",
    "xpt = reshape(xpt,8*nchains*nsmp,:);\n",
    "dfxpt = DataFrame(xpt,:auto);\n",
    "CSV.write(\"gibbssmp.csv\",dfxpt);"
   ]
  },
  {
   "cell_type": "markdown",
   "id": "b4372041",
   "metadata": {},
   "source": [
    "MCMC convergence across all $[\\mathrm{Ca}^{2+}]$ is assessed by running several independent chains and comparing the within-chain and between chain variance. This is quantified by the <i>Gelman-Rubin</i>(GR) statistic which is computed according to the procedure described in (Sec 11.4, <a href=http://www.stat.columbia.edu/~gelman/book/>Bayesian Data Analysis</a>). GR statistics close to 1 are supporting evidence of MCMC convergence. GR statistics significantly larger than $1$ suggest that more MCMC samples are needed.\n",
    "\n",
    "Below, this statistic is computed for each probability of $\\mathrm{Ca}^{2+}$ configuration at a linker and across all $\\mathrm{Ca}^{2+}$ concentrations. The effect of changing $\\mathrm{Ca}^{2+}$ concentration upon the GR statisic is summarized by quantiles. "
   ]
  },
  {
   "cell_type": "code",
   "execution_count": null,
   "id": "72657221",
   "metadata": {},
   "outputs": [],
   "source": [
    "# Compute Gelman-Rubin convergence statistics for each Ca²⁺ configuration probability across all Ca²⁺ ranges\n",
    "#  Each chain is split in half and the twice as many half-chains are analyzed\n",
    "grs = grstat(SMPS);\n",
    "println(\"Gelman-Rubin statistic for each linker configuration summarized over all Ca²⁺ values:\")\n",
    "dfgrstat = DataFrame(\"pCa²⁺\"=>[\"p010\",\"p100\",\"p101\",\"p110\",\"p000\",\"p001\",\"p011\",\"p111\"],\n",
    "                     \"min\"=>[minimum(grs[:,j]) for j=1:8],\n",
    "                     \"2.5%\"=>[quantile(grs[:,j],0.025) for j=1:8],\n",
    "                     \"50%\"=>[quantile(grs[:,j],0.5) for j=1:8],\n",
    "                     \"97.5%\"=>[quantile(grs[:,j],0.975) for j=1:8],\n",
    "                     \"max\"=>[maximum(grs[:,j]) for j=1:8])"
   ]
  },
  {
   "cell_type": "code",
   "execution_count": null,
   "id": "466c6f67",
   "metadata": {},
   "outputs": [],
   "source": [
    "p1 = plot(Carg,pmarg[:,1],labels=\"p010\",linewidth=3,color_palette=myclrp,\n",
    "          ribbon=(pmarg[:,1]-minimum(SMP[:,:,1],dims=2),\n",
    "                  maximum(SMP[:,:,1],dims=2)-pmarg[:,1]),fillalpha=0.2)\n",
    "plot!(Carg,pmarg[:,2],labels=\"p100\",linewidth=3,\n",
    "          ribbon=(pmarg[:,2]-minimum(SMP[:,:,2],dims=2),\n",
    "                  maximum(SMP[:,:,2],dims=2)-pmarg[:,2]),fillalpha=0.2)\n",
    "plot!(Carg,pmarg[:,3],labels=\"p101\",linewidth=3,\n",
    "          ribbon=(pmarg[:,3]-minimum(SMP[:,:,3],dims=2),\n",
    "                  maximum(SMP[:,:,3],dims=2)-pmarg[:,3]),fillalpha=0.2)\n",
    "plot!(Carg,pmarg[:,4],labels=\"p110\",linewidth=3,\n",
    "      xlabel=\"[Ca²⁺]\",ylabel=\"probability\",\n",
    "          ribbon=(pmarg[:,4]-minimum(SMP[:,:,4],dims=2),\n",
    "                  maximum(SMP[:,:,4],dims=2)-pmarg[:,4]),fillalpha=0.2,\n",
    "      color_palette=myclrp,\n",
    "      legend=:topleft,\n",
    "      xtickfontsize=10,ytickfontsize=10,fontsize=12,legendfontsize=10,\n",
    "      xlims=figwin);\n",
    "\n",
    "p4 = plot(Carg,pmarg[:,1],labels=\"p010\",linewidth=3,color_palette=myclrp,\n",
    "          ribbon=(pmarg[:,1]-minimum(SMP[:,:,1],dims=2),\n",
    "                  maximum(SMP[:,:,1],dims=2)-pmarg[:,1]),fillalpha=0.2)\n",
    "plot!(Carg,pmarg[:,2],labels=\"p100\",linewidth=3,\n",
    "          ribbon=(pmarg[:,2]-minimum(SMP[:,:,2],dims=2),\n",
    "                  maximum(SMP[:,:,2],dims=2)-pmarg[:,2]),fillalpha=0.2)\n",
    "plot!(Carg,pmarg[:,3],labels=\"p101\",linewidth=3,\n",
    "          ribbon=(pmarg[:,3]-minimum(SMP[:,:,3],dims=2),\n",
    "                  maximum(SMP[:,:,3],dims=2)-pmarg[:,3]),fillalpha=0.2)\n",
    "plot!(Carg,pmarg[:,4],labels=\"p110\",linewidth=3,\n",
    "      xlabel=\"[Ca²⁺]\",ylabel=\"probability\",\n",
    "          ribbon=(pmarg[:,4]-minimum(SMP[:,:,4],dims=2),\n",
    "                  maximum(SMP[:,:,4],dims=2)-pmarg[:,4]),fillalpha=0.2,\n",
    "      color_palette=myclrp,\n",
    "      legend=:topleft,\n",
    "      xtickfontsize=10,ytickfontsize=10,fontsize=12,legendfontsize=10);\n",
    "\n",
    "p3 = plot(Carg,pmarg[:,5],labels=\"p000\",linewidth=3,color_palette=myclrp,\n",
    "          ribbon=(pmarg[:,5]-minimum(SMP[:,:,5],dims=2),\n",
    "                  maximum(SMP[:,:,5],dims=2)-pmarg[:,5]),fillalpha=0.2)\n",
    "plot!(Carg,pmarg[:,6],labels=\"p001\",linewidth=3,\n",
    "      ribbon=(pmarg[:,6]-minimum(SMP[:,:,6],dims=2),\n",
    "              maximum(SMP[:,:,6],dims=2)-pmarg[:,6]),fillalpha=0.2)\n",
    "plot!(Carg,pmarg[:,7],labels=\"p011\",linewidth=3,\n",
    "      ribbon=(pmarg[:,7]-minimum(SMP[:,:,7],dims=2),\n",
    "              maximum(SMP[:,:,7],dims=2)-pmarg[:,7]),fillalpha=0.2)\n",
    "plot!(Carg,pmarg[:,8],labels=\"p111\",linewidth=3,\n",
    "      ribbon=(pmarg[:,8]-minimum(SMP[:,:,8],dims=2),\n",
    "              maximum(SMP[:,:,8],dims=2)-pmarg[:,8]),fillalpha=0.2,\n",
    "      xlabel=\"[Ca²⁺]\",ylabel=\"probability\",\n",
    "      color_palette=myclrp,\n",
    "      legend=:topright,\n",
    "      xtickfontsize=10,ytickfontsize=10,fontsize=12,legendfontsize=10);\n",
    "\n",
    "p2 = deepcopy(p3); plot!(p2,xlims=figwin); plot!(p1,ylims=ylims(p2));"
   ]
  },
  {
   "cell_type": "code",
   "execution_count": null,
   "id": "d0d2085e",
   "metadata": {},
   "outputs": [],
   "source": [
    "println()\n",
    "println(\"Solid lines are the marginal probabilities across the constraint region of admissibile probability distributions.\")\n",
    "println(\"Left plot shows probabilities of the typical configurations when [Ca²⁺] varies along (0, 500) micromolar range.\")\n",
    "println(\"Right plot on bottom left zooms into [Ca²⁺] in the $(figwin) micromolar range.\");\n",
    "println(\"Bands show the extreme ranges observed over the Gibbs samples.\")\n",
    "lay = @layout [b c]\n",
    "plot(p3,p2,layout=lay,size=(900,300),margin=4mm)"
   ]
  },
  {
   "cell_type": "code",
   "execution_count": null,
   "id": "2921a8d0",
   "metadata": {},
   "outputs": [],
   "source": [
    "savefig(\"margprb_typical.pdf\");"
   ]
  },
  {
   "cell_type": "code",
   "execution_count": null,
   "id": "5bc6270a",
   "metadata": {},
   "outputs": [],
   "source": [
    "println()\n",
    "println(\"Solid lines are the marginal probabilities across the constraint region of admissibile probability distributions.\")\n",
    "println(\"Left plot shows probabilities of the atypical configurations when [Ca²⁺] varies along (0, 500) micromolar range.\")\n",
    "println(\"Right plot on bottom left zooms into [Ca²⁺] in the $(figwin) micromolar range.\");\n",
    "println(\"Bands show the extreme ranges observed over the Gibbs samples.\")\n",
    "lay = @layout [b c]\n",
    "plot!(p4,ylims=ylims(p2))\n",
    "plot(p4,p1,layout=lay,size=(900,300),margin=4mm)"
   ]
  },
  {
   "cell_type": "code",
   "execution_count": null,
   "id": "f1ca3800",
   "metadata": {},
   "outputs": [],
   "source": [
    "savefig(\"margprb_atypical.pdf\");"
   ]
  },
  {
   "cell_type": "markdown",
   "id": "65084c40",
   "metadata": {},
   "source": [
    "### Gibbs sampling at a highlighted $[\\mathrm{Ca}^{2+}]$ value"
   ]
  },
  {
   "cell_type": "code",
   "execution_count": null,
   "id": "6c4c8175",
   "metadata": {},
   "outputs": [],
   "source": [
    "ram = gibbsrun(prm,Caval;nsmp=nsmp+nburnin,rng=myrng);\n",
    "SMP0 = copy(ram[nburnin+1:end,:]);"
   ]
  },
  {
   "cell_type": "code",
   "execution_count": null,
   "id": "e4f17881",
   "metadata": {},
   "outputs": [],
   "source": [
    "# Plot histogram of typicals\n",
    "p1 = histogram(SMP0[:,5],title=\"p000\",labels=\"\",normalize=:probability,bins=10,\n",
    "               ylabel=\"fraction of\\n constraint region\");\n",
    "p2 = histogram(SMP0[:,6],title=\"p001\",labels=\"\",normalize=:probability,bins=10);\n",
    "p3 = histogram(SMP0[:,7],title=\"p011\",labels=\"\",normalize=:probability,bins=10,\n",
    "               ylabel=\"fraction of\\n constraint region\",\n",
    "               xlabel=\"probability\");\n",
    "p4 = histogram(SMP0[:,8],title=\"p111\",labels=\"\",normalize=:probability,bins=10,\n",
    "               xlabel=\"probability\");\n",
    "\n",
    "println()\n",
    "println(\"Marginal histograms at [Ca²⁺]=$(Caval)\")\n",
    "lay = @layout [a b;c d];\n",
    "plot(p1,p2,p3,p4,layout=lay,margin=2mm)"
   ]
  },
  {
   "cell_type": "code",
   "execution_count": null,
   "id": "f900b3d7",
   "metadata": {},
   "outputs": [],
   "source": [
    "savefig(\"marghist_Ca=$(Caval).pdf\");"
   ]
  },
  {
   "cell_type": "code",
   "execution_count": null,
   "id": "047a2bfd",
   "metadata": {},
   "outputs": [],
   "source": [
    "# Plot trace plots\n",
    "# Plot traces of likelies\n",
    "q1 = plot(SMP0[:,5],title=\"p000\",labels=\"\",ylabel=\"value\");\n",
    "q2 = plot(SMP0[:,6],title=\"p001\",labels=\"\");\n",
    "q3 = plot(SMP0[:,7],title=\"p011\",labels=\"\",xlabel=\"sample\",ylabel=\"value\");\n",
    "q4 = plot(SMP0[:,8],title=\"p111\",labels=\"\",xlabel=\"sample\");\n",
    "\n",
    "println()\n",
    "println(\"Trace plots at [Ca²⁺]=$(Caval)\")\n",
    "lay = @layout [a b;c d];\n",
    "plot(q1,q2,q3,q4,layout=lay)"
   ]
  },
  {
   "cell_type": "code",
   "execution_count": null,
   "id": "1b6fb1e7",
   "metadata": {},
   "outputs": [],
   "source": [
    "savefig(\"extrace_Ca=$(Caval).pdf\");"
   ]
  },
  {
   "cell_type": "code",
   "execution_count": null,
   "id": "86fc77da",
   "metadata": {
    "scrolled": true
   },
   "outputs": [],
   "source": [
    "# Compute some statistics\n",
    "M = Matrix{Float64}(undef,4,4);\n",
    "for i=5:8\n",
    "    for j=5:8\n",
    "        M[i-4,j-4] = sum((SMP0[:,i].<=SMP0[:,j]))/nsmp;\n",
    "    end\n",
    "end\n",
    "\n",
    "println(\"For [Ca²⁺] = $Caval:\")\n",
    "println(\"Probabilities of pi<=pj for all pairs of p000,p001,p011,p111:\");\n",
    "df = DataFrame(\"Pair\"=>[\"p000\",\"p001\",\"p011\",\"p111\"],\n",
    "               \"p000\"=>M[:,1],\"p001\"=>M[:,2],\"p011\"=>M[:,3],\"p111\"=>M[:,4]);\n",
    "println(df)"
   ]
  },
  {
   "cell_type": "markdown",
   "id": "aaa3af55",
   "metadata": {},
   "source": [
    "# Bundle $Ca^{2+}$-occupancy\n",
    "This section takes $N_M$ as the number of CDH23 monomers in a bundle and $N_L$ as the number of linker regions.\n",
    "### Record marginal $Ca^{2+}$ state probabilities at different concentrations for bundle analysis"
   ]
  },
  {
   "cell_type": "code",
   "execution_count": null,
   "id": "a726c645",
   "metadata": {},
   "outputs": [],
   "source": [
    "Ps = Dict{String,Vector}(\n",
    "     \"state\"=>[\"p000\",\"p001\",\"p011\",\"p111\"],\n",
    "     \"[Ca²⁺]=20 μM\"=>[mean(SMP[20,:,5]),mean(SMP[20,:,6]),mean(SMP[20,:,7]),mean(SMP[20,:,8])],\n",
    "     \"[Ca²⁺]=40 μM\"=>[mean(SMP[40,:,5]),mean(SMP[40,:,6]),mean(SMP[40,:,7]),mean(SMP[40,:,8])],\n",
    "     \"[Ca²⁺]=50 μM\"=>[mean(SMP[50,:,5]),mean(SMP[50,:,6]),mean(SMP[50,:,7]),mean(SMP[50,:,8])],\n",
    "     \"[Ca²⁺]=500 μM\"=>[mean(SMP[500,:,5]),mean(SMP[500,:,6]),mean(SMP[500,:,7]),mean(SMP[500,:,8])]\n",
    "      );\n",
    "dfPs = DataFrame(Ps)"
   ]
  },
  {
   "cell_type": "markdown",
   "id": "5ecf5e9b",
   "metadata": {},
   "source": [
    "### Distributions for occupancy at a linker"
   ]
  },
  {
   "cell_type": "code",
   "execution_count": null,
   "id": "a25c6b05",
   "metadata": {},
   "outputs": [],
   "source": [
    "hst1 = pltbndl(20;SMP=SMP,NM=NM,NL=NL);\n",
    "plot!(hst1,xtickfontsize=10,ytickfontsize=10,fontsize=12,legendfontsize=10,titlefontsize=14,\n",
    "      ylims=(0,1),xlims=(0,25))\n",
    "hst2 = pltbndl(40;SMP=SMP,NM=NM,NL=NL);\n",
    "plot!(hst2,xtickfontsize=10,ytickfontsize=10,fontsize=12,legendfontsize=10,titlefontsize=14,\n",
    "      ylims=(0,1),xlims=(0,25))\n",
    "hst3 = pltbndl(50;SMP=SMP,NM=NM,NL=NL);\n",
    "plot!(hst3,xtickfontsize=10,ytickfontsize=10,fontsize=12,legendfontsize=10,titlefontsize=14,\n",
    "      ylims=(0,1),xlims=(0,25))\n",
    "hst4 = pltbndl(500;SMP=SMP,NM=NM,NL=NL);\n",
    "plot!(hst4,xtickfontsize=10,ytickfontsize=10,fontsize=12,legendfontsize=10,titlefontsize=14,\n",
    "      ylims=(0,1),xlims=(0,25))\n",
    "plot!(hst1,xlabel=\"\"); plot!(hst2,xlabel=\"\",ylabel=\"\",legend=false); \n",
    "plot!(hst3,legend=false); plot!(hst4,ylabel=\"\",legend=false);\n",
    "\n",
    "lay = @layout [a b;c d]\n",
    "plot(hst1,hst2,hst3,hst4,layout=lay,size=(750,500),margin=3mm)"
   ]
  },
  {
   "cell_type": "code",
   "execution_count": null,
   "id": "7c0818b5",
   "metadata": {},
   "outputs": [],
   "source": [
    "savefig(\"bndllnk.pdf\");"
   ]
  },
  {
   "cell_type": "markdown",
   "id": "4bb62d3c",
   "metadata": {},
   "source": [
    "#### Variance in bundles"
   ]
  },
  {
   "cell_type": "code",
   "execution_count": null,
   "id": "cfc627c8",
   "metadata": {},
   "outputs": [],
   "source": [
    "Zs = [bndlvar(k;SMP=SMP,NM=NM,NL=NL,nsmp=3000) for k∈[20,40,50,500]];\n",
    "sct = pltbndlvar(\"111\";Zs=Zs,Cavals=[20,40,50,500],xlims=(0,25),ylims=(0,3),mrkα=0.3)"
   ]
  },
  {
   "cell_type": "code",
   "execution_count": null,
   "id": "046fbe16",
   "metadata": {},
   "outputs": [],
   "source": [
    "savefig(\"bndlvar_cbar.pdf\");"
   ]
  }
 ],
 "metadata": {
  "kernelspec": {
   "display_name": "Julia 1.9.2",
   "language": "julia",
   "name": "julia-1.9"
  },
  "language_info": {
   "file_extension": ".jl",
   "mimetype": "application/julia",
   "name": "julia",
   "version": "1.9.2"
  }
 },
 "nbformat": 4,
 "nbformat_minor": 5
}
