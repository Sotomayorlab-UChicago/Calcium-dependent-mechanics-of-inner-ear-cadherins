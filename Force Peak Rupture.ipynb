{
 "cells": [
  {
   "cell_type": "markdown",
   "id": "15e504a9",
   "metadata": {},
   "source": [
    "# Parametric Bootstrapping Force Peak Ruptures"
   ]
  },
  {
   "cell_type": "code",
   "execution_count": null,
   "id": "e43588bc",
   "metadata": {},
   "outputs": [],
   "source": [
    "include(\"gibbs.jl\");\n",
    "plt = palette(:default);"
   ]
  },
  {
   "cell_type": "markdown",
   "id": "ab4c7a7c",
   "metadata": {},
   "source": [
    "## Inputs to be specified by user"
   ]
  },
  {
   "cell_type": "code",
   "execution_count": null,
   "id": "3133aef2",
   "metadata": {},
   "outputs": [],
   "source": [
    "NL = 24; # Number of linkers in CDH23\n",
    "NM = 80; # Number of CDH23 monomers in a bundle"
   ]
  },
  {
   "cell_type": "markdown",
   "id": "98765137",
   "metadata": {},
   "source": [
    "## Load the Gibbs samples"
   ]
  },
  {
   "cell_type": "code",
   "execution_count": null,
   "id": "e7e97fea",
   "metadata": {},
   "outputs": [],
   "source": [
    "dfsmp = CSV.read(\"gibbssmp.csv\",DataFrame);\n",
    "SMP = [dfsmp[i,j] for i=1:nrow(dfsmp),j=1:ncol(dfsmp)];\n",
    "_,nCa = size(SMP);\n",
    "SMP = reshape(SMP,8,:,nCa);\n",
    "ngibbs = size(SMP)[2];\n",
    "println(\"Gibbs samples are stored in SMP which is nCfg x ngibbs x nCa array.\");\n",
    "println(\"Configs's are ordered like p000 p001 p011 p111 p010 p100 p101 p110 along first index.\");"
   ]
  },
  {
   "cell_type": "markdown",
   "id": "5621c9fa",
   "metadata": {},
   "source": [
    "## Calibrate to the force peak rupture data\n",
    "### Load the data"
   ]
  },
  {
   "cell_type": "code",
   "execution_count": null,
   "id": "c448521c",
   "metadata": {},
   "outputs": [],
   "source": [
    "dftmp = CSV.read(\"Force peaks grouped by rupture.csv\",DataFrame);\n",
    "replace!(dftmp[!,\"Rupture\"],\"Ca2+ coordination\"=>\"Ca²⁺ coordination\");\n",
    "dftmp"
   ]
  },
  {
   "cell_type": "code",
   "execution_count": null,
   "id": "087200cc",
   "metadata": {},
   "outputs": [],
   "source": [
    "# create dictionary assigning Ca2+ state to its rupture type\n",
    "rpts = Dict{Int64,String}(1=>\"beta sheet\",2=>\"beta sheet\",3=>\"Ca²⁺ coordination\",4=>\"Ca²⁺ coordination\",\n",
    "                          5=>\"beta sheet\",6=>\"beta sheet\",7=>\"Ca²⁺ coordination\",8=>\"beta sheet\");"
   ]
  },
  {
   "cell_type": "code",
   "execution_count": null,
   "id": "825e9967",
   "metadata": {},
   "outputs": [],
   "source": [
    "gdf = groupby(dftmp,\"Rupture\");\n",
    "pltbx = boxplot(dftmp[!,\"Rupture\"],dftmp[!,end],alpha=0.75,labels=\"smd: v = 0.1 nm/ns\");\n",
    "scatter!(pltbx,fill(1.5,nrow(gdf[(Rupture=\"beta sheet\",)])),gdf[(Rupture=\"beta sheet\",)][!,end],labels=\"\",c=plt[2])\n",
    "scatter!(pltbx,fill(0.5,nrow(gdf[(Rupture=\"Ca²⁺ coordination\",)])),gdf[(Rupture=\"Ca²⁺ coordination\",)][!,end],labels=\"\",c=plt[2])\n",
    "\n",
    "plot!(pltbx,xlabel=\"rupture\",ylabel=\"force (pN)\",size=(450,300))"
   ]
  },
  {
   "cell_type": "code",
   "execution_count": null,
   "id": "50b230f5",
   "metadata": {},
   "outputs": [],
   "source": [
    "savefig(\"frpts_bytype.pdf\");"
   ]
  },
  {
   "cell_type": "markdown",
   "id": "415c61c9",
   "metadata": {},
   "source": [
    "### Fit the Gaussian mixture models"
   ]
  },
  {
   "cell_type": "code",
   "execution_count": null,
   "id": "8f765452",
   "metadata": {},
   "outputs": [],
   "source": [
    "\"\"\"\n",
    "    loocv(x::AbstractVector,σ::Real)\n",
    "Compute the average log-likelihood of calibrated Gaussian mixture models on withhold set by leave one out cross-validation where the Gaussians are given standard deviation σ.\n",
    "\"\"\"\n",
    "function loocv(x::AbstractVector,σ::Real)\n",
    "    nsmp = length(x); tmp = 0.; val = fill(0.,nsmp);\n",
    "    for ℓ=1:nsmp,k=1:nsmp\n",
    "        if k==1\n",
    "            tmp = 0.0;\n",
    "        end\n",
    "        if k==ℓ\n",
    "            continue\n",
    "        end\n",
    "        \n",
    "        N = Normal(x[k],σ);\n",
    "        tmp += ( pdf(N,x[ℓ])/(nsmp-1) );\n",
    "        \n",
    "        if (k==nsmp)||(k==nsmp-1 && ℓ==nsmp)\n",
    "            val[ℓ] = tmp |> log;\n",
    "        end \n",
    "    end\n",
    "\n",
    "    return sum(val)/nsmp\n",
    "end;"
   ]
  },
  {
   "cell_type": "code",
   "execution_count": null,
   "id": "180b6844",
   "metadata": {},
   "outputs": [],
   "source": [
    "hax = 0.1:0.1:400;\n",
    "βcrsvals = [loocv(gdf[(Rupture=\"beta sheet\",)][!,end],h) for h∈hax];\n",
    "Cacrsvals = [loocv(gdf[(Rupture=\"Ca²⁺ coordination\",)][!,end],h) for h∈hax];\n",
    "\n",
    "p1 = plot(hax,exp.(βcrsvals),labels=\"beta sheet\",size=(450,300),xlabel=\"σ-bandwidth\",ylabel=\"exp(avg log-likelihood)\",linewidth=3)\n",
    "id = findfirst(βcrsvals.==maximum(βcrsvals)); βσ = hax[id];\n",
    "vline!(p1,[βσ],labels=\"σ=$(round(βσ,digits=4))\",linestyle=:dash,linewidth=3)\n",
    "plot!(xtickfontsize=10,ytickfontsize=10,fontsize=12,legendfontsize=10,titlefontsize=14)\n",
    "\n",
    "p2 = plot(hax,exp.(Cacrsvals),labels=\"Ca²⁺ coordination\",size=(450,300),xlabel=\"σ-bandwidth\",ylabel=\"\",linewidth=3)\n",
    "id = findfirst(Cacrsvals.==maximum(Cacrsvals)); Caσ = hax[id];\n",
    "vline!(p2,[Caσ],labels=\"σ=$(round(Caσ,digits=4))\",linestyle=:dash,linewidth=3)\n",
    "plot!(xtickfontsize=10,ytickfontsize=10,fontsize=12,legendfontsize=10,titlefontsize=14)\n",
    "\n",
    "plot!(p1,yformatter=(x->round(x,sigdigits=3)))\n",
    "plot!(p2,yformatter=(x->round(x,sigdigits=3)))\n",
    "plot(p1,p2,size=(900,300),margin=4mm)"
   ]
  },
  {
   "cell_type": "code",
   "execution_count": null,
   "id": "fa93bf01",
   "metadata": {},
   "outputs": [],
   "source": [
    "savefig(\"kde_bndwth.pdf\");"
   ]
  },
  {
   "cell_type": "markdown",
   "id": "35de6e5b",
   "metadata": {},
   "source": [
    "## Analyze goodness of fit\n",
    "#### Visually inspect the fits"
   ]
  },
  {
   "cell_type": "code",
   "execution_count": null,
   "id": "af9e8f70",
   "metadata": {},
   "outputs": [],
   "source": [
    "nsmp = 200000;\n",
    "# sample βs and Casmp\n",
    "βsmp = [rand(gdf[(Rupture = \"beta sheet\",)][!,end])+βσ*randn() for ℓ=1:nsmp];\n",
    "Casmp = [rand(gdf[(Rupture = \"Ca²⁺ coordination\",)][!,end])+Caσ*randn() for ℓ=1:nsmp];\n",
    "\n",
    "pltvl = deepcopy(pltbx);\n",
    "violin!(pltvl,fill(0.5,nsmp),Casmp,alpha=0.25,c=plt[4],labels=\"fit: Gaussian mixture\")\n",
    "violin!(pltvl,fill(1.5,nsmp),βsmp,alpha=0.25,labels=\"\",c=plt[4])\n",
    "\n",
    "plot!(pltvl,xtickfontsize=10,ytickfontsize=10,fontsize=12,legendfontsize=10,titlefontsize=14)"
   ]
  },
  {
   "cell_type": "code",
   "execution_count": null,
   "id": "72edddd3",
   "metadata": {},
   "outputs": [],
   "source": [
    "savefig(\"frpts_bytypewfit.pdf\");"
   ]
  },
  {
   "cell_type": "markdown",
   "id": "483980eb",
   "metadata": {},
   "source": [
    "#### Run nonparametric KS test to see if beta and $Ca^{2+}$ ruptures are statistically significant: all samples from one density estimated distribution"
   ]
  },
  {
   "cell_type": "code",
   "execution_count": null,
   "id": "e2f3985c",
   "metadata": {},
   "outputs": [],
   "source": [
    "hax = 0.1:0.1:400;\n",
    "aggcrsvals = [loocv(dftmp[!,end],h) for h∈hax];\n",
    "p3 = plot(hax,exp.(aggcrsvals),labels=\"aggregate\",size=(450,300),xlabel=\"σ-bandwidth\",ylabel=\"exp(avg log-likelihood)\",linewidth=3)\n",
    "id = findfirst(aggcrsvals.==maximum(aggcrsvals)); aggσ = hax[id];\n",
    "vline!(p3,[aggσ],labels=\"σ=$(round(aggσ,digits=4))\",linestyle=:dash,linewidth=3)\n",
    "plot!(xtickfontsize=10,ytickfontsize=10,fontsize=12,legendfontsize=10,titlefontsize=14)"
   ]
  },
  {
   "cell_type": "code",
   "execution_count": null,
   "id": "dcf7f039",
   "metadata": {},
   "outputs": [],
   "source": [
    "nsmp = 200000;\n",
    "# sample βs and Casmp\n",
    "aggsmp = [rand(dftmp[!,end])+aggσ*randn() for ℓ=1:nsmp];\n",
    "\n",
    "p4 = boxplot([\"aggregate\"],dftmp[!,end],alpha=0.75,labels=\"smd: v = 0.1 nm/ns\");\n",
    "scatter!(p4,fill(0.5,nrow(dftmp)),dftmp[!,end],labels=\"\",c=plt[2]);\n",
    "violin!(p4,fill(0.5,nsmp),aggsmp,alpha=0.25,c=plt[4],labels=\"fit: Gaussian mixture\")\n",
    "plot!(p4,xtickfontsize=10,ytickfontsize=10,fontsize=12,legendfontsize=10,titlefontsize=14)\n",
    "plot!(p4,xlabel=\"rupture\",ylabel=\"force (pN)\",size=(1.25*450,1.25*300))"
   ]
  },
  {
   "cell_type": "code",
   "execution_count": null,
   "id": "b6f0a23a",
   "metadata": {},
   "outputs": [],
   "source": [
    "# btstp sample the agg distribution 7 and 5 times for the Ca2+ and beta sheets\n",
    "nsmp = 500000;\n",
    "btstpagg = rand(dftmp[!,end],12,nsmp) + aggσ*randn(12,nsmp);\n",
    "btstpbeta = btstpagg[1:7,:]; btstpca = btstpagg[8:end,:];\n",
    "\n",
    "# Monte Carlo sample ks's of semi-parametric bootstrapped values\n",
    "ksdistr = [maximum(abs.(quantile(btstpbeta[:,k],LinRange(0,1,101))\n",
    "                - quantile(btstpca[:,k],LinRange(0,1,101)))) for k=1:nsmp];\n",
    "\n",
    "# compute the observed ks\n",
    "ksobs = maximum(abs.(quantile(gdf[(Rupture=\"beta sheet\",)][!,end],LinRange(0,1,101))\n",
    "                - quantile(gdf[(Rupture=\"Ca²⁺ coordination\",)][!,end],LinRange(0,1,101))));\n",
    "                \n",
    "# compute how many are more extreme\n",
    "println(\"ks p-value if treat all smd samples as estimating one density: $(sum(ksdistr .>= ksobs)/nsmp)\")"
   ]
  },
  {
   "cell_type": "markdown",
   "id": "5f0544e9",
   "metadata": {},
   "source": [
    "#### Similar to above now compute if difference in population means for force at rupture is significant"
   ]
  },
  {
   "cell_type": "code",
   "execution_count": null,
   "id": "1f801632",
   "metadata": {},
   "outputs": [],
   "source": [
    "# Monte carlo sample magnitude of difference in means of semi-parametric bootstrapped values\n",
    "μdistr = [abs(mean(btstpbeta[:,k])-mean(btstpca[:,k])) for k=1:nsmp]\n",
    "\n",
    "# compute the magnitude of the observed difference in means\n",
    "μobs = abs(mean(gdf[(Rupture=\"beta sheet\",)][!,end]) - mean(gdf[(Rupture=\"Ca²⁺ coordination\",)][!,end]))\n",
    "\n",
    "# compute how many are more extreme\n",
    "println(\"difference in mean p-value if treat all smd samples as estimating one density: $(sum(μdistr .>= μobs)/nsmp)\")"
   ]
  },
  {
   "cell_type": "markdown",
   "id": "864f3ddf",
   "metadata": {},
   "source": [
    "## Parametric bootstrap force peaks at ruptures"
   ]
  },
  {
   "cell_type": "code",
   "execution_count": null,
   "id": "32a0335f",
   "metadata": {},
   "outputs": [],
   "source": [
    "nsmp = 3000;\n",
    "fsmps = Matrix{Float64}(undef,nCa,nsmp); mnr = Vector{Float64}(undef,NL)\n",
    "ps = fill(0.,8); ps[1] = 1.; P = Categorical(ps);\n",
    "for i=1:nCa,j=1:nsmp,k=1:NL\n",
    "    if k==1\n",
    "        # redraw a gibbs Ca2+ distribution for this monomer\n",
    "        id = rand(1:ngibbs);\n",
    "        ps[:] = SMP[:,id,i];\n",
    "        P.p[:] = ps;\n",
    "    end\n",
    "    \n",
    "    # fill the linker region with Ca²⁺ state\n",
    "    typ = rand(P);\n",
    "    \n",
    "    # sample a rupture force from parametric distribution\n",
    "    μ = rand(gdf[(Rupture = rpts[typ],)][!,end]);\n",
    "    σ = rpts[typ] == \"beta sheet\" ? βσ : Caσ;\n",
    "    \n",
    "    mnr[k] = μ+σ*randn();\n",
    "    \n",
    "    if k==NL\n",
    "        # compute the rupture force across full monomer\n",
    "        fsmps[i,j] = minimum(mnr);\n",
    "    end\n",
    "end"
   ]
  },
  {
   "cell_type": "markdown",
   "id": "9540aa49",
   "metadata": {},
   "source": [
    "### Plot tiplink rupture forces as function of $[Ca^{2+}]$"
   ]
  },
  {
   "cell_type": "code",
   "execution_count": null,
   "id": "65197168",
   "metadata": {},
   "outputs": [],
   "source": [
    "fμ = sum(fsmps,dims=2)/nsmp; \n",
    "lw = [minimum(fsmps[ℓ,:]) for ℓ=1:nCa]; up = [maximum(fsmps[ℓ,:]) for ℓ=1:nCa];\n",
    "\n",
    "plot(1:nCa,fμ,linewidth=3,ribbon=(fμ-lw,up-fμ),fillalpha=0.1,legend=:topleft,\n",
    "     xlabel = \"[Ca²⁺] (μM)\",ylabel=\"force (pN)\",size=(450,300),labels=\"v = 0.1 nm/ns\");"
   ]
  },
  {
   "cell_type": "code",
   "execution_count": null,
   "id": "4b956da3",
   "metadata": {},
   "outputs": [],
   "source": [
    "lw = [quantile(fsmps[ℓ,:],0.025) for ℓ=1:nCa]; up = [quantile(fsmps[ℓ,:],0.975) for ℓ=1:nCa];\n",
    "\n",
    "plot!(1:nCa,fμ,linewidth=0,ribbon=(fμ-lw,up-fμ),fillalpha=0.2,\n",
    "     xlabel = \"[Ca²⁺] (μM)\",ylabel=\"force (pN)\",labels=\"\",c=plt[1]);"
   ]
  },
  {
   "cell_type": "code",
   "execution_count": null,
   "id": "f463ee7b",
   "metadata": {},
   "outputs": [],
   "source": [
    "lw = [quantile(fsmps[ℓ,:],0.25) for ℓ=1:nCa]; up = [quantile(fsmps[ℓ,:],0.75) for ℓ=1:nCa];\n",
    "\n",
    "plot!(1:nCa,fμ,linewidth=0,ribbon=(fμ-lw,up-fμ),fillalpha=0.35,\n",
    "     xlabel = \"[Ca²⁺] (μM)\",ylabel=\"force (pN)\",labels=\"\",c=plt[1])\n",
    "\n",
    "plot!(xtickfontsize=10,ytickfontsize=10,fontsize=12,legendfontsize=10,titlefontsize=14);"
   ]
  },
  {
   "cell_type": "code",
   "execution_count": null,
   "id": "2601f34d",
   "metadata": {},
   "outputs": [],
   "source": [
    "p1 = plot!();\n",
    "p2 = deepcopy(p1);\n",
    "plot!(p2,xlims=(0,50));"
   ]
  },
  {
   "cell_type": "code",
   "execution_count": null,
   "id": "2b90091f",
   "metadata": {},
   "outputs": [],
   "source": [
    "fμ = sum(fsmps,dims=2)/nsmp; \n",
    "lw = [minimum(fsmps[ℓ,:]) for ℓ=1:nCa]; up = [maximum(fsmps[ℓ,:]) for ℓ=1:nCa];\n",
    "\n",
    "plot!(p2,inset=(1,bbox(0.025,0.1,0.45,0.35,:bottom,:right)));\n",
    "\n",
    "plot!(p2[2],1:nCa,fμ,linewidth=3,ribbon=(fμ-lw,up-fμ),fillalpha=0.1,labels=\"\");"
   ]
  },
  {
   "cell_type": "code",
   "execution_count": null,
   "id": "93e82f90",
   "metadata": {},
   "outputs": [],
   "source": [
    "lw = [quantile(fsmps[ℓ,:],0.025) for ℓ=1:nCa]; up = [quantile(fsmps[ℓ,:],0.975) for ℓ=1:nCa];\n",
    "\n",
    "plot!(p2[2],1:nCa,fμ,linewidth=0,ribbon=(fμ-lw,up-fμ),fillalpha=0.2,\n",
    "     labels=\"\",c=plt[1]);"
   ]
  },
  {
   "cell_type": "code",
   "execution_count": null,
   "id": "e535cf4b",
   "metadata": {},
   "outputs": [],
   "source": [
    "lw = [quantile(fsmps[ℓ,:],0.25) for ℓ=1:nCa]; up = [quantile(fsmps[ℓ,:],0.75) for ℓ=1:nCa];\n",
    "\n",
    "plot!(p2[2],1:nCa,fμ,linewidth=0,ribbon=(fμ-lw,up-fμ),fillalpha=0.35,\n",
    "     labels=\"\",c=plt[1])"
   ]
  },
  {
   "cell_type": "code",
   "execution_count": null,
   "id": "c17b0cb2",
   "metadata": {},
   "outputs": [],
   "source": [
    "savefig(\"predfrpt.pdf\");"
   ]
  },
  {
   "cell_type": "markdown",
   "id": "eb82f7ae",
   "metadata": {},
   "source": [
    "#### Master panel of GMM force fits and rupture"
   ]
  },
  {
   "cell_type": "code",
   "execution_count": null,
   "id": "46bc31ff",
   "metadata": {},
   "outputs": [],
   "source": [
    "#plot!(p2[1],yticks=0:200:1200);\n",
    "#plot!(p2[2],yticks=0:300:1200);\n",
    "plot(pltvl,p2,size=(900,300),margin=4mm)"
   ]
  },
  {
   "cell_type": "code",
   "execution_count": null,
   "id": "4528c114",
   "metadata": {},
   "outputs": [],
   "source": [
    "savefig(\"mstpanel_frcrpt.pdf\");"
   ]
  },
  {
   "cell_type": "markdown",
   "id": "b36c8571",
   "metadata": {},
   "source": [
    "## Parametric bootstrap bundle ruptures"
   ]
  },
  {
   "cell_type": "code",
   "execution_count": null,
   "id": "ea5f4a0a",
   "metadata": {},
   "outputs": [],
   "source": [
    "nsmp = 3000;\n",
    "fsmps = Matrix{Float64}(undef,nCa,nsmp); \n",
    "mnr = Vector{Float64}(undef,NL); bndl = Vector{Float64}(undef,NM);\n",
    "ps = fill(0.,8); ps[1] = 1.; P = Categorical(ps);\n",
    "\n",
    "for i=1:nCa,j=1:nsmp,k=1:NM,ℓ=1:NL\n",
    "    if k==1\n",
    "        # redraw a gibbs Ca2+ distribution for this bundle\n",
    "        id = rand(1:ngibbs);\n",
    "        ps[:] = SMP[:,id,i];\n",
    "        P.p[:] = ps;\n",
    "    end\n",
    "    \n",
    "    # fill the linker region with Ca²⁺ state\n",
    "    typ = rand(P);\n",
    "    \n",
    "    # sample a rupture force from parametric distribution\n",
    "    μ = rand(gdf[(Rupture = rpts[typ],)][!,end]);\n",
    "    σ = rpts[typ] == \"beta sheet\" ? βσ : Caσ;\n",
    "    \n",
    "    mnr[ℓ] = μ+σ*randn();\n",
    "    \n",
    "    if ℓ==NL\n",
    "        # compute the rupture force across full monomer\n",
    "        bndl[k] = minimum(mnr);\n",
    "    end\n",
    "    \n",
    "    if k==NM\n",
    "        # compute 50% of tiplinks are ruptured force for the bundle\n",
    "        fsmps[i,j] = quantile(bndl,0.5);\n",
    "    end\n",
    "end"
   ]
  },
  {
   "cell_type": "markdown",
   "id": "1750292e",
   "metadata": {},
   "source": [
    "### Plot 50% bundle rupture forces as function of $[Ca^{2+}]$"
   ]
  },
  {
   "cell_type": "code",
   "execution_count": null,
   "id": "71f08298",
   "metadata": {},
   "outputs": [],
   "source": [
    "fμ = sum(fsmps,dims=2)/nsmp; \n",
    "lw = [minimum(fsmps[ℓ,:]) for ℓ=1:nCa]; up = [maximum(fsmps[ℓ,:]) for ℓ=1:nCa];\n",
    "\n",
    "plot(1:nCa,fμ,linewidth=3,ribbon=(fμ-lw,up-fμ),fillalpha=0.1,legend=:topleft,\n",
    "     xlabel = \"[Ca²⁺] (μM)\",ylabel=\"force (pN)\",size=(450,300),labels=\"v = 0.1 nm/ns\");"
   ]
  },
  {
   "cell_type": "code",
   "execution_count": null,
   "id": "14a89358",
   "metadata": {},
   "outputs": [],
   "source": [
    "lw = [quantile(fsmps[ℓ,:],0.025) for ℓ=1:nCa]; up = [quantile(fsmps[ℓ,:],0.975) for ℓ=1:nCa];\n",
    "\n",
    "plot!(1:nCa,fμ,linewidth=0,ribbon=(fμ-lw,up-fμ),fillalpha=0.2,\n",
    "     xlabel = \"[Ca²⁺] (μM)\",ylabel=\"force (pN)\",labels=\"\",c=plt[1]);"
   ]
  },
  {
   "cell_type": "code",
   "execution_count": null,
   "id": "59458331",
   "metadata": {},
   "outputs": [],
   "source": [
    "lw = [quantile(fsmps[ℓ,:],0.25) for ℓ=1:nCa]; up = [quantile(fsmps[ℓ,:],0.75) for ℓ=1:nCa];\n",
    "\n",
    "plot!(1:nCa,fμ,linewidth=0,ribbon=(fμ-lw,up-fμ),fillalpha=0.35,\n",
    "     xlabel = \"[Ca²⁺] (μM)\",ylabel=\"force (pN)\",labels=\"\",c=plt[1])\n",
    "\n",
    "plot!(xtickfontsize=10,ytickfontsize=10,fontsize=12,legendfontsize=10,titlefontsize=14);"
   ]
  },
  {
   "cell_type": "code",
   "execution_count": null,
   "id": "b026f6e5",
   "metadata": {},
   "outputs": [],
   "source": [
    "p1 = plot!();\n",
    "p2 = deepcopy(p1);\n",
    "plot!(p2,xlims=(0,50));"
   ]
  },
  {
   "cell_type": "code",
   "execution_count": null,
   "id": "d76ca567",
   "metadata": {},
   "outputs": [],
   "source": [
    "fμ = sum(fsmps,dims=2)/nsmp; \n",
    "lw = [minimum(fsmps[ℓ,:]) for ℓ=1:nCa]; up = [maximum(fsmps[ℓ,:]) for ℓ=1:nCa];\n",
    "\n",
    "plot!(p2,inset=(1,bbox(0.025,0.1,0.45,0.35,:bottom,:right)));\n",
    "\n",
    "plot!(p2[2],1:nCa,fμ,linewidth=3,ribbon=(fμ-lw,up-fμ),fillalpha=0.1,labels=\"\");"
   ]
  },
  {
   "cell_type": "code",
   "execution_count": null,
   "id": "3b11c073",
   "metadata": {},
   "outputs": [],
   "source": [
    "lw = [quantile(fsmps[ℓ,:],0.025) for ℓ=1:nCa]; up = [quantile(fsmps[ℓ,:],0.975) for ℓ=1:nCa];\n",
    "\n",
    "plot!(p2[2],1:nCa,fμ,linewidth=0,ribbon=(fμ-lw,up-fμ),fillalpha=0.2,\n",
    "     labels=\"\",c=plt[1]);"
   ]
  },
  {
   "cell_type": "code",
   "execution_count": null,
   "id": "10ff8259",
   "metadata": {},
   "outputs": [],
   "source": [
    "lw = [quantile(fsmps[ℓ,:],0.25) for ℓ=1:nCa]; up = [quantile(fsmps[ℓ,:],0.75) for ℓ=1:nCa];\n",
    "\n",
    "plot!(p2[2],1:nCa,fμ,linewidth=0,ribbon=(fμ-lw,up-fμ),fillalpha=0.35,\n",
    "     labels=\"\",c=plt[1])"
   ]
  },
  {
   "cell_type": "code",
   "execution_count": null,
   "id": "a8abc08f",
   "metadata": {},
   "outputs": [],
   "source": [
    "savefig(\"predbrpt.pdf\");\n",
    "CSV.write(\"bndlrptsmps.csv\",DataFrame(fsmps,:auto));"
   ]
  },
  {
   "cell_type": "code",
   "execution_count": null,
   "id": "ee8ca878",
   "metadata": {},
   "outputs": [],
   "source": []
  }
 ],
 "metadata": {
  "kernelspec": {
   "display_name": "Julia 1.9.2",
   "language": "julia",
   "name": "julia-1.9"
  },
  "language_info": {
   "file_extension": ".jl",
   "mimetype": "application/julia",
   "name": "julia",
   "version": "1.9.2"
  }
 },
 "nbformat": 4,
 "nbformat_minor": 5
}
