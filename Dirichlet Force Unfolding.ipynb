{
 "cells": [
  {
   "cell_type": "markdown",
   "id": "c0989707",
   "metadata": {},
   "source": [
    "# Dirichlet clustered mixture models for force unfolding peaks"
   ]
  },
  {
   "cell_type": "code",
   "execution_count": null,
   "id": "070fef1a",
   "metadata": {},
   "outputs": [],
   "source": [
    "include(\"gibbs.jl\");\n",
    "plt = palette(:default);"
   ]
  },
  {
   "cell_type": "code",
   "execution_count": null,
   "id": "530b45e7",
   "metadata": {},
   "outputs": [],
   "source": [
    "rng = MersenneTwister();"
   ]
  },
  {
   "cell_type": "markdown",
   "id": "489bc78b",
   "metadata": {},
   "source": [
    "## Load the data\n",
    "\n",
    "We enumerate the $\\mathrm{Ca}^{2+}$ states in the order p000 p001 p011 p111 p010 p100 p101 p110.\n",
    "\n",
    "This is slightly the reverse of what was done in the `Ca2+ Site Probabilities.ipynb` notebook where there it was p010 p100 p101 p110 p000 p001 p011 p111. We swap the last four and first four in final csv export for use in other notebooks."
   ]
  },
  {
   "cell_type": "code",
   "execution_count": null,
   "id": "22df161e",
   "metadata": {},
   "outputs": [],
   "source": [
    "df = CSV.read(\"Force peaks grouped by unfolding.csv\",DataFrame);\n",
    "replace!(df[!,\"Unfolding\"],\"Ca2+ coordination\"=>\"Ca²⁺ coordination\");\n",
    "sort!(df,\"Construct\",rev=true)"
   ]
  },
  {
   "cell_type": "markdown",
   "id": "e5369a49",
   "metadata": {},
   "source": [
    "#### Augment by $\\mathrm{Ca}^{2+}$ state id\n",
    "We add a column called Caid that gives integer id for p000 p001 p011 p111 p010 p100 p101 p110."
   ]
  },
  {
   "cell_type": "code",
   "execution_count": null,
   "id": "ce4874c7",
   "metadata": {},
   "outputs": [],
   "source": [
    "function Caid(v::Vector{S}) where S<:AbstractString\n",
    "    # p000 p001 p011 p111 p010 p100 p101 p110\n",
    "    if v == [\"-\",\"-\",\"-\"]\n",
    "        return 1\n",
    "    elseif v == [\"-\",\"-\",\"Ca2+\"]\n",
    "        return 2\n",
    "    elseif v == [\"-\",\"Ca2+\",\"Ca2+\"]\n",
    "        return 3\n",
    "    elseif v == [\"Ca2+\",\"Ca2+\",\"Ca2+\"]\n",
    "        return 4\n",
    "    elseif v == [\"-\",\"Ca2+\",\"-\"]\n",
    "        return 5\n",
    "    elseif v == [\"Ca2+\",\"-\",\"-\"]\n",
    "        return 6\n",
    "    elseif v == [\"Ca2+\",\"-\",\"Ca2+\"]\n",
    "        return 7\n",
    "    elseif v == [\"Ca2+\",\"Ca2+\",\"-\"]\n",
    "        return 8\n",
    "    end\n",
    "end;"
   ]
  },
  {
   "cell_type": "code",
   "execution_count": null,
   "id": "8acb797a",
   "metadata": {},
   "outputs": [],
   "source": [
    "transform!(df,[\"Site 1\",\"Site 2\",\"Site 3\"]=> ( (x,y,z)->[ Caid([x[i],y[i],z[i]]) for i=1:length(x)] ) =>\"Caid\")\n",
    "df = hcat(df[!,1:4],df[!,end],df[!,5:end-1]); \n",
    "rename!(df,\"x1\"=>\"Caid\");"
   ]
  },
  {
   "cell_type": "markdown",
   "id": "f5aa34b9",
   "metadata": {},
   "source": [
    "#### Group by construct type\n",
    "The $x$ indicates the EC19-20 values since they are from the originating mixture distribution and are ancestral to the $y$, indicating EC17-25 values, which are sampled from the minimum order statistic for the $x$'s."
   ]
  },
  {
   "cell_type": "code",
   "execution_count": null,
   "id": "b2d74eb9",
   "metadata": {},
   "outputs": [],
   "source": [
    "gdf = groupby(df,\"Construct\");\n",
    "df_x = DataFrame(gdf[(\"EC19-20\",)]);\n",
    "df_y = DataFrame(gdf[(\"EC17-25\",)]);"
   ]
  },
  {
   "cell_type": "code",
   "execution_count": null,
   "id": "838709d2",
   "metadata": {},
   "outputs": [],
   "source": [
    "μ = sum(df_x[!,end])/nrow(df_x); σsq = sum( (df_x[!,end].-μ).^2 )/nrow(df_x)\n",
    "println(\"EC19-20 sample force (μ,σ²)=($(μ),$(σsq))\")"
   ]
  },
  {
   "cell_type": "code",
   "execution_count": null,
   "id": "ba9f5b00",
   "metadata": {},
   "outputs": [],
   "source": [
    "p1 = histogram(df_x[!,end],normalize=:pdf,\n",
    "          xlabel=\"fpeak (pN)\",ylabel=\"density\",labels=\"\",title=\"EC19-20\",\n",
    "          linewidth=0,linecolor=:white,size=(450,300))\n",
    "scatter!(df_x[!,end],fill(0.,nrow(df_x)),marker=:o,labels=\"\",markersize=6)"
   ]
  },
  {
   "cell_type": "markdown",
   "id": "644254a5",
   "metadata": {},
   "source": [
    "## Intuition behind our probability model for clustering\n",
    "- We say our force data is comprised of an unknown number of unfolding events and each unfolding event has a normally distributed force value.\n",
    "- Each $\\mathrm{Ca}^{2+}$ state has its own probability vector for how likely each unfolding event is to occur.\n",
    "- Some of the $\\mathrm{Ca}^{2+}$ states may share the same probability vector (sparsity principle).\n",
    "- The EC17-25 force is the minimum order statistic for its states associated unfolding force distribution.\n",
    "\n",
    "So we're trying to cluster the $\\mathrm{Ca}^{2+}$ states unfolding forces into mixtures of normal distributions. The number of component normals (corresponds to # of unfolding events) and the number of distinct mixture profiles (corresponds to # of force different $\\mathrm{Ca}^{2+}$ states) are estimated. "
   ]
  },
  {
   "cell_type": "markdown",
   "id": "494e7386",
   "metadata": {},
   "source": [
    "## Defining the probabilistic model for clustering\n",
    "The probability model is\n",
    "1. Unfolding event $i$ force mean <br>\n",
    "$\\mu_i \\sim_{\\mathrm{iid}} \\mathcal{N}\\left(900,200\\right)$.\n",
    "2. Unfolding event $i$ force variance <br>\n",
    "$\\log_{10}\\sigma^2_i \\sim \\mathrm{Unif}\\left[0,\\log_{10}90000\\right]$.\n",
    "3. Concentration hyperparameter for the number of unfolding events in the data<br>\n",
    "$\\alpha\\sim\\Gamma\\left(1,1\\right)1_{\\left[0.1,\\infty\\right)}$.\n",
    "4. Candidate mixture weights/unfolding event profiles for the relative frequency of any $\\mathrm{Ca}^{2+}$ state's unfolding events (capped at 8 events and up to 8 candidate profiles/where each state has its own) <br>\n",
    "$w_i \\left.\\right| \\alpha \\sim_{\\mathrm{iid}} \\mathrm{Dirichlet}\\big(\\alpha\\left(\\frac{1}{8},\\ldots,\\frac{1}{8}\\right)\\big)$.\n",
    "5. Concentration parameter for how many unfolding event profiles are actually present across $\\mathrm{Ca}^{2+}$ states <br>\n",
    "$\\beta\\sim\\Gamma\\left(1,1\\right)1_{\\left[0.1,\\infty\\right)}$.\n",
    "6. Pmf for how the unfolding event profiles are distributed throughout the $\\mathrm{Ca}^{2+}$ states <br>\n",
    "$\\theta\\left.\\right|\\beta \\sim\\mathrm{Dirichlet}\\left(\\beta\\left(\\frac{1}{8},\\ldots,\\frac{1}{8}\\right)\\right)$.\n",
    "7. Assignment of $\\mathrm{Ca}^{2+}$ state $i$ to a profile <br>\n",
    "$j_i\\left.\\right|\\theta \\sim_{\\mathrm{iid}}\\mathrm{Categorical}\\left(\\theta\\right)$.\n",
    "8. Observed unfolding force at $\\mathrm{Ca}^{2+}$ state $i$ <br>\n",
    "$x_i\\left.\\right|j_i,w_{j_i},\\vec{\\mu},\\vec{\\sigma} \\sim \\sum_k w_{kj_i}\\mathrm{pdf}_{\\mathcal{N}\\left(\\mu_k,\\sigma_k\\right)}(x_i)$.\n",
    "9. Observed EC17-25 unfolding force at $\\mathrm{Ca}^{2+}$ state $i$ with $n$ the number of linker regions<br>\n",
    "$y_i \\left.\\right|j_i,w_{j_i},\\vec{\\mu},\\vec{\\sigma} \\sim n \\left(1-\\mathrm{cdf}_{\\sum_k w_{kj_i}\\mathrm{pdf}_{\\mathcal{N}\\left(\\mu_k,\\sigma_k\\right)}}(y_i)\\right)^{n-1}\\mathrm{pdf}_{\\sum_k w_{kj_i}\\mathrm{pdf}_{\\mathcal{N}\\left(\\mu_k,\\sigma_k\\right)}}(y_i)$.\n",
    "\n",
    "The last density is that for a minimum order statistic in $n$ trials whose base random variable is described by the pdf. The scales in 1. and 2. were suggested by the scale of the sample data. \n",
    "\n",
    "As usual, we estimate our unknown quantities by conditioning on the observed ones and forming the posterior. We are primarily interested in the posterior distributions of the unfolding force distributions for each $\\mathrm{Ca}^{2+}$ state."
   ]
  },
  {
   "cell_type": "markdown",
   "id": "9d1235e4",
   "metadata": {},
   "source": [
    "## MCMC sample the posterior\n",
    "#### Extract values of conditioning variables\n",
    "We first grab the data variables that we are conditioning on, ordered like the Caid function: p000 p001 p011 p111 p010 p100 p101 p110."
   ]
  },
  {
   "cell_type": "code",
   "execution_count": null,
   "id": "2e8cc435",
   "metadata": {},
   "outputs": [],
   "source": [
    "tmp = sort(df_x,\"Caid\"); xs = tmp[:,end];\n",
    "tmp = sort(df_y,\"Caid\"); ys = tmp[:,end];"
   ]
  },
  {
   "cell_type": "markdown",
   "id": "ae28c5af",
   "metadata": {},
   "source": [
    "### Define routine to initialize MCMC samples\n",
    "Parameters are ordered like $p = \\left(\\vec{\\mu},\\log_{10}\\vec{\\sigma}^2,\\alpha,\\vec{w}_1,\\ldots,\\vec{w}_8,\\beta,\\vec{\\theta},\\vec{j}\\right)$."
   ]
  },
  {
   "cell_type": "code",
   "execution_count": null,
   "id": "2f093bf1",
   "metadata": {},
   "outputs": [],
   "source": [
    "# initialize by proposing from prior\n",
    "function gibbssmp_p0!(rng,p0)\n",
    "    # sample means\n",
    "    for ℓ=1:8\n",
    "        μ = 900+200*randn(rng)\n",
    "        set_μ!(p0,μ;k=ℓ)\n",
    "    end\n",
    "    \n",
    "    # sample variances\n",
    "    for ℓ=1:8\n",
    "        log10σsq = log10(90000)*rand(rng)\n",
    "        set_log10σsq!(p0,log10σsq;k=ℓ)\n",
    "    end\n",
    "    \n",
    "    # sample α\n",
    "    Γ = Gamma(1,1)\n",
    "    α = rand(rng,Γ); flagfd = false\n",
    "    while !flagfd\n",
    "        α = rand(rng,Γ)\n",
    "        flagfd = α >= 0.1 ? true : false\n",
    "    end\n",
    "    set_α!(p0,α)\n",
    "    \n",
    "    # sample ws\n",
    "    P0 = get_P0()\n",
    "    Dα = Dirichlet(α*P0)\n",
    "    for ℓ=1:8\n",
    "        wi = rand(rng,Dα)\n",
    "        set_w!(p0,wi;k=ℓ)\n",
    "    end\n",
    "    \n",
    "    # sample β\n",
    "    β = rand(rng,Γ); flagfd = false\n",
    "    while !flagfd\n",
    "        β = rand(rng,Γ)\n",
    "        flagfd = β >= 0.1 ? true : false\n",
    "    end\n",
    "        \n",
    "    set_β!(p0,β)\n",
    "    \n",
    "    # set θ\n",
    "    Dβ = Dirichlet(β*P0)\n",
    "    θ = rand(rng,Dβ)\n",
    "    set_θ!(p0,θ)\n",
    "    \n",
    "    # set j\n",
    "    C = Categorical(θ)\n",
    "    for ℓ=1:8\n",
    "        ji = rand(rng,C)\n",
    "        set_j!(p0,ji;k=ℓ)\n",
    "    end\n",
    "end;"
   ]
  },
  {
   "cell_type": "markdown",
   "id": "56665dff",
   "metadata": {},
   "source": [
    "### Define Metropolis within Gibbs kernels for the conditionals"
   ]
  },
  {
   "cell_type": "markdown",
   "id": "cb0eab82",
   "metadata": {},
   "source": [
    "#### Ancillary routines to deal with small roundoff errors"
   ]
  },
  {
   "cell_type": "code",
   "execution_count": null,
   "id": "8a878b17",
   "metadata": {},
   "outputs": [],
   "source": [
    "function mylog(x)\n",
    "    if x>=0\n",
    "        return log(x)\n",
    "    elseif abs(x)>1e-9\n",
    "        @warn \"Taking log of $(x).\"\n",
    "    end\n",
    "    \n",
    "    return -Inf\n",
    "end   \n",
    "\n",
    "function mypos(x)\n",
    "    if x>=0\n",
    "        return x\n",
    "    elseif abs(x)>1e-9\n",
    "        @warn \"$(x) should be nonnegative.\"\n",
    "    end\n",
    "    \n",
    "    val = 0*x\n",
    "    return val\n",
    "end;"
   ]
  },
  {
   "cell_type": "markdown",
   "id": "accd3859",
   "metadata": {},
   "source": [
    "#### Auxilliary routines for parameter management\n",
    "Parameters are ordered like $p = \\left(\\vec{\\mu},\\log_{10}\\vec{\\sigma}^2,\\alpha,\\vec{w}_1,\\ldots,\\vec{w}_8,\\beta,\\vec{\\theta},\\vec{j}\\right)$."
   ]
  },
  {
   "cell_type": "code",
   "execution_count": null,
   "id": "33671099",
   "metadata": {},
   "outputs": [],
   "source": [
    "get_P0() = SVector{8,Float64}([1/8,1/8,1/8,1/8,1/8,1/8,1/8,1/8]);"
   ]
  },
  {
   "cell_type": "markdown",
   "id": "a2e91654",
   "metadata": {},
   "source": [
    "We write the routines for vectors or components based on how much the Gibbs sampler updates at once per its cycle kernels on conditionals."
   ]
  },
  {
   "cell_type": "code",
   "execution_count": null,
   "id": "fd167977",
   "metadata": {},
   "outputs": [],
   "source": [
    "# means for the unfolding events\n",
    "get_μ(p0;k) = p0[k]\n",
    "function set_μ!(p0,μ;k)\n",
    "    p0[k] = μ\n",
    "end\n",
    "\n",
    "# variances for the unfolding events\n",
    "get_log10σsq(p0;k) = p0[8+k]\n",
    "function set_log10σsq!(p0,log10σsq;k)\n",
    "    p0[8+k] = log10σsq\n",
    "end\n",
    "\n",
    "# concentration parameter for # of events in candidate unfolding profiles\n",
    "get_α(p0) = p0[16+1]\n",
    "function set_α!(p0,α)\n",
    "    p0[16+1] = α\n",
    "end\n",
    "\n",
    "# candidate unfolding profiles\n",
    "get_w(p0;k) = SVector{8,Float64}(p0[17+8*(k-1)+1:17+8*k])\n",
    "function set_w!(p0,w;k)\n",
    "    p0[17+8*(k-1)+1:17+8*k] .= w\n",
    "end\n",
    "\n",
    "# concentration parameter for # of unfolding profiles across Ca2+ states\n",
    "get_β(p0) = p0[17+64+1]\n",
    "function set_β!(p0,β)\n",
    "    p0[17+64+1] = β\n",
    "end\n",
    "\n",
    "# pmf for unfolding profiles distributed across Ca2+ states\n",
    "get_θ(p0) = SVector{8,Float64}(p0[17+64+1+1:17+64+1+8])\n",
    "function set_θ!(p0,θ)\n",
    "    p0[17+64+1+1:17+64+1+8] .= θ\n",
    "end\n",
    "\n",
    "# assignment of Ca2+ state to an unfolding profile\n",
    "get_j(p0;k) = p0[17+64+1+8+k]\n",
    "function set_j!(p0,j;k)\n",
    "    p0[17+64+1+8+k] = j\n",
    "end;"
   ]
  },
  {
   "cell_type": "markdown",
   "id": "e81c08ca",
   "metadata": {},
   "source": [
    "#### Gibbs sampler for conditional of means of unfolding event forces\n",
    "The relevant factors are\n",
    "1. Unfolding event $i$ force mean <br>\n",
    "$\\mu_i \\sim_{\\mathrm{iid}} \\mathcal{N}\\left(900,200\\right)$.\n",
    "2. Observed unfolding force at $\\mathrm{Ca}^{2+}$ state $i$ <br>\n",
    "$x_i\\left.\\right|j_i,w_{j_i},\\vec{\\mu},\\vec{\\sigma} \\sim \\sum_k w_{kj_i}\\mathrm{pdf}_{\\mathcal{N}\\left(\\mu_k,\\sigma_k\\right)}(x_i)$.\n",
    "3. Observed EC17-25 unfolding force at $\\mathrm{Ca}^{2+}$ state $i$ with $n$ the number of linker regions<br>\n",
    "$y_i \\left.\\right|j_i,w_{j_i},\\vec{\\mu},\\vec{\\sigma} \\sim n \\left(1-\\mathrm{cdf}_{\\sum_k w_{kj_i}\\mathrm{pdf}_{\\mathcal{N}\\left(\\mu_k,\\sigma_k\\right)}}(y_i)\\right)^{n-1}\\mathrm{pdf}_{\\sum_k w_{kj_i}\\mathrm{pdf}_{\\mathcal{N}\\left(\\mu_k,\\sigma_k\\right)}}(y_i)$."
   ]
  },
  {
   "cell_type": "code",
   "execution_count": null,
   "id": "dafbe82f",
   "metadata": {},
   "outputs": [],
   "source": [
    "# compute unnormalized conditional density for μᵢ\n",
    "function logπ_μ(p0;k,xs=xs,ys=ys)\n",
    "    # 1.\n",
    "    μi = get_μ(p0;k=k)\n",
    "    val = -0.5*(μi-900)^2/40000\n",
    "    \n",
    "    # 2.\n",
    "    #  Get assignment of Ca2+ states to profiles\n",
    "    js = @SVector [Int64(get_j(p0;k=i)) for i=1:8]\n",
    "    \n",
    "    #  Get candidate event frequency profiles\n",
    "    ws = [get_w(p0;k=i) for i=1:8]\n",
    "\n",
    "    #  Get means\n",
    "    μs = @SVector [get_μ(p0;k=i) for i=1:8]\n",
    "    \n",
    "    #  Get variances \n",
    "    σs = @SVector [get_log10σsq(p0;k=i) for i=1:8]\n",
    "    σs = .√(10 .^(σs))\n",
    "    \n",
    "    #  Define normals\n",
    "    Ns = [Normal(μs[i],σs[i]) for i=1:8]\n",
    "    \n",
    "    #  Aggregate contribution of mixture pdfs over the observed unfoldings for EC19-20\n",
    "    tmp = 0.\n",
    "    for ℓ=1:8\n",
    "        tmp = tmp + log( sum( ws[js[ℓ]].*pdf.(Ns,xs[ℓ]) ) )\n",
    "    end\n",
    "    \n",
    "    val = val + tmp\n",
    "    \n",
    "    # 3.\n",
    "    #  Aggregate contribution of mixtures over observed unfolding for EC17-25\n",
    "    tmp = 0.\n",
    "    for ℓ=1:4\n",
    "        tmp = tmp + (8-1)*mylog( 1 - sum( ws[js[ℓ]].*cdf.(Ns,ys[ℓ]) ) ) + log( sum( ws[js[ℓ]].*pdf.(Ns,ys[ℓ]) ) )\n",
    "    end\n",
    "    \n",
    "    val = val + tmp\n",
    "    \n",
    "    return val\n",
    "end;"
   ]
  },
  {
   "cell_type": "code",
   "execution_count": null,
   "id": "671e674c",
   "metadata": {},
   "outputs": [],
   "source": [
    "function gibbssmp_μ!(rng,p0)\n",
    "    # cycle MH random walk on each of the event means\n",
    "    aptrate = 0\n",
    "    for ℓ=1:8\n",
    "        # get current value\n",
    "        μ0 = get_μ(p0;k=ℓ); \n",
    "        \n",
    "        # random walk propose new mean\n",
    "        μ = μ0 + 5*randn(rng)\n",
    "        \n",
    "        # compute mh ratio\n",
    "        logπ0 = logπ_μ(p0;k=ℓ)\n",
    "        set_μ!(p0,μ;k=ℓ); logπ = logπ_μ(p0;k=ℓ)\n",
    "        \n",
    "        coin = rand(rng) |> log\n",
    "        if coin <= logπ-logπ0\n",
    "            # accept\n",
    "            aptrate += 1\n",
    "        else\n",
    "            # reject\n",
    "            set_μ!(p0,μ0;k=ℓ)\n",
    "        end\n",
    "    end\n",
    "    \n",
    "    return aptrate/8\n",
    "end;"
   ]
  },
  {
   "cell_type": "markdown",
   "id": "b0a6ecc4",
   "metadata": {},
   "source": [
    "#### Gibbs sampler for conditional of standard deviations of unfolding event forces\n",
    "The relevant factors are\n",
    "1. Unfolding event $i$ force variance <br>\n",
    "$\\log_{10}\\sigma^2_i \\sim \\mathrm{Unif}\\left[0,\\log_{10}90000\\right]$.\n",
    "2. Observed unfolding force at $\\mathrm{Ca}^{2+}$ state $i$ <br>\n",
    "$x_i\\left.\\right|j_i,w_{j_i},\\vec{\\mu},\\vec{\\sigma} \\sim \\sum_k w_{kj_i}\\mathrm{pdf}_{\\mathcal{N}\\left(\\mu_k,\\sigma_k\\right)}(x_i)$.\n",
    "3. Observed EC17-25 unfolding force at $\\mathrm{Ca}^{2+}$ state $i$ with $n$ the number of linker regions<br>\n",
    "$y_i \\left.\\right|j_i,w_{j_i},\\vec{\\mu},\\vec{\\sigma} \\sim n \\left(1-\\mathrm{cdf}_{\\sum_k w_{kj_i}\\mathrm{pdf}_{\\mathcal{N}\\left(\\mu_k,\\sigma_k\\right)}}(y_i)\\right)^{n-1}\\mathrm{pdf}_{\\sum_k w_{kj_i}\\mathrm{pdf}_{\\mathcal{N}\\left(\\mu_k,\\sigma_k\\right)}}(y_i)$."
   ]
  },
  {
   "cell_type": "code",
   "execution_count": null,
   "id": "5b5b5eec",
   "metadata": {},
   "outputs": [],
   "source": [
    "# compute unnormalized conditional density for log₁₀σᵢ²\n",
    "function logπ_log10σsq(p0;k,xs=xs,ys=ys)\n",
    "    # 1.\n",
    "    log10σsq = get_log10σsq(p0;k=k)\n",
    "    if (log10σsq < 0)||(log10σsq > log10(90000))\n",
    "        return -Inf\n",
    "    end\n",
    "    val = 0.\n",
    "    \n",
    "    # 2.\n",
    "    #  Get assignment of Ca2+ states to profiles\n",
    "    js = @SVector [Int64(get_j(p0;k=i)) for i=1:8]\n",
    "    \n",
    "    #  Get candidate event frequency profiles\n",
    "    ws = [get_w(p0;k=i) for i=1:8]\n",
    "\n",
    "    #  Get means\n",
    "    μs = @SVector [get_μ(p0;k=i) for i=1:8]\n",
    "    \n",
    "    #  Get variances \n",
    "    σs = @SVector [get_log10σsq(p0;k=i) for i=1:8]\n",
    "    σs = .√(10 .^(σs))\n",
    "    \n",
    "    #  Define normals\n",
    "    Ns = [Normal(μs[i],σs[i]) for i=1:8]\n",
    "    \n",
    "    #  Aggregate contribution of mixture pdfs over the observed unfoldings for EC19-20\n",
    "    tmp = 0.\n",
    "    for ℓ=1:8\n",
    "        tmp = tmp + log( sum( ws[js[ℓ]].*pdf.(Ns,xs[ℓ]) ) )\n",
    "    end\n",
    "    \n",
    "    val = val + tmp\n",
    "    \n",
    "    # 3.\n",
    "    #  Aggregate contribution of mixtures over observed unfolding for EC17-25\n",
    "    tmp = 0.\n",
    "    for ℓ=1:4\n",
    "        tmp = tmp + (8-1)*mylog( 1 - sum( ws[js[ℓ]].*cdf.(Ns,ys[ℓ]) ) ) + log( sum( ws[js[ℓ]].*pdf.(Ns,ys[ℓ]) ) )\n",
    "    end\n",
    "    \n",
    "    val = val + tmp\n",
    "    \n",
    "    return val\n",
    "end;"
   ]
  },
  {
   "cell_type": "code",
   "execution_count": null,
   "id": "1e7643c2",
   "metadata": {},
   "outputs": [],
   "source": [
    "function gibbssmp_log10σsq!(rng,p0)\n",
    "    # cycle MH random walk on each of the event standard deviations\n",
    "    aptrate = 0\n",
    "    for ℓ=1:8\n",
    "        # get current value\n",
    "        log10σsq0 = get_log10σsq(p0;k=ℓ); \n",
    "        \n",
    "        # random walk propose new mean\n",
    "        log10σsq = log10σsq0 + 0.5*randn(rng)\n",
    "        \n",
    "        # compute mh ratio\n",
    "        logπ0 = logπ_log10σsq(p0;k=ℓ)\n",
    "        set_log10σsq!(p0,log10σsq;k=ℓ); logπ = logπ_log10σsq(p0;k=ℓ)\n",
    "        \n",
    "        coin = rand(rng) |> log\n",
    "        if coin <= logπ-logπ0\n",
    "            # accept\n",
    "            aptrate += 1\n",
    "        else\n",
    "            # reject\n",
    "            set_log10σsq!(p0,log10σsq0;k=ℓ)\n",
    "        end\n",
    "    end\n",
    "    \n",
    "    return aptrate/8\n",
    "end;"
   ]
  },
  {
   "cell_type": "markdown",
   "id": "283d6f58",
   "metadata": {},
   "source": [
    "#### Gibbs sampler for conditional of the concentration parameter for number of unfolding events\n",
    "The relevant factors are\n",
    "1. Concentration hyperparameter for the number of unfolding events in the data<br>\n",
    "$\\alpha\\sim\\Gamma\\left(1,1\\right)1_{\\left[0.1,\\infty\\right)}$.\n",
    "2. Candidate mixture weights/unfolding event profiles for the relative frequency of any $\\mathrm{Ca}^{2+}$ state's unfolding events (capped at 8 events and up to 8 candidate profiles/where each state has its own) <br>\n",
    "$w_i \\left.\\right| \\alpha \\sim_{\\mathrm{iid}} \\mathrm{Dirichlet}\\big(\\alpha\\left(\\frac{1}{8},\\ldots,\\frac{1}{8}\\right)\\big)$."
   ]
  },
  {
   "cell_type": "code",
   "execution_count": null,
   "id": "bc88e174",
   "metadata": {},
   "outputs": [],
   "source": [
    "# compute unnormalized density for α\n",
    "function logπ_α(p0)\n",
    "    # 1.\n",
    "    α = get_α(p0)\n",
    "    \n",
    "    Γ = Gamma(1,1)\n",
    "    val = logpdf(Γ,α)\n",
    "    if val == -Inf\n",
    "        return val\n",
    "    end\n",
    "    \n",
    "    if α < 0.1\n",
    "        return -Inf\n",
    "    end\n",
    "    \n",
    "    # 2. \n",
    "    #  Get candidate event frequency profiles\n",
    "    ws = [get_w(p0;k=i) for i=1:8]\n",
    "    \n",
    "    P0 = get_P0()\n",
    "    D = Dirichlet(α*P0)\n",
    "    \n",
    "    for ℓ=1:8\n",
    "        val = val + logpdf(D,ws[ℓ])\n",
    "    end\n",
    "    \n",
    "    return val\n",
    "end;"
   ]
  },
  {
   "cell_type": "code",
   "execution_count": null,
   "id": "fbd4d886",
   "metadata": {},
   "outputs": [],
   "source": [
    "function gibbssmp_α!(rng,p0)\n",
    "    aptrate = 0\n",
    "    # get current value\n",
    "    α0 = get_α(p0)\n",
    "    \n",
    "    # Propose by random walk\n",
    "    α = α0 + 0.1*randn(rng)\n",
    "    \n",
    "    # compute mh ratio\n",
    "    logπ0 = logπ_α(p0)\n",
    "    set_α!(p0,α); logπ = logπ_α(p0)\n",
    "    \n",
    "    coin = rand(rng) |> log\n",
    "    if coin <= logπ-logπ0\n",
    "        # accept\n",
    "        aptrate += 1\n",
    "    else\n",
    "        # reject\n",
    "        set_α!(p0,α0)\n",
    "    end\n",
    "    \n",
    "    return aptrate\n",
    "end;"
   ]
  },
  {
   "cell_type": "markdown",
   "id": "f9de05dd",
   "metadata": {},
   "source": [
    "#### Gibbs sampler for conditional of mixture profiles of unfolding events\n",
    "The relevant factors are\n",
    "1. Candidate mixture weights/unfolding event profiles for the relative frequency of any $\\mathrm{Ca}^{2+}$ state's unfolding events (capped at 8 events and up to 8 candidate profiles/where each state has its own) <br>\n",
    "$w_i \\left.\\right| \\alpha \\sim_{\\mathrm{iid}} \\mathrm{Dirichlet}\\big(\\alpha\\left(\\frac{1}{8},\\ldots,\\frac{1}{8}\\right)\\big)$.\n",
    "2. Observed unfolding force at $\\mathrm{Ca}^{2+}$ state $i$ <br>\n",
    "$x_i\\left.\\right|j_i,w_{j_i},\\vec{\\mu},\\vec{\\sigma} \\sim \\sum_k w_{kj_i}\\mathrm{pdf}_{\\mathcal{N}\\left(\\mu_k,\\sigma_k\\right)}(x_i)$.\n",
    "3. Observed EC17-25 unfolding force at $\\mathrm{Ca}^{2+}$ state $i$ with $n$ the number of linker regions<br>\n",
    "$y_i \\left.\\right|j_i,w_{j_i},\\vec{\\mu},\\vec{\\sigma} \\sim n \\left(1-\\mathrm{cdf}_{\\sum_k w_{kj_i}\\mathrm{pdf}_{\\mathcal{N}\\left(\\mu_k,\\sigma_k\\right)}}(y_i)\\right)^{n-1}\\mathrm{pdf}_{\\sum_k w_{kj_i}\\mathrm{pdf}_{\\mathcal{N}\\left(\\mu_k,\\sigma_k\\right)}}(y_i)$."
   ]
  },
  {
   "cell_type": "code",
   "execution_count": null,
   "id": "81c9b407",
   "metadata": {},
   "outputs": [],
   "source": [
    "function logπ_w(p0;k,xs=xs,ys=ys)\n",
    "    # 1.\n",
    "    α =  get_α(p0)\n",
    "    wi = get_w(p0;k=k)\n",
    "    \n",
    "    P0 = get_P0()\n",
    "    D = Dirichlet(α*P0)\n",
    "    val = logpdf(D,wi)\n",
    "    \n",
    "    # 2.\n",
    "    #  Get assignment of Ca2+ states to profiles\n",
    "    js = @SVector [Int64(get_j(p0;k=i)) for i=1:8]\n",
    "    \n",
    "    #  Get candidate event frequency profiles\n",
    "    ws = [get_w(p0;k=i) for i=1:8]\n",
    "\n",
    "    #  Get means\n",
    "    μs = @SVector [get_μ(p0;k=i) for i=1:8]\n",
    "    \n",
    "    #  Get variances \n",
    "    σs = @SVector [get_log10σsq(p0;k=i) for i=1:8]\n",
    "    σs = .√(10 .^(σs))\n",
    "    \n",
    "    #  Define normals\n",
    "    Ns = [Normal(μs[i],σs[i]) for i=1:8]\n",
    "    \n",
    "    #  Aggregate contribution of mixture pdfs over the observed unfoldings for EC19-20\n",
    "    tmp = 0.\n",
    "    for ℓ=1:8\n",
    "        tmp = tmp + log( sum( ws[js[ℓ]].*pdf.(Ns,xs[ℓ]) ) )\n",
    "    end\n",
    "    \n",
    "    val = val + tmp\n",
    "    \n",
    "    # 3.\n",
    "    #  Aggregate contribution of mixtures over observed unfolding for EC17-25\n",
    "    tmp = 0.\n",
    "    for ℓ=1:4\n",
    "        tmp = tmp + (8-1)*mylog( 1 - sum( ws[js[ℓ]].*cdf.(Ns,ys[ℓ]) ) ) + log( sum( ws[js[ℓ]].*pdf.(Ns,ys[ℓ]) ) )\n",
    "    end\n",
    "    \n",
    "    val = val + tmp\n",
    "    \n",
    "    return val\n",
    "end;"
   ]
  },
  {
   "cell_type": "code",
   "execution_count": null,
   "id": "7102e954",
   "metadata": {},
   "outputs": [],
   "source": [
    "function gibbssmp_w!(rng,p0)\n",
    "    aptrate = 0\n",
    "    # cycle MH proposing from conditonal prior\n",
    "    α0 = get_α(p0)\n",
    "    P0 = get_P0()\n",
    "    D = Dirichlet(α0*P0)\n",
    "    \n",
    "    for ℓ=1:8\n",
    "        wi0 = get_w(p0;k=ℓ)\n",
    "        \n",
    "        # conditional prior propose wi | α\n",
    "        wi = rand(rng,D)\n",
    "        \n",
    "        # compute mh ratio\n",
    "        logπ0 = logπ_w(p0;k=ℓ)\n",
    "        set_w!(p0,wi;k=ℓ); logπ = logπ_w(p0;k=ℓ)\n",
    "        \n",
    "        coin = rand(rng) |> log\n",
    "        if coin <= (logπ + logpdf(D,wi0))-(logπ0 + logpdf(D,wi))\n",
    "            # accept\n",
    "            aptrate += 1\n",
    "        else\n",
    "            # reject\n",
    "            set_w!(p0,wi0;k=ℓ)\n",
    "        end\n",
    "    end\n",
    "    \n",
    "    return aptrate/8\n",
    "end;"
   ]
  },
  {
   "cell_type": "markdown",
   "id": "1b71f679",
   "metadata": {},
   "source": [
    "#### Gibbs sampler for concentration parameter of how many unfolding event profiles are present across $\\mathrm{Ca}^{2+}$ states\n",
    "The relevant factors are\n",
    "1. Concentration parameter for how many unfolding event profiles are actually present across $\\mathrm{Ca}^{2+}$ states <br>\n",
    "$\\beta\\sim\\Gamma\\left(1,1\\right)1_{\\left[0.1,\\infty\\right)}$.\n",
    "2. Pmf for how the unfolding event profiles are distributed throughout the $\\mathrm{Ca}^{2+}$ states <br>\n",
    "$\\theta\\left.\\right|\\beta \\sim\\mathrm{Dirichlet}\\left(\\beta\\left(\\frac{1}{8},\\ldots,\\frac{1}{8}\\right)\\right)$."
   ]
  },
  {
   "cell_type": "code",
   "execution_count": null,
   "id": "851991c1",
   "metadata": {},
   "outputs": [],
   "source": [
    "function logπ_β(p0)\n",
    "    # 1.\n",
    "    β = get_β(p0)\n",
    "    \n",
    "    Γ = Gamma(1,1)\n",
    "    val = logpdf(Γ,β)\n",
    "    if val == -Inf\n",
    "        return val\n",
    "    end\n",
    "    \n",
    "    if β < 0.1\n",
    "        return -Inf\n",
    "    end\n",
    "    \n",
    "    # 2. \n",
    "    θ = get_θ(p0)\n",
    "    \n",
    "    P0 = get_P0()\n",
    "    D = Dirichlet(β*P0)\n",
    "    \n",
    "    val = val + logpdf(D,θ)\n",
    "    \n",
    "    return val\n",
    "end;"
   ]
  },
  {
   "cell_type": "code",
   "execution_count": null,
   "id": "d56ce7fe",
   "metadata": {},
   "outputs": [],
   "source": [
    "function gibbssmp_β!(rng,p0)\n",
    "    aptrate = 0\n",
    "    # sample by MH random walk\n",
    "    β0 = get_β(p0)\n",
    "    \n",
    "    # propose by random walk\n",
    "    β = β0 + 0.1*randn(rng)\n",
    "    \n",
    "    # compute mh ratio\n",
    "    logπ0 = logπ_β(p0)\n",
    "    set_β!(p0,β); logπ = logπ_β(p0)\n",
    "    \n",
    "    coin = rand(rng) |> log\n",
    "    if coin <= logπ - logπ0\n",
    "        # accept\n",
    "        aptrate += 1\n",
    "    else\n",
    "        # reject\n",
    "        set_β!(p0,β0)\n",
    "    end\n",
    "    \n",
    "    return aptrate\n",
    "end;"
   ]
  },
  {
   "cell_type": "markdown",
   "id": "c5705585",
   "metadata": {},
   "source": [
    "#### Gibbs conditional sample the pmf for how unfolding profiles are distributed through $\\mathrm{Ca}^{2+}$ states\n",
    "The relevant factors are\n",
    "1. Pmf for how the unfolding event profiles are distributed throughout the $\\mathrm{Ca}^{2+}$ states <br>\n",
    "$\\theta\\left.\\right|\\beta \\sim\\mathrm{Dirichlet}\\left(\\beta\\left(\\frac{1}{8},\\ldots,\\frac{1}{8}\\right)\\right)$.\n",
    "2. Assignment of $\\mathrm{Ca}^{2+}$ state $i$ to a profile <br>\n",
    "$j_i\\left.\\right|\\theta \\sim_{\\mathrm{iid}}\\mathrm{Categorical}\\left(\\theta\\right)$."
   ]
  },
  {
   "cell_type": "code",
   "execution_count": null,
   "id": "5e4a3a94",
   "metadata": {},
   "outputs": [],
   "source": [
    "# Gibbs sample by conjugate prior\n",
    "function gibbssmp_θ!(rng,p0)\n",
    "    β = get_β(p0)\n",
    "    P0 = get_P0()\n",
    "    \n",
    "    # compute the frequency vector of how states were assigned to profiles\n",
    "    #  Get assignment of Ca2+ states to profiles\n",
    "    js = @SVector [Int64(get_j(p0;k=i)) for i=1:8]\n",
    "    \n",
    "    η = @SVector [sum(js.==i) for i=1:8]\n",
    "    \n",
    "    # sample using conjugate prior\n",
    "    D = Dirichlet(β*P0+η)\n",
    "    θ = rand(rng,D)\n",
    "    \n",
    "    set_θ!(p0,θ)\n",
    "end;"
   ]
  },
  {
   "cell_type": "markdown",
   "id": "d16683c2",
   "metadata": {},
   "source": [
    "#### Gibbs conditional sample the assignment of $\\mathrm{Ca}^{2+}$ states to an unfolding profile\n",
    "The relevant factors are\n",
    "1. Assignment of $\\mathrm{Ca}^{2+}$ state $i$ to a profile <br>\n",
    "$j_i\\left.\\right|\\theta \\sim_{\\mathrm{iid}}\\mathrm{Categorical}\\left(\\theta\\right)$.\n",
    "2. Observed unfolding force at $\\mathrm{Ca}^{2+}$ state $i$ <br>\n",
    "$x_i\\left.\\right|j_i,w_{j_i},\\vec{\\mu},\\vec{\\sigma} \\sim \\sum_k w_{kj_i}\\mathrm{pdf}_{\\mathcal{N}\\left(\\mu_k,\\sigma_k\\right)}(x_i)$.\n",
    "3. Observed EC17-25 unfolding force at $\\mathrm{Ca}^{2+}$ state $i$ with $n$ the number of linker regions<br>\n",
    "$y_i \\left.\\right|j_i,w_{j_i},\\vec{\\mu},\\vec{\\sigma} \\sim n \\left(1-\\mathrm{cdf}_{\\sum_k w_{kj_i}\\mathrm{pdf}_{\\mathcal{N}\\left(\\mu_k,\\sigma_k\\right)}}(y_i)\\right)^{n-1}\\mathrm{pdf}_{\\sum_k w_{kj_i}\\mathrm{pdf}_{\\mathcal{N}\\left(\\mu_k,\\sigma_k\\right)}}(y_i)$."
   ]
  },
  {
   "cell_type": "code",
   "execution_count": null,
   "id": "4c41db20",
   "metadata": {},
   "outputs": [],
   "source": [
    "# Sample by its conditional via explicit normalization of pmf\n",
    "function gibbssmp_j!(rng,p0;xs=xs,ys=ys)\n",
    "    #  Get candidate event frequency profiles\n",
    "    ws = [get_w(p0;k=i) for i=1:8]\n",
    "\n",
    "    #  Get means\n",
    "    μs = @SVector [get_μ(p0;k=i) for i=1:8]\n",
    "    \n",
    "    #  Get variances \n",
    "    σs = @SVector [get_log10σsq(p0;k=i) for i=1:8]\n",
    "    σs = .√(10 .^(σs))\n",
    "    \n",
    "    #  Define normals\n",
    "    Ns = [Normal(μs[i],σs[i]) for i=1:8]\n",
    "    \n",
    "    # 1.\n",
    "    θ = get_θ(p0)\n",
    "    \n",
    "    # Cycle gibbs sampling over assignments of each Ca²⁺ state, ie each component of j indexed by ℓ\n",
    "    for ℓ=1:8\n",
    "        # 2.\n",
    "        tmp1 = @SVector [sum(ws[i].*pdf.(Ns,xs[ℓ])) for i=1:8]\n",
    "        \n",
    "        # 3.\n",
    "        if ℓ<= 4\n",
    "                tmp2 = @SVector [sum(ws[i].*cdf.(Ns,ys[ℓ])) for i=1:8]\n",
    "                tmp3 = @SVector [sum(ws[i].*pdf.(Ns,ys[ℓ])) for i=1:8]\n",
    "                    \n",
    "            tmp1 = tmp1.*(1 .- tmp2).^7 .*tmp3\n",
    "        end\n",
    "        \n",
    "        # normalize the distribution and sample\n",
    "        λ = θ.*tmp1; λ = mypos.(λ); Λ = sum(λ); λ = λ/Λ\n",
    "        C = Categorical(λ)\n",
    "        \n",
    "        jℓ = rand(rng,C)\n",
    "        set_j!(p0,jℓ;k=ℓ)\n",
    "    end\n",
    "end;"
   ]
  },
  {
   "cell_type": "markdown",
   "id": "523ccb27",
   "metadata": {},
   "source": [
    "## Run MCMC"
   ]
  },
  {
   "cell_type": "code",
   "execution_count": null,
   "id": "8aa71a1a",
   "metadata": {},
   "outputs": [],
   "source": [
    "# MCMC runs\n",
    "nchains = 4; \n",
    "nsmps = 100000;\n",
    "\n",
    "# Burn in and chain splitting parameters\n",
    "burn = nsmps÷2\n",
    "split = nsmps÷4\n",
    "\n",
    "# Plotting parameters\n",
    "nmcmcstep = nsmps÷25000;\n",
    "ntracestep = nsmps÷1000;"
   ]
  },
  {
   "cell_type": "code",
   "execution_count": null,
   "id": "309738e7",
   "metadata": {},
   "outputs": [],
   "source": [
    "SMPS = Vector{Matrix{Float64}}(undef,nchains)\n",
    "p0 = Vector{Float64}(undef,98); smps = Matrix{Float64}(undef,98,nsmps);\n",
    "aptrates = Vector{Dict{Symbol,Float64}}(undef,nchains)\n",
    "for chn=1:nchains\n",
    "    println(\"Beginning chain $(chn)...\")\n",
    "    gibbssmp_p0!(rng,p0)\n",
    "    smps[:,1] .= p0\n",
    "    aptrates[chn] = Dict{Symbol,Float64}(:μ=>0,:log10σsq=>0,:α=>0,:w=>0,:β=>0)\n",
    "    \n",
    "    prg = 0.; δprg = 0.05\n",
    "    for ℓ=2:nsmps\n",
    "        # cycle kernels\n",
    "        aptrates[chn][:μ] += gibbssmp_μ!(rng,p0)\n",
    "        aptrates[chn][:log10σsq] += gibbssmp_log10σsq!(rng,p0)\n",
    "        aptrates[chn][:α] += gibbssmp_α!(rng,p0)\n",
    "        aptrates[chn][:w] += gibbssmp_w!(rng,p0)\n",
    "        aptrates[chn][:β] += gibbssmp_β!(rng,p0)\n",
    "        gibbssmp_θ!(rng,p0)\n",
    "        gibbssmp_j!(rng,p0)\n",
    "        \n",
    "        smps[:,ℓ] .= p0\n",
    "        \n",
    "        while ℓ/nsmps >= prg + δprg\n",
    "            prg += δprg\n",
    "            println(\"Progress through samples $(prg)\")\n",
    "        end\n",
    "    end\n",
    "    SMPS[chn] = copy(smps)\n",
    "    println(\"\")\n",
    "end\n",
    "\n",
    "for chn=1:nchains\n",
    "    for key in keys(aptrates[chn])\n",
    "        aptrates[chn][key] *= 1/nsmps\n",
    "    end\n",
    "end;"
   ]
  },
  {
   "cell_type": "markdown",
   "id": "dff322cf",
   "metadata": {},
   "source": [
    "### Analyze results\n",
    "Parameters are ordered like $p = \\left(\\vec{\\mu},\\log_{10}\\vec{\\sigma}^2,\\alpha,\\vec{w}_1,\\ldots,\\vec{w}_8,\\beta,\\vec{\\theta},\\vec{j}\\right)$."
   ]
  },
  {
   "cell_type": "markdown",
   "id": "5a000d73",
   "metadata": {},
   "source": [
    "#### MH acceptance rates"
   ]
  },
  {
   "cell_type": "code",
   "execution_count": null,
   "id": "d08cbac9",
   "metadata": {},
   "outputs": [],
   "source": [
    "prms = [key for key in keys(aptrates[1])];\n",
    "M = [aptrates[j][prms[i]] for i=1:length(prms),j=1:nchains]\n",
    "dfapt = DataFrame(hcat(prms,M),[\"parameters\",[\"chain $(i)\" for i=1:nchains]...])"
   ]
  },
  {
   "cell_type": "markdown",
   "id": "0ee09924",
   "metadata": {},
   "source": [
    "#### Gelman-Rubin convergence statistic"
   ]
  },
  {
   "cell_type": "code",
   "execution_count": null,
   "id": "fb1c15e3",
   "metadata": {},
   "outputs": [],
   "source": [
    "# Discard burn-in\n",
    "for chn=1:nchains\n",
    "    SMPS[chn] = SMPS[chn][:,burn+1:end]\n",
    "end"
   ]
  },
  {
   "cell_type": "code",
   "execution_count": null,
   "id": "5f1432b7",
   "metadata": {},
   "outputs": [],
   "source": [
    "# Split into half-chains\n",
    "HALF = vcat(SMPS,SMPS)\n",
    "for ℓ=1:2nchains\n",
    "    if ℓ<=nchains\n",
    "        HALF[ℓ] = HALF[ℓ][:,1:split]\n",
    "    else\n",
    "        HALF[ℓ] = HALF[ℓ][:,(split+1):(2split)]\n",
    "    end\n",
    "end;"
   ]
  },
  {
   "cell_type": "code",
   "execution_count": null,
   "id": "4bc5a6a7",
   "metadata": {},
   "outputs": [],
   "source": [
    "function gr̂(HALF...)\n",
    "    nchains = length(HALF); nprm,nsmps = size(HALF[1])\n",
    "    # sample averages within a chain\n",
    "    xbar = Matrix{Float64}(undef,nprm,nchains)\n",
    "    for ℓ=1:nchains\n",
    "        xbar[:,ℓ] = sum(HALF[ℓ],dims=2)/nsmps\n",
    "    end\n",
    "    \n",
    "    # overall sample average across all chains\n",
    "    xbarbar = sum(xbar,dims=2)/nchains\n",
    "    \n",
    "    # sample variances within a chain\n",
    "    var = Matrix{Float64}(undef,nprm,nchains)\n",
    "    for ℓ=1:nchains\n",
    "        var[:,ℓ] = 1/(nsmps-1)*sum((HALF[ℓ] .-xbar[:,ℓ]).^2,dims=2)\n",
    "    end\n",
    "    \n",
    "    # average sample variance within a chain\n",
    "    W = sum(var,dims=2)/nchains\n",
    "    \n",
    "    # Between chain variance (ie variance of the chain sample means)\n",
    "    varbar = 1/(nchains-1)*sum((xbar .- xbarbar).^2,dims=2)\n",
    "    B = nsmps*varbar\n",
    "    \n",
    "    R̂ = (nsmps-1)/nsmps*W+1/nsmps*B\n",
    "    R̂ = .√(R̂./W)\n",
    "    \n",
    "    return R̂\n",
    "end;"
   ]
  },
  {
   "cell_type": "code",
   "execution_count": null,
   "id": "0547ee90",
   "metadata": {},
   "outputs": [],
   "source": [
    "R̂ = gr̂(HALF...);"
   ]
  },
  {
   "cell_type": "code",
   "execution_count": null,
   "id": "ca4f7113",
   "metadata": {},
   "outputs": [],
   "source": [
    "# Other parameters may have poor Rhat's because of the mixture labeling problem\n",
    "dfrhat = DataFrame(hcat([:α,:β],R̂[[17,82]]),[\"parameters\",\"Rhat\"])"
   ]
  },
  {
   "cell_type": "markdown",
   "id": "e4861f24",
   "metadata": {},
   "source": [
    "#### Posterior histograms and trace plots"
   ]
  },
  {
   "cell_type": "code",
   "execution_count": null,
   "id": "f29b357e",
   "metadata": {},
   "outputs": [],
   "source": [
    "# stack half chains into one\n",
    "smps = hcat(HALF...);"
   ]
  },
  {
   "cell_type": "code",
   "execution_count": null,
   "id": "334aad7f",
   "metadata": {},
   "outputs": [],
   "source": [
    "αs = [get_α(smps[:,ℓ]) for ℓ=1:nsmps]\n",
    "p1_α = histogram(αs[1:nmcmcstep:end],labels=\"\",normalize=:pdf,alpha=0.5,linewidth=0,linecolor=:white,\n",
    "                 xlabel=\"α\",ylabel=\"pdf\")\n",
    "p2_α = plot(αs[1:ntracestep:end],labels=\"\",ylabel=\"α\",xlabel=\"sample\")\n",
    "plot(p1_α,p2_α,size=(700,200),margin=4mm)"
   ]
  },
  {
   "cell_type": "code",
   "execution_count": null,
   "id": "ca923488",
   "metadata": {},
   "outputs": [],
   "source": [
    "βs = [get_β(smps[:,ℓ]) for ℓ=1:nsmps]\n",
    "p1_β = histogram(βs[1:nmcmcstep:end],labels=\"\",normalize=:pdf,alpha=0.5,linewidth=0,linecolor=:white,\n",
    "                 xlabel=\"β\",ylabel=\"pdf\")\n",
    "p2_β = plot(βs[1:ntracestep:end],labels=\"\",ylabel=\"β\",xlabel=\"sample\")\n",
    "plot(p1_β,p2_β,size=(700,200),margin=4mm)"
   ]
  },
  {
   "cell_type": "code",
   "execution_count": null,
   "id": "bbcf8071",
   "metadata": {},
   "outputs": [],
   "source": [
    "js = [length(unique([get_j(smps[:,ℓ];k=i) for i=1:8])) for ℓ=1:nsmps]\n",
    "p1_js = histogram(js[1:nmcmcstep:end],labels=\"\",normalize=:probability,alpha=0.5,linewidth=0,linecolor=:white,\n",
    "                  xlabel=\"# js\",ylabel=\"pmf\")\n",
    "    p2_js = plot(js[1:ntracestep:end],labels=\"\",ylabel=\"# js\",xlabel=\"sample\")\n",
    "plot(p1_js,p2_js,size=(700,200),margin=4mm)"
   ]
  },
  {
   "cell_type": "code",
   "execution_count": null,
   "id": "80b75eaa",
   "metadata": {},
   "outputs": [],
   "source": [
    "ufrc = Matrix{Float64}(undef,8,nsmps)\n",
    "for ℓ=1:nsmps\n",
    "    p0 = @view smps[:,ℓ]\n",
    "    jℓ = @SVector [get_j(p0;k=i) for i=1:8]\n",
    "    \n",
    "    # sample unfolding force for each Ca2+ state\n",
    "    for i=1:8\n",
    "        # grab weights associated to this state\n",
    "        ws = get_w(p0;k=Int64(jℓ[i]))\n",
    "        \n",
    "        # decide which component to sample\n",
    "        C = Categorical(ws)\n",
    "        id = rand(rng,C)\n",
    "        \n",
    "        # grab hyperparameters for this normal component\n",
    "        μid = get_μ(p0;k=id); log10σsqid = get_log10σsq(p0;k=id); σid = √(10^(log10σsqid))\n",
    "        ufrc[i,ℓ] = μid + σid*randn(rng)\n",
    "    end\n",
    "end;     "
   ]
  },
  {
   "cell_type": "markdown",
   "id": "5968c58e",
   "metadata": {},
   "source": [
    "#### $\\mathrm{Ca}^{2+}$ state posterior forces for EC19-20"
   ]
  },
  {
   "cell_type": "code",
   "execution_count": null,
   "id": "860d8866",
   "metadata": {},
   "outputs": [],
   "source": [
    "lbl = [\"p000\",\"p001\",\"p011\",\"p111\",\"p010\",\"p100\",\"p101\",\"p110\"]\n",
    "p1_ufrc = [histogram(ufrc[i,1:nmcmcstep:end],normalize=:pdf,alpha=0.5,linecolor=:white,linewidth=0,labels=lbl[i],\n",
    "           xlabel=\"force (pN)\",ylabel=\"density\") for i=1:8]\n",
    "for ℓ=1:8\n",
    "    scatter!(p1_ufrc[ℓ],[xs[ℓ]],[0],markersize=6,marker=:o,labels=\"\")\n",
    "end\n",
    "p2_ufrc = [plot(ufrc[i,1:ntracestep:end],labels=lbl[i],\n",
    "           ylabel=\"force (pN)\",xlabel=\"sample\") for i=1:8];"
   ]
  },
  {
   "cell_type": "code",
   "execution_count": null,
   "id": "dc133030",
   "metadata": {},
   "outputs": [],
   "source": [
    "lay = @layout [a b c d;e f g h]\n",
    "plot(p1_ufrc...,layout=lay,margin=10mm,size=(4*450,500))"
   ]
  },
  {
   "cell_type": "code",
   "execution_count": null,
   "id": "0e2865af",
   "metadata": {},
   "outputs": [],
   "source": [
    "savefig(\"unfoldingforce_byevent.png\");\n",
    "savefig(\"unfoldingforce_byevent.pdf\");"
   ]
  },
  {
   "cell_type": "code",
   "execution_count": null,
   "id": "39b5b900",
   "metadata": {},
   "outputs": [],
   "source": [
    "lay = @layout [a b c d;e f g h]\n",
    "plot(p2_ufrc...,layout=lay,margin=10mm,size=(4*450,500))"
   ]
  },
  {
   "cell_type": "markdown",
   "id": "6100c032",
   "metadata": {},
   "source": [
    "#### Unfolding force histograms for paper"
   ]
  },
  {
   "cell_type": "code",
   "execution_count": null,
   "id": "4793e443",
   "metadata": {},
   "outputs": [],
   "source": [
    "p3_ufrc =  plot()\n",
    "for ℓ=1:4\n",
    "    histogram!(ufrc[ℓ,1:nmcmcstep:end],normalize=:pdf,alpha=0.5,linecolor=:white,linewidth=0,labels=lbl[ℓ],\n",
    "              xlabel=\"force (pN)\",ylabel=\"density\",size=(350,200),xlims=(500,1500),ylims=(0,0.0075),legend=:topleft)\n",
    "end\n",
    "plot!(p3_ufrc,inset=(1,bbox(0,0,0.475,0.325,:top,:right)));\n",
    "for ℓ=1:4\n",
    "    histogram!(p3_ufrc[2],ufrc[ℓ,1:nmcmcstep:end],normalize=:pdf,alpha=0.5,linecolor=:white,linewidth=0,labels=\"\",xlims=(500,1500))\n",
    "end\n",
    "\n",
    "\n",
    "p4_ufrc = plot()\n",
    "for ℓ=5:8\n",
    "    histogram!(ufrc[ℓ,1:nmcmcstep:end],normalize=:pdf,alpha=0.5,linecolor=:white,linewidth=0,labels=lbl[ℓ],\n",
    "              xlabel=\"force (pN)\",ylabel=\"density\",size=(350,200),xlims=(500,1500),ylims=(0.000,0.0075),legend=:bottomright)\n",
    "end\n",
    "plot!(p4_ufrc,inset=(1,bbox(0,0,0.475,0.325,:top,:right)));\n",
    "for ℓ=5:8\n",
    "    histogram!(p4_ufrc[2],ufrc[ℓ,1:nmcmcstep:end],normalize=:pdf,alpha=0.5,linecolor=:white,linewidth=0,labels=\"\",xlims=(500,1500))\n",
    "end"
   ]
  },
  {
   "cell_type": "code",
   "execution_count": null,
   "id": "4fbf4352",
   "metadata": {},
   "outputs": [],
   "source": [
    "plot(p3_ufrc,size=(450,300),margin=4mm)"
   ]
  },
  {
   "cell_type": "code",
   "execution_count": null,
   "id": "6003cb1b",
   "metadata": {},
   "outputs": [],
   "source": [
    "savefig(\"unfoldingforceposterior_typicals.png\");\n",
    "savefig(\"unfoldingforceposterior_typicals.pdf\");"
   ]
  },
  {
   "cell_type": "code",
   "execution_count": null,
   "id": "3cffced4",
   "metadata": {},
   "outputs": [],
   "source": [
    "plot(p4_ufrc,size=(450,300),margin=4mm)"
   ]
  },
  {
   "cell_type": "code",
   "execution_count": null,
   "id": "be72c566",
   "metadata": {},
   "outputs": [],
   "source": [
    "savefig(\"unfoldingforceposterior_atypicals.png\");\n",
    "savefig(\"unfoldingforceposterior_atypicals.pdf\");"
   ]
  },
  {
   "cell_type": "markdown",
   "id": "25973f80",
   "metadata": {},
   "source": [
    "#### $\\mathrm{Ca}^{2+}$ state posterior forces for EC17-25"
   ]
  },
  {
   "cell_type": "code",
   "execution_count": null,
   "id": "226172e6",
   "metadata": {},
   "outputs": [],
   "source": [
    "NL = 8\n",
    "ufrc_1725 = Matrix{Float64}(undef,4,nsmps)\n",
    "for ℓ=1:nsmps\n",
    "    p0 = @view smps[:,ℓ]\n",
    "    jℓ = @SVector [get_j(p0;k=i) for i=1:8]\n",
    "    \n",
    "    # sample unfolding force for each Ca2+ state\n",
    "    for i=1:4\n",
    "        # grab weights associated to this state\n",
    "        ws = get_w(p0;k=Int64(jℓ[i]))\n",
    "        C = Categorical(ws)\n",
    "        \n",
    "        mnr = Inf\n",
    "        for j=1:NL\n",
    "            # decide which component to sample\n",
    "            id = rand(rng,C)\n",
    "            \n",
    "            # grab hyperparameters for this normal component\n",
    "            μid = get_μ(p0;k=id); log10σsqid = get_log10σsq(p0;k=id); σid = √(10^(log10σsqid))\n",
    "            \n",
    "            # see if this component is new min\n",
    "            trial = μid + σid*randn(rng)\n",
    "            mnr = trial < mnr ? trial : mnr\n",
    "        end\n",
    "        \n",
    "        ufrc_1725[i,ℓ] = mnr \n",
    "    end\n",
    "end;"
   ]
  },
  {
   "cell_type": "code",
   "execution_count": null,
   "id": "e593a407",
   "metadata": {},
   "outputs": [],
   "source": [
    "lbl = [\"p000\",\"p001\",\"p011\",\"p111\"]\n",
    "p1_ufrc_1725 = [histogram(ufrc_1725[i,1:nmcmcstep:end],normalize=:pdf,alpha=0.5,linecolor=:white,linewidth=0,labels=lbl[i],\n",
    "           xlabel=\"force (pN)\",ylabel=\"density\") for i=1:4]\n",
    "for ℓ=1:4\n",
    "    scatter!(p1_ufrc_1725[ℓ],[ys[ℓ]],[0],markersize=6,marker=:o,labels=\"\")\n",
    "end\n",
    "p2_ufrc_1725 = [plot(ufrc_1725[i,1:ntracestep:end],labels=lbl[i],\n",
    "           ylabel=\"force (pN)\",xlabel=\"density\") for i=1:4];"
   ]
  },
  {
   "cell_type": "code",
   "execution_count": null,
   "id": "cf63f4e5",
   "metadata": {},
   "outputs": [],
   "source": [
    "lay = @layout [a b c d]\n",
    "plot(p1_ufrc_1725...,layout=lay,margin=10mm,size=(4*450,250))"
   ]
  },
  {
   "cell_type": "code",
   "execution_count": null,
   "id": "c95dc3d9",
   "metadata": {},
   "outputs": [],
   "source": [
    "savefig(\"unfoldingforceEC17-25_byevent.png\");\n",
    "savefig(\"unfoldingforceEC17-25_byevent.pdf\");"
   ]
  },
  {
   "cell_type": "markdown",
   "id": "d11c2f19",
   "metadata": {},
   "source": [
    "#### $\\hat{R}$ for posterior predictive unfolding force distributions at each $\\mathrm{Ca}^{2+}$ configuration"
   ]
  },
  {
   "cell_type": "code",
   "execution_count": null,
   "id": "ff7f46e4",
   "metadata": {},
   "outputs": [],
   "source": [
    "FSMPS = similar(HALF)\n",
    "ufrc = Matrix{Float64}(undef,8,split)\n",
    "for c=1:2nchains\n",
    "    tmp = HALF[c]\n",
    "    ntmp = size(tmp)[2]\n",
    "    for ℓ=1:ntmp\n",
    "        p0 = @view tmp[:,ℓ]\n",
    "        jℓ = @SVector [get_j(p0;k=i) for i=1:8]\n",
    "        \n",
    "        # sample unfolding force for each Ca2+ state\n",
    "        for i=1:8\n",
    "            # grab weights associated to this state\n",
    "            ws = get_w(p0;k=Int64(jℓ[i]))\n",
    "                \n",
    "            # decide which component to sample\n",
    "            C = Categorical(ws)\n",
    "            id = rand(rng,C)\n",
    "            \n",
    "            # grab hyperparameters for this normal component\n",
    "            μid = get_μ(p0;k=id); log10σsqid = get_log10σsq(p0;k=id); σid = √(10^(log10σsqid))\n",
    "            ufrc[i,ℓ] = μid + σid*randn(rng)\n",
    "        end\n",
    "    end\n",
    "    FSMPS[c] = copy(ufrc)\n",
    "end; "
   ]
  },
  {
   "cell_type": "code",
   "execution_count": null,
   "id": "6e2eef54",
   "metadata": {},
   "outputs": [],
   "source": [
    "lbl = [\"p000\",\"p001\",\"p011\",\"p111\",\"p010\",\"p100\",\"p101\",\"p110\"]\n",
    "R̂ = gr̂(FSMPS...)\n",
    "dfrhat = DataFrame(hcat(lbl,R̂),[\"Ca²⁺ configurations\",\"R̂\"])"
   ]
  },
  {
   "cell_type": "markdown",
   "id": "c5c418d2",
   "metadata": {},
   "source": [
    "#### Export data for force unfoldings"
   ]
  },
  {
   "cell_type": "code",
   "execution_count": null,
   "id": "c5d0f915",
   "metadata": {},
   "outputs": [],
   "source": [
    "smps_μ = Matrix{Float64}(undef,8,nsmps)\n",
    "smps_σ = Matrix{Float64}(undef,8,nsmps)\n",
    "smps_j = Matrix{Float64}(undef,8,nsmps)\n",
    "smps_w = Matrix{Float64}(undef,64,nsmps)\n",
    "for ℓ=1:nsmps\n",
    "    p0 = @view smps[:,ℓ]\n",
    "    smps_μ[:,ℓ] .= [get_μ(p0;k=i) for i=1:8]\n",
    "    smps_σ[:,ℓ] .= .√(10 .^([get_log10σsq(p0;k=i) for i=1:8]))\n",
    "    smps_j[:,ℓ] .= [get_j(p0;k=i) for i=1:8]\n",
    "    for blk=1:8\n",
    "        smps_w[8*(blk-1)+1:8*blk,ℓ] .= get_w(p0;k=blk)\n",
    "    end\n",
    "end"
   ]
  },
  {
   "cell_type": "code",
   "execution_count": null,
   "id": "40bb18f1",
   "metadata": {},
   "outputs": [],
   "source": [
    "# reorder to match Ca2+ site probabilities notebook:\n",
    "#  current order: p000 p001 p011 p111 p010 p100 p101 p110\n",
    "#  new order: p010 p100 p101 p110 p000 p001 p011 p111\n",
    "# you only need to change the j ordering because the mixture events are\n",
    "# independent of how Ca2+ configurations are assigned to them.\n",
    "σperm = [5,6,7,8,1,2,3,4]\n",
    "for ℓ=1:nsmps\n",
    "    smps_j[:,ℓ] = smps_j[σperm,ℓ]\n",
    "end\n",
    "M = vcat(smps_μ,smps_σ,smps_j,smps_w);"
   ]
  },
  {
   "cell_type": "code",
   "execution_count": null,
   "id": "f54df59b",
   "metadata": {},
   "outputs": [],
   "source": [
    "df = DataFrame(M,:auto);\n",
    "CSV.write(\"gibbssmps_unfoldinghypers.csv\",df);"
   ]
  },
  {
   "cell_type": "markdown",
   "id": "9399ebe9-177e-47bd-acf3-2bddbbfd040c",
   "metadata": {},
   "source": [
    "### Restore the relevant sample values for regenerating figure plots from earlier MCMC runs"
   ]
  },
  {
   "cell_type": "code",
   "execution_count": null,
   "id": "0b299ea6-3341-4db8-9215-a52bbd0379b9",
   "metadata": {},
   "outputs": [],
   "source": [
    "df = CSV.read(\"gibbssmps_unfoldinghypers.csv\",DataFrame); rng = MersenneTwister();\n",
    "nsmps = ncol(df)\n",
    "smps = Matrix{Float64}(undef,98,nsmps);\n",
    "M_μσjw = [df[i,j] for i=1:nrow(df),j=1:ncol(df)];"
   ]
  },
  {
   "cell_type": "code",
   "execution_count": null,
   "id": "2911b7f6-fa38-45ec-9890-3388fe2835a3",
   "metadata": {},
   "outputs": [],
   "source": [
    "for ℓ=1:nsmps\n",
    "    # initialize the irrelevant variables\n",
    "    p0 = @view smps[:,ℓ]\n",
    "    gibbssmp_p0!(rng,p0)\n",
    "\n",
    "    # restore the relevant hypers\n",
    "    for blk=1:8\n",
    "        set_μ!(p0,M_μσjw[blk,ℓ];k=blk)\n",
    "        shift = 8\n",
    "        set_log10σsq!(p0,2*log10(M_μσjw[shift+blk,ℓ]);k=blk)\n",
    "        shift = 24\n",
    "        set_w!(p0,M_μσjw[shift+(blk-1)*8+1:shift+blk*8,ℓ];k=blk)\n",
    "    end\n",
    "\n",
    "    # handle the cluster assignment permutation between notebooks (ie revert back to order of this notebook)\n",
    "    shift = 16\n",
    "    σperm = [5,6,7,8,1,2,3,4]\n",
    "    js = M_μσjw[shift+1:shift+8,ℓ]\n",
    "    js = js[σperm]\n",
    "    for blk=1:8\n",
    "        set_j!(p0,js[blk];k=blk)\n",
    "    end \n",
    "end "
   ]
  },
  {
   "cell_type": "code",
   "execution_count": null,
   "id": "0d46571a-ac1b-4414-99e9-0ac2097f6090",
   "metadata": {},
   "outputs": [],
   "source": [
    "ufrc = Matrix{Float64}(undef,8,nsmps)\n",
    "for ℓ=1:nsmps\n",
    "    p0 = @view smps[:,ℓ]\n",
    "    jℓ = @SVector [get_j(p0;k=i) for i=1:8]\n",
    "    \n",
    "    # sample unfolding force for each Ca2+ state\n",
    "    for i=1:8\n",
    "        # grab weights associated to this state\n",
    "        ws = get_w(p0;k=Int64(jℓ[i]))\n",
    "        \n",
    "        # decide which component to sample\n",
    "        C = Categorical(ws)\n",
    "        id = rand(rng,C)\n",
    "        \n",
    "        # grab hyperparameters for this normal component\n",
    "        μid = get_μ(p0;k=id); log10σsqid = get_log10σsq(p0;k=id); σid = √(10^(log10σsqid))\n",
    "        ufrc[i,ℓ] = μid + σid*randn(rng)\n",
    "    end\n",
    "end;     "
   ]
  },
  {
   "cell_type": "code",
   "execution_count": null,
   "id": "9bfc7752-c739-4ac7-9c95-efe3a2cefcc2",
   "metadata": {},
   "outputs": [],
   "source": [
    "lbl = [\"p000\",\"p001\",\"p011\",\"p111\",\"p010\",\"p100\",\"p101\",\"p110\"]\n",
    "p1_ufrc = [histogram(ufrc[i,1:nmcmcstep:end],normalize=:pdf,alpha=0.5,linecolor=:white,linewidth=0,labels=lbl[i],\n",
    "           xlabel=\"force (pN)\",ylabel=\"density\") for i=1:8]\n",
    "for ℓ=1:8\n",
    "    scatter!(p1_ufrc[ℓ],[xs[ℓ]],[0],markersize=6,marker=:o,labels=\"\")\n",
    "end\n",
    "p2_ufrc = [plot(ufrc[i,1:ntracestep:end],labels=lbl[i],\n",
    "           ylabel=\"force (pN)\",xlabel=\"sample\") for i=1:8];"
   ]
  },
  {
   "cell_type": "code",
   "execution_count": null,
   "id": "8cc597fd-d2bd-41dd-be30-1c636f5c1667",
   "metadata": {},
   "outputs": [],
   "source": [
    "lay = @layout [a b; c d;e f; g h]\n",
    "plot(p1_ufrc...,layout=lay,margin=10mm,size=(2*450,2*500))"
   ]
  },
  {
   "cell_type": "code",
   "execution_count": null,
   "id": "ffaaef8e-4474-4cb0-a637-901b4754c03f",
   "metadata": {},
   "outputs": [],
   "source": [
    "savefig(\"unfoldingforce_byevent_reload.png\");\n",
    "savefig(\"unfoldingforce_byevent_reload.pdf\");"
   ]
  },
  {
   "cell_type": "code",
   "execution_count": null,
   "id": "d73866a9-62e3-4692-8476-df2b7ac7f848",
   "metadata": {},
   "outputs": [],
   "source": [
    "lay = @layout [a b c d;e f g h]\n",
    "plot(p2_ufrc...,layout=lay,margin=10mm,size=(4*450,500))"
   ]
  },
  {
   "cell_type": "code",
   "execution_count": null,
   "id": "6b2a606c-0a02-4553-b69e-eae2404cdcba",
   "metadata": {},
   "outputs": [],
   "source": [
    "p3_ufrc =  plot()\n",
    "for ℓ=1:4\n",
    "    histogram!(ufrc[ℓ,1:nmcmcstep:end],normalize=:pdf,alpha=0.5,linecolor=:white,linewidth=0,labels=lbl[ℓ],\n",
    "              xlabel=\"force (pN)\",ylabel=\"density\",size=(350,200),xlims=(500,1500),ylims=(0,0.0075),legend=:topleft)\n",
    "end\n",
    "plot!(p3_ufrc,inset=(1,bbox(0,0,0.475,0.325,:top,:right)));\n",
    "for ℓ=1:4\n",
    "    histogram!(p3_ufrc[2],ufrc[ℓ,1:nmcmcstep:end],normalize=:pdf,alpha=0.5,linecolor=:white,linewidth=0,labels=\"\",xlims=(500,1500))\n",
    "end\n",
    "\n",
    "\n",
    "p4_ufrc = plot()\n",
    "for ℓ=5:8\n",
    "    histogram!(ufrc[ℓ,1:nmcmcstep:end],normalize=:pdf,alpha=0.5,linecolor=:white,linewidth=0,labels=lbl[ℓ],\n",
    "              xlabel=\"force (pN)\",ylabel=\"density\",size=(350,200),xlims=(500,1500),ylims=(0.000,0.0075),legend=:bottomright)\n",
    "end\n",
    "plot!(p4_ufrc,inset=(1,bbox(0,0,0.475,0.325,:top,:right)));\n",
    "for ℓ=5:8\n",
    "    histogram!(p4_ufrc[2],ufrc[ℓ,1:nmcmcstep:end],normalize=:pdf,alpha=0.5,linecolor=:white,linewidth=0,labels=\"\",xlims=(500,1500))\n",
    "end"
   ]
  },
  {
   "cell_type": "code",
   "execution_count": null,
   "id": "5cf18849-59f0-4f08-9c12-476eef0a0fc5",
   "metadata": {},
   "outputs": [],
   "source": [
    "plot(p3_ufrc,size=(450,300),margin=4mm)"
   ]
  },
  {
   "cell_type": "code",
   "execution_count": null,
   "id": "b13ebbbc-1298-40a5-84d9-8ca832fedca9",
   "metadata": {},
   "outputs": [],
   "source": [
    "savefig(\"unfoldingforceposterior_typicals_reload.png\");\n",
    "savefig(\"unfoldingforceposterior_typicals_reload.pdf\");"
   ]
  },
  {
   "cell_type": "code",
   "execution_count": null,
   "id": "b9094a99-5d35-4ba7-8131-58195e798912",
   "metadata": {},
   "outputs": [],
   "source": [
    "plot(p4_ufrc,size=(450,300),margin=4mm)"
   ]
  },
  {
   "cell_type": "code",
   "execution_count": null,
   "id": "b33099ab-ba47-408d-b972-84ba50c94492",
   "metadata": {},
   "outputs": [],
   "source": [
    "savefig(\"unfoldingforceposterior_atypicals_reload.png\");\n",
    "savefig(\"unfoldingforceposterior_atypicals_reload.pdf\");"
   ]
  },
  {
   "cell_type": "code",
   "execution_count": null,
   "id": "dc4d4ba0-de18-4957-8018-c2f011b001be",
   "metadata": {},
   "outputs": [],
   "source": [
    "NL = 8\n",
    "ufrc_1725 = Matrix{Float64}(undef,4,nsmps)\n",
    "for ℓ=1:nsmps\n",
    "    p0 = @view smps[:,ℓ]\n",
    "    jℓ = @SVector [get_j(p0;k=i) for i=1:8]\n",
    "    \n",
    "    # sample unfolding force for each Ca2+ state\n",
    "    for i=1:4\n",
    "        # grab weights associated to this state\n",
    "        ws = get_w(p0;k=Int64(jℓ[i]))\n",
    "        C = Categorical(ws)\n",
    "        \n",
    "        mnr = Inf\n",
    "        for j=1:NL\n",
    "            # decide which component to sample\n",
    "            id = rand(rng,C)\n",
    "            \n",
    "            # grab hyperparameters for this normal component\n",
    "            μid = get_μ(p0;k=id); log10σsqid = get_log10σsq(p0;k=id); σid = √(10^(log10σsqid))\n",
    "            \n",
    "            # see if this component is new min\n",
    "            trial = μid + σid*randn(rng)\n",
    "            mnr = trial < mnr ? trial : mnr\n",
    "        end\n",
    "        \n",
    "        ufrc_1725[i,ℓ] = mnr \n",
    "    end\n",
    "end;"
   ]
  },
  {
   "cell_type": "code",
   "execution_count": null,
   "id": "a094947d-e6ca-42cd-aee6-7d9f7d6c1b05",
   "metadata": {},
   "outputs": [],
   "source": [
    "lbl = [\"p000\",\"p001\",\"p011\",\"p111\"]\n",
    "p1_ufrc_1725 = [histogram(ufrc_1725[i,1:nmcmcstep:end],normalize=:pdf,alpha=0.5,linecolor=:white,linewidth=0,labels=lbl[i],\n",
    "           xlabel=\"force (pN)\",ylabel=\"density\") for i=1:4]\n",
    "for ℓ=1:4\n",
    "    scatter!(p1_ufrc_1725[ℓ],[ys[ℓ]],[0],markersize=6,marker=:o,labels=\"\")\n",
    "end\n",
    "p2_ufrc_1725 = [plot(ufrc_1725[i,1:ntracestep:end],labels=lbl[i],\n",
    "           ylabel=\"force (pN)\",xlabel=\"density\") for i=1:4];"
   ]
  },
  {
   "cell_type": "code",
   "execution_count": null,
   "id": "316681e4-a254-432e-bf0f-cb435de1b157",
   "metadata": {},
   "outputs": [],
   "source": [
    "lay = @layout [a b; c d]\n",
    "plot(p1_ufrc_1725...,layout=lay,margin=10mm,size=(2*450,2*250))"
   ]
  },
  {
   "cell_type": "code",
   "execution_count": null,
   "id": "5b122cb1-f607-4a82-9795-3266dc6dac50",
   "metadata": {},
   "outputs": [],
   "source": [
    "savefig(\"unfoldingforceEC17-25_byevent_reload.png\");\n",
    "savefig(\"unfoldingforceEC17-25_byevent_reload.pdf\");"
   ]
  },
  {
   "cell_type": "code",
   "execution_count": null,
   "id": "7aefd9d2-c320-4084-9d0d-afea584267d6",
   "metadata": {},
   "outputs": [],
   "source": []
  }
 ],
 "metadata": {
  "kernelspec": {
   "display_name": "Julia 1.9.2",
   "language": "julia",
   "name": "julia-1.9"
  },
  "language_info": {
   "file_extension": ".jl",
   "mimetype": "application/julia",
   "name": "julia",
   "version": "1.9.2"
  }
 },
 "nbformat": 4,
 "nbformat_minor": 5
}
